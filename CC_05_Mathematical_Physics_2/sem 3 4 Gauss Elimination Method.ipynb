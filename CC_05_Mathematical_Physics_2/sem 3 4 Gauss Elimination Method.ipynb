{
 "cells": [
  {
   "cell_type": "markdown",
   "id": "86c3ba7d",
   "metadata": {},
   "source": [
    "## Gauss Elimination Method"
   ]
  },
  {
   "cell_type": "markdown",
   "id": "a18aa1ad",
   "metadata": {},
   "source": [
    "To solve system of linear equations we use Gauss Elimination.\n",
    "$$ AX = B $$\n",
    "Here, we make the *Echelon* form of the matrix A. After that, we can solve the equations by *Back Substitution*. In this we make the matrix $A$ a identity matrix in $[A|B]$ by *Row Operations* and get the solution as matrix $B$ after the whole process."
   ]
  },
  {
   "cell_type": "code",
   "execution_count": 1,
   "id": "035c4957",
   "metadata": {},
   "outputs": [
    {
     "name": "stdout",
     "output_type": "stream",
     "text": [
      "X = [1.449056603773585, 0.49811320754716976, 0.1811320754716981]\n"
     ]
    }
   ],
   "source": [
    "def GaussElim(A):\n",
    "    n = len(A)\n",
    "    a = [[A[i][j] for j in range(len(A[0]))] for i in range(n)]\n",
    "    for i in range(n-1):\n",
    "        mxa = a[i][i]\n",
    "        m = i\n",
    "        for j in range(i+1,n):\n",
    "            if abs(a[j][i])>mxa:\n",
    "                mxa = abs(a[j][i])  # finding the maximum element\n",
    "                m = j\n",
    "        ta = a[i]\n",
    "        a[i] = a[m]\n",
    "        a[m] = ta\n",
    "\n",
    "        for j in range(i+1,n):\n",
    "            cf = a[j][i]/a[i][i]\n",
    "            for k in range(n+1):\n",
    "                a[j][k] = a[j][k] - cf*a[i][k]                \n",
    "# Back substitution\n",
    "    X = [0.0 for i in range(n)]\n",
    "    X[n-1] = a[n-1][n]/a[n-1][n-1]\n",
    "    for i in range(n-2,-1,-1):\n",
    "        sm = 0.0\n",
    "        for j in range(i+1,n):\n",
    "            sm += a[i][j]*X[j]\n",
    "        X[i] = 1.0/a[i][i]*(a[i][n]-sm)\n",
    "    return X\n",
    "\n",
    "# Put the matrix\n",
    "AB = [[-5,16,-4,0],[10,-5,0,12],[0,-4,11,0]]\n",
    "X = GaussElim(AB)\n",
    "print('X =', X)"
   ]
  },
  {
   "cell_type": "markdown",
   "id": "6757ecd1",
   "metadata": {},
   "source": [
    "**Question:** Solve the equations:\n",
    "\n",
    "$$ 3x + 2y + 4z = 7 $$\n",
    "\n",
    "$$ 2x + y + z = 4 $$\n",
    "\n",
    "$$ x + 3y + 5z = 2 $$"
   ]
  },
  {
   "cell_type": "markdown",
   "id": "e65a2b00",
   "metadata": {},
   "source": [
    "**Solution:**"
   ]
  },
  {
   "cell_type": "code",
   "execution_count": 2,
   "id": "a6908dec",
   "metadata": {},
   "outputs": [
    {
     "name": "stdout",
     "output_type": "stream",
     "text": [
      "[x y z] = [2.25, -1.124999999999999, 0.6249999999999994]\n"
     ]
    }
   ],
   "source": [
    "def GaussElim(A):\n",
    "    n = len(A)\n",
    "    a = [[A[i][j] for j in range(len(A[0]))] for i in range(n)]\n",
    "    for i in range(n-1):\n",
    "        mxa = a[i][i]\n",
    "        m = i\n",
    "        for j in range(i+1,n):\n",
    "            if abs(a[j][i])>mxa:\n",
    "                mxa = abs(a[j][i])  # finding the maximum element\n",
    "                m = j\n",
    "        ta = a[i]\n",
    "        a[i] = a[m]\n",
    "        a[m] = ta\n",
    "\n",
    "        for j in range(i+1,n):\n",
    "            cf = a[j][i]/a[i][i]\n",
    "            for k in range(n+1):\n",
    "                a[j][k] = a[j][k] - cf*a[i][k]                \n",
    "# Back substitution\n",
    "    X = [0.0 for i in range(n)]\n",
    "    X[n-1] = a[n-1][n]/a[n-1][n-1]\n",
    "    for i in range(n-2,-1,-1):\n",
    "        sm = 0.0\n",
    "        for j in range(i+1,n):\n",
    "            sm += a[i][j]*X[j]\n",
    "        X[i] = 1.0/a[i][i]*(a[i][n]-sm)\n",
    "    return X\n",
    "\n",
    "# Putting the matrix\n",
    "AB = [[3,2,4,7],[2,1,1,4],[1,3,5,2]]\n",
    "X = GaussElim(AB)\n",
    "print ('[x y z] =', X)"
   ]
  }
 ],
 "metadata": {
  "kernelspec": {
   "display_name": "Python 3 (ipykernel)",
   "language": "python",
   "name": "python3"
  },
  "language_info": {
   "codemirror_mode": {
    "name": "ipython",
    "version": 3
   },
   "file_extension": ".py",
   "mimetype": "text/x-python",
   "name": "python",
   "nbconvert_exporter": "python",
   "pygments_lexer": "ipython3",
   "version": "3.9.13"
  }
 },
 "nbformat": 4,
 "nbformat_minor": 5
}
