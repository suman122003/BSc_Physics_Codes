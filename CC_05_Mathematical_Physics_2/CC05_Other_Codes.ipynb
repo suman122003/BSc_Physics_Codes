{
 "cells": [
  {
   "cell_type": "markdown",
   "id": "cd71ecbb",
   "metadata": {},
   "source": [
    "# PHY-H-CC-P-05 Other Codes"
   ]
  },
  {
   "cell_type": "markdown",
   "id": "88d31759",
   "metadata": {},
   "source": [
    "**Introduction to Numerical computation numpy, \n",
    "scipy/Matlab/Octave/ Scilab**\n",
    "\n",
    "Introduction to the python numpy module. Arrays in numpy, array operations, array item \n",
    "selection, slicing, shaping arrays. Basic linear algebra using the linalg submodule. \n",
    "Introduction to on line graph plotting using matplotlib. Introduction to the scipy module. \n",
    "Uses in optimization and solution of differential equations."
   ]
  },
  {
   "cell_type": "markdown",
   "id": "924f6a34",
   "metadata": {},
   "source": [
    "**Curve fitting, Least square fit, Goodness of fit, standard deviation**\n",
    "\n",
    "Ohms law to calculate R, Hooke's law to calculate spring constant"
   ]
  },
  {
   "cell_type": "markdown",
   "id": "2a1a0908",
   "metadata": {},
   "source": [
    "**Solution of Linear system of equations by Gauss elimination \n",
    "method and Gauss Seidal method. Diagonalization of matrices, \n",
    "Inverse of a matrix, Eigen vectors, eigen values problems**\n",
    "\n",
    "Solution of mesh equations of electric circuits (3 meshes) \n",
    "Solution of coupled spring mass systems (3 masses)"
   ]
  },
  {
   "cell_type": "markdown",
   "id": "cd48dc6b",
   "metadata": {},
   "source": [
    "**Generation of Special functions using User defined functions**\n",
    "\n",
    "Generating and plotting Legendre Polynomials Generating and \n",
    "plotting Bessel function"
   ]
  },
  {
   "cell_type": "markdown",
   "id": "ceaa6aee",
   "metadata": {},
   "source": [
    "**Solution of ODE First order Differential equation Euler, modified Euler and \n",
    "Runge-Kutta second order methods Second order differential equation, Fixed \n",
    "difference method**"
   ]
  },
  {
   "cell_type": "markdown",
   "id": "512c1cea",
   "metadata": {},
   "source": [
    "## Ordinary Differential Equations"
   ]
  },
  {
   "cell_type": "markdown",
   "id": "bb1340bc",
   "metadata": {},
   "source": [
    "### 3. Newton's law of cooling"
   ]
  },
  {
   "cell_type": "code",
   "execution_count": null,
   "id": "32c86906",
   "metadata": {},
   "outputs": [],
   "source": []
  },
  {
   "cell_type": "markdown",
   "id": "d5a57c0b",
   "metadata": {},
   "source": [
    "### 4. Classical equations of motion Second order Differential Equation"
   ]
  },
  {
   "cell_type": "code",
   "execution_count": null,
   "id": "ebeba7bf",
   "metadata": {},
   "outputs": [],
   "source": []
  },
  {
   "cell_type": "markdown",
   "id": "9698a7d1",
   "metadata": {},
   "source": [
    "### 10. Forced Harmonic oscillator"
   ]
  },
  {
   "cell_type": "markdown",
   "id": "d521cd2c",
   "metadata": {},
   "source": [
    "$$ y''+2\\gamma y'+\\omega_0^2y= f\\sin(\\omega_1t) $$"
   ]
  },
  {
   "cell_type": "code",
   "execution_count": null,
   "id": "36aee15a",
   "metadata": {},
   "outputs": [],
   "source": []
  },
  {
   "cell_type": "markdown",
   "id": "bffa81e7",
   "metadata": {},
   "source": [
    "### 11. Transients in no. 10"
   ]
  },
  {
   "cell_type": "code",
   "execution_count": null,
   "id": "b867ba82",
   "metadata": {},
   "outputs": [],
   "source": []
  },
  {
   "cell_type": "markdown",
   "id": "273da6fb",
   "metadata": {},
   "source": [
    "### 12. Steady state solution in no. 10"
   ]
  },
  {
   "cell_type": "code",
   "execution_count": null,
   "id": "35952a9d",
   "metadata": {},
   "outputs": [],
   "source": []
  },
  {
   "cell_type": "markdown",
   "id": "16d6bb45",
   "metadata": {},
   "source": [
    "### 13. Apply above (no. 10,11,12) to LCR circuits"
   ]
  },
  {
   "cell_type": "markdown",
   "id": "43930b56",
   "metadata": {},
   "source": [
    "### LCR circuit in DC supply:"
   ]
  },
  {
   "cell_type": "markdown",
   "id": "9971b0b7",
   "metadata": {},
   "source": [
    "Charging of capacitor, $$ L\\frac{di}{dt} + \\frac{q}{C} + iR = V $$\n",
    "\n",
    "$$ q''+2bq'+\\omega_0^2q = \\frac{V}{L}  $$\n",
    "$ 2b=R/L, \\omega_0^2=1/LC$."
   ]
  },
  {
   "cell_type": "markdown",
   "id": "b6576cb0",
   "metadata": {},
   "source": [
    "Discharging of capacitor, $$ L\\frac{di}{dt} + \\frac{q}{C} + iR = 0 $$\n",
    "\n",
    "$$ q''+2bq'+\\omega_0^2q = 0  $$\n",
    "$ 2b=R/L, \\omega_0^2=1/LC$."
   ]
  },
  {
   "cell_type": "markdown",
   "id": "d8fac7f6",
   "metadata": {},
   "source": [
    "### LCR circuit in AC supply:"
   ]
  },
  {
   "cell_type": "code",
   "execution_count": null,
   "id": "556dc8f1",
   "metadata": {},
   "outputs": [],
   "source": []
  },
  {
   "cell_type": "markdown",
   "id": "98f0a5b8",
   "metadata": {},
   "source": [
    "## Partial Differential Equations"
   ]
  },
  {
   "cell_type": "markdown",
   "id": "0ebabc7c",
   "metadata": {},
   "source": [
    "### 1. Wave equation"
   ]
  },
  {
   "cell_type": "code",
   "execution_count": null,
   "id": "bc5cd5ba",
   "metadata": {},
   "outputs": [],
   "source": []
  },
  {
   "cell_type": "markdown",
   "id": "5af77602",
   "metadata": {},
   "source": [
    "### 2. Heat equation"
   ]
  },
  {
   "cell_type": "code",
   "execution_count": null,
   "id": "fdec3211",
   "metadata": {},
   "outputs": [],
   "source": []
  },
  {
   "cell_type": "markdown",
   "id": "26252f7d",
   "metadata": {},
   "source": [
    "### 3. Poisson equation"
   ]
  },
  {
   "cell_type": "code",
   "execution_count": null,
   "id": "dc31cdd2",
   "metadata": {},
   "outputs": [],
   "source": []
  },
  {
   "cell_type": "markdown",
   "id": "6fa231e3",
   "metadata": {},
   "source": [
    "### 4. Laplace eequation"
   ]
  },
  {
   "cell_type": "code",
   "execution_count": null,
   "id": "facb5817",
   "metadata": {},
   "outputs": [],
   "source": []
  }
 ],
 "metadata": {
  "kernelspec": {
   "display_name": "Python 3 (ipykernel)",
   "language": "python",
   "name": "python3"
  },
  "language_info": {
   "codemirror_mode": {
    "name": "ipython",
    "version": 3
   },
   "file_extension": ".py",
   "mimetype": "text/x-python",
   "name": "python",
   "nbconvert_exporter": "python",
   "pygments_lexer": "ipython3",
   "version": "3.9.13"
  }
 },
 "nbformat": 4,
 "nbformat_minor": 5
}
