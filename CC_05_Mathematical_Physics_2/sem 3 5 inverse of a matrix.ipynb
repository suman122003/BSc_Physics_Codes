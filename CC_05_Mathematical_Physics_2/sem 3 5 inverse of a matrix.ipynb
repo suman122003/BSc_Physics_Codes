{
 "cells": [
  {
   "cell_type": "markdown",
   "id": "ad75071d",
   "metadata": {},
   "source": [
    "## Inverse of a Matrix by Gauss Elimination Method"
   ]
  },
  {
   "cell_type": "markdown",
   "id": "9615299a",
   "metadata": {},
   "source": [
    "Here by Gauss Elimination we convert $[A|I]$ to $[I|A']$ where $A' = A^{-1}$."
   ]
  },
  {
   "cell_type": "code",
   "execution_count": 1,
   "id": "da9a6731",
   "metadata": {},
   "outputs": [
    {
     "name": "stdout",
     "output_type": "stream",
     "text": [
      " \t Inverse of the Matrix A \n",
      "-2.500, -0.167, -0.167, 1.833, \n",
      "2.000, 0.333, 0.333, -1.667, \n",
      "-0.250, -0.250, -0.750, 0.750, \n",
      "-0.312, 0.021, 0.396, 0.021, \n"
     ]
    }
   ],
   "source": [
    "def InvGaussElim(A):\n",
    "    n = len(A)\n",
    "    a = [[A[i][j] for j in range(n)] for i in range(n)]\n",
    "    b = [[1.0 if i==j else 0.0 for j in range(n)] for i in range(n)]  # identity matrix\n",
    "    for i in range(n):\n",
    "        for j in range(n):\n",
    "            if j!=i:    # operations on non-diagonal terms\n",
    "                r = a[j][i]/a[i][i]\n",
    "                for k in range(n):\n",
    "                    a[j][k] = a[j][k] - r*a[i][k]\n",
    "                    b[j][k] = b[j][k] - r*b[i][k]\n",
    "    for i in range(n):\n",
    "        for j in range(n):\n",
    "            b[i][j] = b[i][j]/a[i][i]\n",
    "    return b\n",
    "\n",
    "# Put the matrix\n",
    "A = [[2,5,6,8],[7,10,5,4],[1,3,4,8],[4,8,9,12]]\n",
    "invA = InvGaussElim(A)\n",
    "print(\" \\t Inverse of the Matrix A \")\n",
    "for i in invA:\n",
    "    for ii in i:\n",
    "        print(\"%0.3f,\"%ii,end=\" \")   # all ii in same line\n",
    "    print(\"\")"
   ]
  }
 ],
 "metadata": {
  "kernelspec": {
   "display_name": "Python 3 (ipykernel)",
   "language": "python",
   "name": "python3"
  },
  "language_info": {
   "codemirror_mode": {
    "name": "ipython",
    "version": 3
   },
   "file_extension": ".py",
   "mimetype": "text/x-python",
   "name": "python",
   "nbconvert_exporter": "python",
   "pygments_lexer": "ipython3",
   "version": "3.9.13"
  }
 },
 "nbformat": 4,
 "nbformat_minor": 5
}
