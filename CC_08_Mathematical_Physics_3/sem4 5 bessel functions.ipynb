{
 "cells": [
  {
   "cell_type": "markdown",
   "metadata": {},
   "source": [
    "# Bessel Functions"
   ]
  },
  {
   "cell_type": "markdown",
   "metadata": {},
   "source": [
    "**Bessel's Differential Equation:**\n",
    "$$ x^2y'' + xy' + (x^2-n^2)y = 0 $$\n",
    "\n",
    "**Solution (Bessel Functions):**\n",
    "$$ j_n(x) = \\sum_{m=0}^{\\infty} \\frac{(-1)^m}{m! \\Gamma(m+n+1)} \\left(\\frac{x}{2}\\right)^{(2m+n)} $$ \n",
    "\n",
    "$$ j_{-n}(x) = (-1)^n j_n(x) $$"
   ]
  },
  {
   "cell_type": "markdown",
   "metadata": {},
   "source": [
    "### from `scipy.special`"
   ]
  },
  {
   "cell_type": "code",
   "execution_count": 1,
   "metadata": {},
   "outputs": [
    {
     "data": {
      "text/plain": [
       "0.12894324947440208"
      ]
     },
     "execution_count": 1,
     "metadata": {},
     "output_type": "execute_result"
    }
   ],
   "source": [
    "from scipy.special import *\n",
    "jn(3,2)"
   ]
  },
  {
   "cell_type": "markdown",
   "metadata": {},
   "source": [
    "## By calculations"
   ]
  },
  {
   "cell_type": "code",
   "execution_count": 2,
   "metadata": {},
   "outputs": [
    {
     "data": {
      "text/plain": [
       "0.1289432494744021"
      ]
     },
     "execution_count": 2,
     "metadata": {},
     "output_type": "execute_result"
    }
   ],
   "source": [
    "import numpy as np\n",
    "from scipy.special import factorial\n",
    "\n",
    "def besselfn(n,x):\n",
    "    return sum([(-1)**m*(x/2)**(2*m+n)/(factorial(m)*factorial(m+n))\n",
    "                for m in range(95)])\n",
    "besselfn(3,2)"
   ]
  },
  {
   "cell_type": "markdown",
   "metadata": {},
   "source": [
    "We can get, $$ j_n(x) = \\sum_{m=0}^{\\infty} t_m $$\n",
    "\n",
    "Where, $ \\hspace{2mm} t_m = - \\frac{1}{m(m+n)} (\\frac{x}{2})^2 t_{m-1} \\hspace{4mm} $ and $ \\hspace{4mm} t_0 = \\frac{(x/2)^n}{n!} $."
   ]
  },
  {
   "cell_type": "code",
   "execution_count": 3,
   "metadata": {},
   "outputs": [],
   "source": [
    "def fact(n):\n",
    "    fct = 1\n",
    "    for i in range(2,n+1):\n",
    "        fct *= i\n",
    "    return fct"
   ]
  },
  {
   "cell_type": "code",
   "execution_count": 4,
   "metadata": {},
   "outputs": [],
   "source": [
    "def besfn(nn,x):\n",
    "    n = abs(nn)\n",
    "    tol = 1e-5\n",
    "    t = (x/2)**n/fact(n)  # t_0\n",
    "    sm = t\n",
    "    m = 1\n",
    "    while True:\n",
    "        sm1 = sm\n",
    "        t = -(x/2)**2*t/(m*(m+n))\n",
    "        sm += t\n",
    "        m += 1\n",
    "        if abs(sm - sm1) < tol:\n",
    "            break\n",
    "    if nn < 0:    # j_-n(x)\n",
    "        sm = (-1)**n*sm\n",
    "    return sm"
   ]
  },
  {
   "cell_type": "code",
   "execution_count": 5,
   "metadata": {},
   "outputs": [
    {
     "data": {
      "text/plain": [
       "0.1289434523809524"
      ]
     },
     "execution_count": 5,
     "metadata": {},
     "output_type": "execute_result"
    }
   ],
   "source": [
    "besfn(3,2)"
   ]
  },
  {
   "cell_type": "markdown",
   "metadata": {},
   "source": [
    "### By recurrence formula"
   ]
  },
  {
   "cell_type": "markdown",
   "metadata": {},
   "source": [
    "$$ j_{n+1}(x) = \\frac{2x}{n} j_n(x) - j_{n-1}(x)  $$\n",
    "For given $j_0(x)$ and $j_1(x)$."
   ]
  },
  {
   "cell_type": "code",
   "execution_count": 6,
   "metadata": {},
   "outputs": [],
   "source": [
    "from scipy.special import *\n",
    "\n",
    "def recjn(n,x):\n",
    "    if n == 0:\n",
    "        return jn(0,x)\n",
    "    elif n == 1:\n",
    "        return jn(1,x)\n",
    "    elif n >= 2:\n",
    "        jn0, jnmin1 = jn(1,x), jn(0,x)\n",
    "        for i in range(2,n+1):\n",
    "            jn1 = 2*(i-1)/x*jn0 - jnmin1\n",
    "            jnmin1 = jn0\n",
    "            jn0 = jn1\n",
    "        return jn1"
   ]
  },
  {
   "cell_type": "code",
   "execution_count": 7,
   "metadata": {},
   "outputs": [
    {
     "data": {
      "text/plain": [
       "0.1289432494744024"
      ]
     },
     "execution_count": 7,
     "metadata": {},
     "output_type": "execute_result"
    }
   ],
   "source": [
    "recjn(3,2)"
   ]
  },
  {
   "cell_type": "markdown",
   "metadata": {},
   "source": [
    "**Verification**"
   ]
  },
  {
   "cell_type": "code",
   "execution_count": 8,
   "metadata": {},
   "outputs": [
    {
     "name": "stdout",
     "output_type": "stream",
     "text": [
      "by using function in scipy.special\n",
      "\t -0.007039629755871686\n",
      "by calculations\n",
      "\t -0.007039517195767195\n",
      "by recurrence formula\n",
      "\t -0.007039629755874244\n"
     ]
    }
   ],
   "source": [
    "n1, x1 = 5,-2  # input values\n",
    "print('by using function in scipy.special\\n\\t',jn(n1,x1))\n",
    "print('by calculations\\n\\t',besfn(n1,x1))\n",
    "print('by recurrence formula\\n\\t',recjn(n1,x1))"
   ]
  },
  {
   "cell_type": "code",
   "execution_count": 9,
   "metadata": {},
   "outputs": [
    {
     "data": {
      "image/png": "[encoded data removed]",
      "text/plain": [
       "<Figure size 640x480 with 1 Axes>"
      ]
     },
     "metadata": {},
     "output_type": "display_data"
    }
   ],
   "source": [
    "import numpy as np\n",
    "import matplotlib.pyplot as plt\n",
    "x = np.linspace(-2,2,100)\n",
    "n = 5  # input the value\n",
    "jn1 = jn(n,x)\n",
    "besfn1 = [besfn(n,x[i]) for i in range(len(x))]\n",
    "recjn1 = [recjn(n,x[i]) for i in range(len(x))]\n",
    "\n",
    "plt.plot(x,jn1,'-',label='by using function in scipy.special')\n",
    "plt.plot(x,besfn1,'-.',label='by calculations')\n",
    "plt.plot(x,recjn1,'--',label='by recurrence formula')\n",
    "plt.text((max(x)-abs(min(x)))/2,(max(jn1)-abs(min(jn1)))/3-2e-3,f'n= {n}')\n",
    "plt.legend()\n",
    "plt.xlabel('x')\n",
    "plt.ylabel('$j_n(x)$')\n",
    "plt.grid()\n",
    "plt.show()"
   ]
  },
  {
   "cell_type": "code",
   "execution_count": null,
   "metadata": {},
   "outputs": [],
   "source": []
  }
 ],
 "metadata": {
  "kernelspec": {
   "display_name": "Python 3 (ipykernel)",
   "language": "python",
   "name": "python3"
  },
  "language_info": {
   "codemirror_mode": {
    "name": "ipython",
    "version": 3
   },
   "file_extension": ".py",
   "mimetype": "text/x-python",
   "name": "python",
   "nbconvert_exporter": "python",
   "pygments_lexer": "ipython3",
   "version": "3.9.13"
  }
 },
 "nbformat": 4,
 "nbformat_minor": 2
}
