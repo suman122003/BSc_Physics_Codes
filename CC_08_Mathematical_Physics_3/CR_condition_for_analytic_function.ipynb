{
 "cells": [
  {
   "cell_type": "markdown",
   "id": "855ba22d",
   "metadata": {},
   "source": [
    "# Cauchy - Riemann condition for analytic function"
   ]
  },
  {
   "cell_type": "markdown",
   "id": "ccb6440f",
   "metadata": {},
   "source": [
    "For a complex function\n",
    "$$ f(z) = u(x,y)+iv(x,y) $$\n",
    "where $z=x+iy$, the Cauchy-Riemann condition is\n",
    "$$ \\frac{\\partial u}{\\partial x} = \\frac{\\partial v}{\\partial y} $$\n",
    "$$ \\frac{\\partial v}{\\partial x} = -\\frac{\\partial u}{\\partial y} $$"
   ]
  },
  {
   "cell_type": "code",
   "execution_count": 1,
   "id": "d03f6e21",
   "metadata": {},
   "outputs": [],
   "source": [
    "import sympy as smp\n",
    "from sympy import *"
   ]
  },
  {
   "cell_type": "code",
   "execution_count": 2,
   "id": "6eff2175",
   "metadata": {},
   "outputs": [],
   "source": [
    "x, y = smp.symbols('x y', real=True)\n",
    "z = smp.symbols('z')\n",
    "z = x + I*y\n",
    "u, v, w, f = smp.symbols('u v w f', cls=smp.Function)\n",
    "u, v = u(x,y), v(x,y)\n",
    "w = u + I*v\n",
    "f = f(z)"
   ]
  },
  {
   "cell_type": "code",
   "execution_count": 3,
   "id": "6a3d97a8",
   "metadata": {},
   "outputs": [
    {
     "data": {
      "text/plain": [
       "'function'"
      ]
     },
     "metadata": {},
     "output_type": "display_data"
    },
    {
     "data": {
      "text/latex": [
       "$\\displaystyle \\cos{\\left(x + i y \\right)}$"
      ],
      "text/plain": [
       "cos(x + I*y)"
      ]
     },
     "metadata": {},
     "output_type": "display_data"
    },
    {
     "data": {
      "text/plain": [
       "'real part u'"
      ]
     },
     "metadata": {},
     "output_type": "display_data"
    },
    {
     "data": {
      "text/latex": [
       "$\\displaystyle \\cos{\\left(x \\right)} \\cosh{\\left(y \\right)}$"
      ],
      "text/plain": [
       "cos(x)*cosh(y)"
      ]
     },
     "metadata": {},
     "output_type": "display_data"
    },
    {
     "data": {
      "text/plain": [
       "'imaginary part v'"
      ]
     },
     "metadata": {},
     "output_type": "display_data"
    },
    {
     "data": {
      "text/latex": [
       "$\\displaystyle - \\sin{\\left(x \\right)} \\sinh{\\left(y \\right)}$"
      ],
      "text/plain": [
       "-sin(x)*sinh(y)"
      ]
     },
     "metadata": {},
     "output_type": "display_data"
    },
    {
     "data": {
      "text/plain": [
       "'dudx'"
      ]
     },
     "metadata": {},
     "output_type": "display_data"
    },
    {
     "data": {
      "text/latex": [
       "$\\displaystyle - \\sin{\\left(x \\right)} \\cosh{\\left(y \\right)}$"
      ],
      "text/plain": [
       "-sin(x)*cosh(y)"
      ]
     },
     "metadata": {},
     "output_type": "display_data"
    },
    {
     "data": {
      "text/plain": [
       "'dudy'"
      ]
     },
     "metadata": {},
     "output_type": "display_data"
    },
    {
     "data": {
      "text/latex": [
       "$\\displaystyle \\cos{\\left(x \\right)} \\sinh{\\left(y \\right)}$"
      ],
      "text/plain": [
       "cos(x)*sinh(y)"
      ]
     },
     "metadata": {},
     "output_type": "display_data"
    },
    {
     "data": {
      "text/plain": [
       "'dvdx'"
      ]
     },
     "metadata": {},
     "output_type": "display_data"
    },
    {
     "data": {
      "text/latex": [
       "$\\displaystyle - \\cos{\\left(x \\right)} \\sinh{\\left(y \\right)}$"
      ],
      "text/plain": [
       "-cos(x)*sinh(y)"
      ]
     },
     "metadata": {},
     "output_type": "display_data"
    },
    {
     "data": {
      "text/plain": [
       "'dvdy'"
      ]
     },
     "metadata": {},
     "output_type": "display_data"
    },
    {
     "data": {
      "text/latex": [
       "$\\displaystyle - \\sin{\\left(x \\right)} \\cosh{\\left(y \\right)}$"
      ],
      "text/plain": [
       "-sin(x)*cosh(y)"
      ]
     },
     "metadata": {},
     "output_type": "display_data"
    },
    {
     "name": "stdout",
     "output_type": "stream",
     "text": [
      "Cauchy - Riemann condition holds\n"
     ]
    },
    {
     "data": {
      "text/plain": [
       "'dfdx'"
      ]
     },
     "metadata": {},
     "output_type": "display_data"
    },
    {
     "data": {
      "text/latex": [
       "$\\displaystyle - \\sin{\\left(x \\right)} \\cosh{\\left(y \\right)} - i \\cos{\\left(x \\right)} \\sinh{\\left(y \\right)}$"
      ],
      "text/plain": [
       "-sin(x)*cosh(y) - I*cos(x)*sinh(y)"
      ]
     },
     "metadata": {},
     "output_type": "display_data"
    },
    {
     "data": {
      "text/plain": [
       "'dfdy'"
      ]
     },
     "metadata": {},
     "output_type": "display_data"
    },
    {
     "data": {
      "text/latex": [
       "$\\displaystyle - i \\sin{\\left(x \\right)} \\cosh{\\left(y \\right)} + \\cos{\\left(x \\right)} \\sinh{\\left(y \\right)}$"
      ],
      "text/plain": [
       "-I*sin(x)*cosh(y) + cos(x)*sinh(y)"
      ]
     },
     "metadata": {},
     "output_type": "display_data"
    }
   ],
   "source": [
    "f = smp.cos(z)    # write the function\n",
    "\n",
    "w = f\n",
    "wp = w.as_real_imag()\n",
    "u = wp[0]\n",
    "v = wp[1]\n",
    "display('function',f,'real part u',u,'imaginary part v',v)\n",
    "\n",
    "dudx,dudy,dvdx,dvdy = u.diff(x),u.diff(y),v.diff(x),v.diff(y)\n",
    "display('dudx',dudx,'dudy',dudy,'dvdx',dvdx,'dvdy',dvdy)\n",
    "\n",
    "if dudx.simplify()==dvdy.simplify() and dvdx.simplify()==-dudy.simplify():\n",
    "    print('Cauchy - Riemann condition holds')\n",
    "    display('dfdx', (dudx + I*dvdx).simplify())\n",
    "    display('dfdy', (dudy + I*dvdy).simplify())\n",
    "else:\n",
    "    print('\\n Cauchy - Riemann condition is not satisfied')"
   ]
  },
  {
   "cell_type": "markdown",
   "id": "1417ba1f",
   "metadata": {},
   "source": [
    "## Polar Form\n",
    "In polar form, $z=re^{i\\theta}$. Here the Cauchy-Riemann condition is\n",
    "$$ \\frac{\\partial u}{\\partial r} = \\frac{1}{r} \\frac{\\partial v}{\\partial \\theta} $$\n",
    "$$ \\frac{\\partial v}{\\partial r} = -\\frac{1}{r} \\frac{\\partial u}{\\partial \\theta} $$"
   ]
  },
  {
   "cell_type": "code",
   "execution_count": 4,
   "id": "deec9e8d",
   "metadata": {},
   "outputs": [],
   "source": [
    "r, th = smp.symbols('r \\\\theta', real=True)\n",
    "z = smp.symbols('z')\n",
    "z = r*smp.exp(I*th)\n",
    "u, v, w, f = smp.symbols('u v w f', cls=smp.Function)\n",
    "u, v = u(r,th), v(r,th)\n",
    "w = u + I*v\n",
    "f = f(z)"
   ]
  },
  {
   "cell_type": "code",
   "execution_count": 5,
   "id": "6c405fcf",
   "metadata": {},
   "outputs": [
    {
     "data": {
      "text/plain": [
       "'function'"
      ]
     },
     "metadata": {},
     "output_type": "display_data"
    },
    {
     "data": {
      "text/latex": [
       "$\\displaystyle \\cos{\\left(r e^{i \\theta} \\right)}$"
      ],
      "text/plain": [
       "cos(r*exp(I*\\theta))"
      ]
     },
     "metadata": {},
     "output_type": "display_data"
    },
    {
     "data": {
      "text/plain": [
       "'real part u'"
      ]
     },
     "metadata": {},
     "output_type": "display_data"
    },
    {
     "data": {
      "text/latex": [
       "$\\displaystyle \\cos{\\left(r \\cos{\\left(\\theta \\right)} \\right)} \\cosh{\\left(r \\sin{\\left(\\theta \\right)} \\right)}$"
      ],
      "text/plain": [
       "cos(r*cos(\\theta))*cosh(r*sin(\\theta))"
      ]
     },
     "metadata": {},
     "output_type": "display_data"
    },
    {
     "data": {
      "text/plain": [
       "'imaginary part v'"
      ]
     },
     "metadata": {},
     "output_type": "display_data"
    },
    {
     "data": {
      "text/latex": [
       "$\\displaystyle - \\sin{\\left(r \\cos{\\left(\\theta \\right)} \\right)} \\sinh{\\left(r \\sin{\\left(\\theta \\right)} \\right)}$"
      ],
      "text/plain": [
       "-sin(r*cos(\\theta))*sinh(r*sin(\\theta))"
      ]
     },
     "metadata": {},
     "output_type": "display_data"
    },
    {
     "data": {
      "text/plain": [
       "'dudr'"
      ]
     },
     "metadata": {},
     "output_type": "display_data"
    },
    {
     "data": {
      "text/latex": [
       "$\\displaystyle \\sin{\\left(\\theta \\right)} \\cos{\\left(r \\cos{\\left(\\theta \\right)} \\right)} \\sinh{\\left(r \\sin{\\left(\\theta \\right)} \\right)} - \\sin{\\left(r \\cos{\\left(\\theta \\right)} \\right)} \\cos{\\left(\\theta \\right)} \\cosh{\\left(r \\sin{\\left(\\theta \\right)} \\right)}$"
      ],
      "text/plain": [
       "sin(\\theta)*cos(r*cos(\\theta))*sinh(r*sin(\\theta)) - sin(r*cos(\\theta))*cos(\\theta)*cosh(r*sin(\\theta))"
      ]
     },
     "metadata": {},
     "output_type": "display_data"
    },
    {
     "data": {
      "text/plain": [
       "'dudth'"
      ]
     },
     "metadata": {},
     "output_type": "display_data"
    },
    {
     "data": {
      "text/latex": [
       "$\\displaystyle r \\sin{\\left(\\theta \\right)} \\sin{\\left(r \\cos{\\left(\\theta \\right)} \\right)} \\cosh{\\left(r \\sin{\\left(\\theta \\right)} \\right)} + r \\cos{\\left(\\theta \\right)} \\cos{\\left(r \\cos{\\left(\\theta \\right)} \\right)} \\sinh{\\left(r \\sin{\\left(\\theta \\right)} \\right)}$"
      ],
      "text/plain": [
       "r*sin(\\theta)*sin(r*cos(\\theta))*cosh(r*sin(\\theta)) + r*cos(\\theta)*cos(r*cos(\\theta))*sinh(r*sin(\\theta))"
      ]
     },
     "metadata": {},
     "output_type": "display_data"
    },
    {
     "data": {
      "text/plain": [
       "'dvdr'"
      ]
     },
     "metadata": {},
     "output_type": "display_data"
    },
    {
     "data": {
      "text/latex": [
       "$\\displaystyle - \\sin{\\left(\\theta \\right)} \\sin{\\left(r \\cos{\\left(\\theta \\right)} \\right)} \\cosh{\\left(r \\sin{\\left(\\theta \\right)} \\right)} - \\cos{\\left(\\theta \\right)} \\cos{\\left(r \\cos{\\left(\\theta \\right)} \\right)} \\sinh{\\left(r \\sin{\\left(\\theta \\right)} \\right)}$"
      ],
      "text/plain": [
       "-sin(\\theta)*sin(r*cos(\\theta))*cosh(r*sin(\\theta)) - cos(\\theta)*cos(r*cos(\\theta))*sinh(r*sin(\\theta))"
      ]
     },
     "metadata": {},
     "output_type": "display_data"
    },
    {
     "data": {
      "text/plain": [
       "'dvdth'"
      ]
     },
     "metadata": {},
     "output_type": "display_data"
    },
    {
     "data": {
      "text/latex": [
       "$\\displaystyle r \\sin{\\left(\\theta \\right)} \\cos{\\left(r \\cos{\\left(\\theta \\right)} \\right)} \\sinh{\\left(r \\sin{\\left(\\theta \\right)} \\right)} - r \\sin{\\left(r \\cos{\\left(\\theta \\right)} \\right)} \\cos{\\left(\\theta \\right)} \\cosh{\\left(r \\sin{\\left(\\theta \\right)} \\right)}$"
      ],
      "text/plain": [
       "r*sin(\\theta)*cos(r*cos(\\theta))*sinh(r*sin(\\theta)) - r*sin(r*cos(\\theta))*cos(\\theta)*cosh(r*sin(\\theta))"
      ]
     },
     "metadata": {},
     "output_type": "display_data"
    },
    {
     "name": "stdout",
     "output_type": "stream",
     "text": [
      "Cauchy - Riemann condition holds\n"
     ]
    },
    {
     "data": {
      "text/plain": [
       "'dfdr'"
      ]
     },
     "metadata": {},
     "output_type": "display_data"
    },
    {
     "data": {
      "text/latex": [
       "$\\displaystyle i \\left(- \\sin{\\left(\\theta \\right)} \\sin{\\left(r \\cos{\\left(\\theta \\right)} \\right)} \\cosh{\\left(r \\sin{\\left(\\theta \\right)} \\right)} - \\cos{\\left(\\theta \\right)} \\cos{\\left(r \\cos{\\left(\\theta \\right)} \\right)} \\sinh{\\left(r \\sin{\\left(\\theta \\right)} \\right)}\\right) + \\sin{\\left(\\theta \\right)} \\cos{\\left(r \\cos{\\left(\\theta \\right)} \\right)} \\sinh{\\left(r \\sin{\\left(\\theta \\right)} \\right)} - \\sin{\\left(r \\cos{\\left(\\theta \\right)} \\right)} \\cos{\\left(\\theta \\right)} \\cosh{\\left(r \\sin{\\left(\\theta \\right)} \\right)}$"
      ],
      "text/plain": [
       "I*(-sin(\\theta)*sin(r*cos(\\theta))*cosh(r*sin(\\theta)) - cos(\\theta)*cos(r*cos(\\theta))*sinh(r*sin(\\theta))) + sin(\\theta)*cos(r*cos(\\theta))*sinh(r*sin(\\theta)) - sin(r*cos(\\theta))*cos(\\theta)*cosh(r*sin(\\theta))"
      ]
     },
     "metadata": {},
     "output_type": "display_data"
    },
    {
     "data": {
      "text/plain": [
       "'dfdth'"
      ]
     },
     "metadata": {},
     "output_type": "display_data"
    },
    {
     "data": {
      "text/latex": [
       "$\\displaystyle r \\left(i \\left(\\sin{\\left(\\theta \\right)} \\cos{\\left(r \\cos{\\left(\\theta \\right)} \\right)} \\sinh{\\left(r \\sin{\\left(\\theta \\right)} \\right)} - \\sin{\\left(r \\cos{\\left(\\theta \\right)} \\right)} \\cos{\\left(\\theta \\right)} \\cosh{\\left(r \\sin{\\left(\\theta \\right)} \\right)}\\right) + \\sin{\\left(\\theta \\right)} \\sin{\\left(r \\cos{\\left(\\theta \\right)} \\right)} \\cosh{\\left(r \\sin{\\left(\\theta \\right)} \\right)} + \\cos{\\left(\\theta \\right)} \\cos{\\left(r \\cos{\\left(\\theta \\right)} \\right)} \\sinh{\\left(r \\sin{\\left(\\theta \\right)} \\right)}\\right)$"
      ],
      "text/plain": [
       "r*(I*(sin(\\theta)*cos(r*cos(\\theta))*sinh(r*sin(\\theta)) - sin(r*cos(\\theta))*cos(\\theta)*cosh(r*sin(\\theta))) + sin(\\theta)*sin(r*cos(\\theta))*cosh(r*sin(\\theta)) + cos(\\theta)*cos(r*cos(\\theta))*sinh(r*sin(\\theta)))"
      ]
     },
     "metadata": {},
     "output_type": "display_data"
    }
   ],
   "source": [
    "f = smp.cos(z)    # write the function\n",
    "\n",
    "w = f\n",
    "wp = w.as_real_imag()\n",
    "u = wp[0]\n",
    "v = wp[1]\n",
    "display('function',f,'real part u',u,'imaginary part v',v)\n",
    "\n",
    "dudr,dudth,dvdr,dvdth = u.diff(r),u.diff(th),v.diff(r),v.diff(th)\n",
    "display('dudr',dudr,'dudth',dudth,'dvdr',dvdr,'dvdth',dvdth)\n",
    "\n",
    "if dudr.simplify()==(dvdth/r).simplify() and dvdr.simplify()==-(dudth/r).simplify():\n",
    "    print('Cauchy - Riemann condition holds')\n",
    "    display('dfdr', (dudr + I*dvdr).simplify())\n",
    "    display('dfdth', (dudth + I*dvdth).simplify())\n",
    "else:\n",
    "    print('\\n Cauchy - Riemann condition is not satisfied')"
   ]
  },
  {
   "cell_type": "code",
   "execution_count": null,
   "id": "277d7175",
   "metadata": {},
   "outputs": [],
   "source": []
  }
 ],
 "metadata": {
  "kernelspec": {
   "display_name": "Python 3 (ipykernel)",
   "language": "python",
   "name": "python3"
  },
  "language_info": {
   "codemirror_mode": {
    "name": "ipython",
    "version": 3
   },
   "file_extension": ".py",
   "mimetype": "text/x-python",
   "name": "python",
   "nbconvert_exporter": "python",
   "pygments_lexer": "ipython3",
   "version": "3.9.13"
  }
 },
 "nbformat": 4,
 "nbformat_minor": 5
}
