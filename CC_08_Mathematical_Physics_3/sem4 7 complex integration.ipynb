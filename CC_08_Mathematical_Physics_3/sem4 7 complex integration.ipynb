{
 "cells": [
  {
   "cell_type": "markdown",
   "metadata": {},
   "source": [
    "# Complex Integration"
   ]
  },
  {
   "cell_type": "markdown",
   "metadata": {},
   "source": [
    "**19th May, 2023**"
   ]
  },
  {
   "cell_type": "markdown",
   "metadata": {},
   "source": [
    "The integration is done by Simpson's 1/3 rule.\n",
    "$$ \\int_a^b f(x)dx = \\frac{h}{3}[f(a) +4(f(a+h)+f(a+3h)+...) +2(f(a+2h)+f(a+4h)+...) +f(b)] $$"
   ]
  },
  {
   "cell_type": "code",
   "execution_count": 67,
   "metadata": {},
   "outputs": [],
   "source": [
    "def simp13z(f, pr, a, b, tol):\n",
    "    n = 10\n",
    "    I1 = 0\n",
    "    while True:\n",
    "        h = (b-a)/n\n",
    "        I2 = 0\n",
    "        for i in range(n+1):\n",
    "            if i==0 or i==n:\n",
    "                I2 += f(pr, a+i*h)\n",
    "            elif (i%2)==0:\n",
    "                I2 += 2*f(pr, a+i*h)\n",
    "            else:\n",
    "                I2 += 4*f(pr, a+i*h)\n",
    "        I2 = (h/3)*I2\n",
    "        if abs(I2-I1) <= tol:\n",
    "            break\n",
    "        else:\n",
    "            I1 = I2\n",
    "            n += 10\n",
    "    return I2"
   ]
  },
  {
   "cell_type": "markdown",
   "metadata": {},
   "source": [
    "### Example:\n",
    "$$ \\int_0^{\\pi+2j} \\cos(\\frac{z}{2})dz $$"
   ]
  },
  {
   "cell_type": "code",
   "execution_count": 68,
   "metadata": {},
   "outputs": [
    {
     "name": "stdout",
     "output_type": "stream",
     "text": [
      "(3.086161217931016+6.174435784878085e-08j)\n",
      "(3.086161217931016+6.174435762673625e-08j)\n"
     ]
    }
   ],
   "source": [
    "from cmath import *\n",
    "def f1(pr, z):\n",
    "    return cos(z/2)  # function\n",
    "tol = 1e-6\n",
    "intgsp1 = simp13z(f1, None, 0, pi +2j, tol)\n",
    "print(intgsp1)\n",
    "\n",
    "import numpy as np\n",
    "def f1(pr, z):\n",
    "    return np.cos(z/2)  # function\n",
    "tol = 1e-6\n",
    "intgsp2 = simp13z(f1, None, 0, np.pi +2j, tol)\n",
    "print(intgsp2)"
   ]
  },
  {
   "cell_type": "markdown",
   "metadata": {},
   "source": [
    "### Example:\n",
    "$$ \\int_0^j \\frac{z^2 +1}{z +1}dz $$"
   ]
  },
  {
   "cell_type": "code",
   "execution_count": 69,
   "metadata": {},
   "outputs": [
    {
     "name": "stdout",
     "output_type": "stream",
     "text": [
      "(0.1931472836593496+0.5707963267676798j)\n"
     ]
    }
   ],
   "source": [
    "import numpy as np\n",
    "def f2(pr, z):\n",
    "    return (z**2 +1)/(z +1) # function\n",
    "tol = 1e-6\n",
    "intgsp2 = simp13z(f2, None, 0, 1j, tol)\n",
    "print(intgsp2)"
   ]
  },
  {
   "cell_type": "markdown",
   "metadata": {},
   "source": [
    "# Contour Integration\n",
    "\n",
    "We need to evaluate $\\oint_c f(z)dz $ from $z=z_0$ to $z=z_1$ along the curve $c$ and $z=c(t)$.\n",
    "\n",
    "We can get the integration as, $(z = c(t) = x(t) +jy(t))$\n",
    "$$ \\int_{t_0}^{t_1} f(x(t)+jy(t)) (x'(t)+jy'(t)) dt = \\int_{t_0}^{t_1} F(t)dt $$"
   ]
  },
  {
   "cell_type": "markdown",
   "metadata": {},
   "source": [
    "### Differentiation (3 points):\n",
    "$$ \\frac{df}{dx} = \\frac{f(x+h) -f(x-h)}{2h} $$"
   ]
  },
  {
   "cell_type": "code",
   "execution_count": 70,
   "metadata": {},
   "outputs": [],
   "source": [
    "\n",
    "def dfdz3(f, pr, z, tol):\n",
    "    h = 0.1\n",
    "    ch = complex(h,h)\n",
    "    dfdz1 = (f(pr, z+ch) - f(pr, z-ch))/(2*ch)\n",
    "    while True:\n",
    "        h = h/2\n",
    "        ch = complex(h,h)\n",
    "        dfdz2 = (f(pr, z+ch) - f(pr, z-ch))/(2*ch)\n",
    "        if abs(dfdz2 -dfdz1) <= tol:\n",
    "            break\n",
    "        else:\n",
    "            dfdz1 = dfdz2\n",
    "    return dfdz2"
   ]
  },
  {
   "cell_type": "markdown",
   "metadata": {},
   "source": [
    "### Formation of integrand and integration:"
   ]
  },
  {
   "cell_type": "code",
   "execution_count": 71,
   "metadata": {},
   "outputs": [],
   "source": [
    "def fzdz(fnpr, t):\n",
    "    f, prf, c, prc, tol = fnpr\n",
    "    z = c(prc, t)\n",
    "    Ft = f(prf, z)* dfdz3(c, prc, t, tol)\n",
    "    return Ft\n",
    "\n",
    "def simp13cont(f, prf, c, prc, t0, t1, tol):\n",
    "    fnpr = [f, prf, c, prc, tol]\n",
    "    contintg = simp13z(fzdz, fnpr, t0, t1, tol)\n",
    "    return contintg"
   ]
  },
  {
   "cell_type": "markdown",
   "metadata": {},
   "source": [
    "### Examples"
   ]
  },
  {
   "cell_type": "markdown",
   "metadata": {},
   "source": [
    "**(a) Example:**\n",
    "$f(z) = \\bar{z}$, $z_0=0$, $z_1=4+2j$ and $c(t)= t^2 +tj$.\n",
    "\n",
    "**Solution:**\n",
    "By solving we can get t varies from 0 to 2."
   ]
  },
  {
   "cell_type": "code",
   "execution_count": 72,
   "metadata": {},
   "outputs": [],
   "source": [
    "def f(prf, z):\n",
    "    return z.conjugate() # input the function\n",
    "\n",
    "def c(prc, t):\n",
    "    return t**2 +t*1j  # input the curve"
   ]
  },
  {
   "cell_type": "code",
   "execution_count": 73,
   "metadata": {},
   "outputs": [
    {
     "name": "stdout",
     "output_type": "stream",
     "text": [
      "(10.000000000000005-2.6666666666666763j)\n"
     ]
    }
   ],
   "source": [
    "tol = 1e-6  # tolerance\n",
    "t0, t1 = 0, 2  # integration limits\n",
    "prf, prc = None, None\n",
    "contintg1 = simp13cont(f, prf, c, prc, t0, t1, tol)\n",
    "print(contintg1)"
   ]
  },
  {
   "cell_type": "markdown",
   "metadata": {},
   "source": [
    "**29 May, 2023** (online)"
   ]
  },
  {
   "cell_type": "markdown",
   "metadata": {},
   "source": [
    "**(b) Example:** $f(z)=z^{1/2}, \\hspace{3mm} (z_0=3, z_1=-3)$ and $c(\\theta) = 3e^{j\\theta}$.\n",
    "\n",
    "**Solution:** We can get, $(t_0=0, t_1=\\pi)$. ($t=\\theta$)"
   ]
  },
  {
   "cell_type": "code",
   "execution_count": 74,
   "metadata": {},
   "outputs": [],
   "source": [
    "import numpy as np\n",
    "def f(prf, z):\n",
    "    return z**0.5 # input the function\n",
    "\n",
    "def c(prc, t):\n",
    "    return 3*np.exp(t*1j)  # input the curve"
   ]
  },
  {
   "cell_type": "code",
   "execution_count": 75,
   "metadata": {},
   "outputs": [
    {
     "name": "stdout",
     "output_type": "stream",
     "text": [
      "(-3.4641021868120188-3.464101834425901j)\n"
     ]
    }
   ],
   "source": [
    "tol = 1e-6  # tolerance\n",
    "t0, t1 = 0, np.pi  # integration limits\n",
    "prf, prc = None, None\n",
    "contintg1 = simp13cont(f, prf, c, prc, t0, t1, tol)\n",
    "print(contintg1)"
   ]
  },
  {
   "cell_type": "markdown",
   "metadata": {},
   "source": [
    "**(c) Example:** $f(z)= exp((a-1) log(z)), \\hspace{3mm} (-\\pi \\leq \\theta \\leq \\pi)$ and $c(\\theta) = Re^{j\\theta}$.\n",
    "\n",
    "**Solution:** We have, $(t_0=-\\pi, t_1=\\pi)$. $(t=\\theta)$"
   ]
  },
  {
   "cell_type": "code",
   "execution_count": 76,
   "metadata": {},
   "outputs": [],
   "source": [
    "import numpy as np\n",
    "def f(prf, z):\n",
    "    a = prf\n",
    "    return np.exp((a-1)*np.log(z)) # input the function\n",
    "\n",
    "def c(prc, t):\n",
    "    R = prc\n",
    "    return R*np.exp(t*1j)  # input the curve"
   ]
  },
  {
   "cell_type": "code",
   "execution_count": 77,
   "metadata": {},
   "outputs": [
    {
     "name": "stdout",
     "output_type": "stream",
     "text": [
      "for a = -1.000000 and R = 1.000000, integral = -0.000000 + -0.000000j\n",
      "for a = -0.500000 and R = 1.000000, integral = 0.000001 + 4.000000j\n",
      "for a = 0.500000 and R = 1.000000, integral = 0.000001 + 4.000000j\n",
      "for a = 1.000000 and R = 1.000000, integral = -0.000000 + -0.000000j\n"
     ]
    }
   ],
   "source": [
    "tol = 1e-6  # tolerance\n",
    "t0, t1 = -np.pi, np.pi  # integration limits\n",
    "prf, prc = [-1,-0.5,0.5,1], 1  # prf = a, prc = R (input values)\n",
    "\n",
    "for a in prf:    \n",
    "    contintg1 = simp13cont(f, a, c, prc, t0, t1, tol)\n",
    "    print('for a = %f and R = %f, integral = %f + %fj' \n",
    "          %(a, prc, contintg1.real, contintg1.imag))"
   ]
  },
  {
   "cell_type": "markdown",
   "metadata": {},
   "source": [
    "**(d) Example:** $f(z)= \\pi exp(\\pi \\bar{z})$ and $c$ is the boundary of square with vertices $0, 1, 1+j, j$ in anticlockwise direction.\n",
    "\n",
    "**Solution:** We have the paths,\n",
    "1. $c_1: (z_0 = 0, z_1 = 1)$.\n",
    "2. $c_2: (z_0 = 1, z_1 = 1+j)$.\n",
    "3. $c_3: (z_0 = 1+j, z_1 = j)$.\n",
    "4. $c_4: (z_0 = j, z_1 = 0)$."
   ]
  },
  {
   "cell_type": "code",
   "execution_count": 78,
   "metadata": {},
   "outputs": [],
   "source": [
    "import numpy as np\n",
    "def f(prf, z):\n",
    "    return np.pi*np.exp(np.pi*z.conjugate()) # input the function\n",
    "\n",
    "def c1(prc, z):  # curve (path) 1\n",
    "    return z\n",
    "def c2(prc, z):  # curve (path) 2\n",
    "    return z\n",
    "def c3(prc, z):  # curve (path) 3\n",
    "    return z\n",
    "def c4(prc, z):  # curve (path) 4\n",
    "    return z"
   ]
  },
  {
   "cell_type": "code",
   "execution_count": 79,
   "metadata": {},
   "outputs": [
    {
     "name": "stdout",
     "output_type": "stream",
     "text": [
      "I_c1 = (22.14069355699097-5.899692905713894e-15j)\n",
      "I_c2 = (46.281386308945336-1.827109891954543e-14j)\n",
      "I_c3 = (22.14069355699098+6.033653069004802e-15j)\n",
      "I_c4 = (-2.000000423093183+1.4802973661668754e-17j)\n",
      "result I_c = (88.56277299983411-1.8122335782592855e-14j)\n"
     ]
    }
   ],
   "source": [
    "tol = 1e-6\n",
    "prf, prc = None, None\n",
    "\n",
    "intg1 = simp13cont(f, prf, c1, prc, 0, 1, tol)\n",
    "print('I_c1 =', intg1)\n",
    "intg2 = simp13cont(f, prf, c2, prc, 1, 1+1j, tol)\n",
    "print('I_c2 =', intg2)\n",
    "intg3 = simp13cont(f, prf, c3, prc, 1+1j, 1j, tol)\n",
    "print('I_c3 =', intg3)\n",
    "intg4 = simp13cont(f, prf, c4, prc, 1j, 0, tol)\n",
    "print('I_c4 =', intg4)\n",
    "\n",
    "intg = intg1 + intg2 + intg3 + intg4\n",
    "print('result I_c =', intg)"
   ]
  },
  {
   "cell_type": "markdown",
   "metadata": {},
   "source": [
    "**(e) Example:** $f(z)= \\frac{1}{(z-z_0)^n}, \\hspace{2mm} (n = 2,3,4,...)$; $c(\\theta) = Re^{j\\theta}$ and $z_0 = \\frac{R}{2} exp(\\frac{j\\pi}{4}), (R=1) $.\n",
    "\n",
    "**Solution:**"
   ]
  },
  {
   "cell_type": "code",
   "execution_count": 80,
   "metadata": {},
   "outputs": [],
   "source": [
    "import numpy as np\n",
    "def f(prf, z):\n",
    "    z0, n = prf\n",
    "    return 1/(z-z0)**n # input the function\n",
    "\n",
    "def c(prc, th):\n",
    "    R = prc\n",
    "    return R*np.exp(th*1j)  # input the curve"
   ]
  },
  {
   "cell_type": "code",
   "execution_count": 81,
   "metadata": {},
   "outputs": [
    {
     "name": "stdout",
     "output_type": "stream",
     "text": [
      "n = 2, I = (4.266343353926582e-09+1.391659530705444e-13j)\n",
      "n = 3, I = (-5.943228934898735e-09+1.241528591044285e-13j)\n",
      "n = 4, I = (6.757301247986022e-09-4.962590971092578e-14j)\n"
     ]
    }
   ],
   "source": [
    "tol = 1e-6\n",
    "R = 1\n",
    "z0 = (R/2)* np.exp(1j*np.pi/4)\n",
    "for n in range(2,5):\n",
    "    intg = simp13cont(f, [z0,n], c, R, 0, 2*np.pi, tol)\n",
    "    print('n = %d, I =' %(n), intg)"
   ]
  },
  {
   "cell_type": "markdown",
   "metadata": {},
   "source": [
    "**(f) Example:** $f(z)= (z^2+1)^2, \\hspace{3mm} [x = a(\\theta -\\sin\\theta), y = a(1 -\\cos\\theta)], \\hspace{2mm} (0 \\leq \\theta \\leq 2\\pi)$ and $c(\\theta) = x +yj$.\n",
    "\n",
    "**Solution:** We have, $(t_0=-\\pi, t_1=\\pi)$. $(t=\\theta)$"
   ]
  },
  {
   "cell_type": "code",
   "execution_count": 82,
   "metadata": {},
   "outputs": [],
   "source": [
    "import numpy as np\n",
    "def f(prf, z):\n",
    "    a = prf\n",
    "    return (z**2 + 1)**2 # input the function\n",
    "\n",
    "def c(a, th):\n",
    "    return a*(th-np.sin(th)) +1j*a*(1-np.cos(th))  # input the curve"
   ]
  },
  {
   "cell_type": "code",
   "execution_count": 83,
   "metadata": {},
   "outputs": [
    {
     "name": "stdout",
     "output_type": "stream",
     "text": [
      "result = (2130.175678928536+8.8889985479623e-05j)\n"
     ]
    }
   ],
   "source": [
    "tol = 1e-6\n",
    "a = 1\n",
    "intg = simp13cont(f, None, c, a, 0, 2*np.pi, tol)\n",
    "print('result =', intg)"
   ]
  },
  {
   "cell_type": "markdown",
   "metadata": {},
   "source": [
    "**(g) Example:** Calculate the definite integral, $$ G(z) = \\int_{\\pi-j\\pi}^{z} \\cos 3\\xi d\\xi $$ at an arbitary point $z=2+3j$.\n",
    "Then show $G'(z) = \\cos 3z$ at $z=2+3j$."
   ]
  },
  {
   "cell_type": "code",
   "execution_count": 84,
   "metadata": {},
   "outputs": [
    {
     "name": "stdout",
     "output_type": "stream",
     "text": [
      "value of the integration at z0 is (-377.354541469566-768.5512486606746j)\n",
      "dG/dz (z0) = (3890.170288681984+1132.063643168658j) and \n",
      "cos(3z0) = (3890.1702679932287+1132.0635990442863j)\n"
     ]
    }
   ],
   "source": [
    "import numpy as np\n",
    "def f(prf, xi): # integrand\n",
    "    return np.cos(3*xi)\n",
    "def G(pr, z):\n",
    "    return simp13z(f, pr, np.pi - 1j*np.pi, z, tol)\n",
    "\n",
    "tol = 1e-6\n",
    "z0 = 2 + 3*1j\n",
    "G0 = G(None, z0)\n",
    "print('value of the integration at z0 is', G0)\n",
    "\n",
    "rhs = np.cos(3*z0)\n",
    "lhs = dfdz3(G, None, z0, tol)\n",
    "print('dG/dz (z0) =', lhs, 'and \\ncos(3z0) =', rhs)"
   ]
  },
  {
   "cell_type": "markdown",
   "metadata": {},
   "source": [
    "**(h) Example:** $f(z) = \\sqrt{z}$ and $c$ is the boundary broken into 3 parts $c_1, c_2, c_3$ in anticlockwise direction.\n",
    "1. $c_1: z = re^{0}; (0 \\leq r \\leq 1)$.\n",
    "2. $c_2: z = 1e^{j\\theta}; (0 \\leq \\theta \\leq \\pi)$.\n",
    "3. $-c_3: z = re^{0}; (0 \\leq r \\leq 1)$.\n",
    "\n",
    "**Solution:** "
   ]
  },
  {
   "cell_type": "code",
   "execution_count": 85,
   "metadata": {},
   "outputs": [],
   "source": [
    "import numpy as np\n",
    "def f(prf, z):\n",
    "    return z**0.5 # input the function\n",
    "\n",
    "def c1(prc, r):  # curve (path) 1\n",
    "    return r\n",
    "def c2(prc, th):  # curve (path) 2\n",
    "    return np.exp(1j*th)\n",
    "def c3(prc, r):  # curve (path) 3\n",
    "    return -r"
   ]
  },
  {
   "cell_type": "code",
   "execution_count": 86,
   "metadata": {},
   "outputs": [
    {
     "name": "stdout",
     "output_type": "stream",
     "text": [
      "(-1.7539275942214797e-05-1.7268008757120867e-05j)\n"
     ]
    }
   ],
   "source": [
    "tol = 1e-6\n",
    "intg1 = simp13cont(f, None, c1, None, 0, 1, tol)\n",
    "intg2 = simp13cont(f, None, c2, None, 0, np.pi, tol)\n",
    "intg3 = simp13cont(f, None, c3, None, 1, 0, tol)\n",
    "intg = intg1 +intg2 +intg3\n",
    "print(intg)"
   ]
  },
  {
   "cell_type": "code",
   "execution_count": null,
   "metadata": {},
   "outputs": [],
   "source": []
  },
  {
   "cell_type": "markdown",
   "metadata": {},
   "source": [
    "## Cauchy integral formula"
   ]
  },
  {
   "cell_type": "code",
   "execution_count": 94,
   "metadata": {},
   "outputs": [
    {
     "ename": "TypeError",
     "evalue": "unsupported operand type(s) for ** or pow(): 'NoneType' and 'int'",
     "output_type": "error",
     "traceback": [
      "\u001b[1;31m---------------------------------------------------------------------------\u001b[0m",
      "\u001b[1;31mTypeError\u001b[0m                                 Traceback (most recent call last)",
      "\u001b[1;32m~\\AppData\\Local\\Temp\\ipykernel_22664\\4031884803.py\u001b[0m in \u001b[0;36m<module>\u001b[1;34m\u001b[0m\n\u001b[0;32m     15\u001b[0m \u001b[0mz0\u001b[0m \u001b[1;33m=\u001b[0m \u001b[1;33m-\u001b[0m\u001b[1;36m0.8j\u001b[0m\u001b[1;33m\u001b[0m\u001b[1;33m\u001b[0m\u001b[0m\n\u001b[0;32m     16\u001b[0m \u001b[0mR\u001b[0m \u001b[1;33m=\u001b[0m \u001b[1;36m1\u001b[0m\u001b[1;33m\u001b[0m\u001b[1;33m\u001b[0m\u001b[0m\n\u001b[1;32m---> 17\u001b[1;33m \u001b[0mintg\u001b[0m \u001b[1;33m=\u001b[0m \u001b[0msimp13cont\u001b[0m\u001b[1;33m(\u001b[0m\u001b[0mF\u001b[0m\u001b[1;33m,\u001b[0m \u001b[1;33m[\u001b[0m\u001b[0mf3\u001b[0m\u001b[1;33m,\u001b[0m \u001b[1;32mNone\u001b[0m\u001b[1;33m,\u001b[0m \u001b[0mz0\u001b[0m\u001b[1;33m]\u001b[0m\u001b[1;33m,\u001b[0m \u001b[0mc\u001b[0m\u001b[1;33m,\u001b[0m \u001b[0mR\u001b[0m\u001b[1;33m,\u001b[0m \u001b[0mth0\u001b[0m\u001b[1;33m,\u001b[0m \u001b[0mth1\u001b[0m\u001b[1;33m,\u001b[0m \u001b[0mtol\u001b[0m\u001b[1;33m)\u001b[0m\u001b[1;33m\u001b[0m\u001b[1;33m\u001b[0m\u001b[0m\n\u001b[0m\u001b[0;32m     18\u001b[0m \u001b[0mprint\u001b[0m\u001b[1;33m(\u001b[0m\u001b[0mintg\u001b[0m\u001b[1;33m)\u001b[0m\u001b[1;33m\u001b[0m\u001b[1;33m\u001b[0m\u001b[0m\n",
      "\u001b[1;32m~\\AppData\\Local\\Temp\\ipykernel_22664\\546060589.py\u001b[0m in \u001b[0;36msimp13cont\u001b[1;34m(f, prf, c, prc, t0, t1, tol)\u001b[0m\n\u001b[0;32m      7\u001b[0m \u001b[1;32mdef\u001b[0m \u001b[0msimp13cont\u001b[0m\u001b[1;33m(\u001b[0m\u001b[0mf\u001b[0m\u001b[1;33m,\u001b[0m \u001b[0mprf\u001b[0m\u001b[1;33m,\u001b[0m \u001b[0mc\u001b[0m\u001b[1;33m,\u001b[0m \u001b[0mprc\u001b[0m\u001b[1;33m,\u001b[0m \u001b[0mt0\u001b[0m\u001b[1;33m,\u001b[0m \u001b[0mt1\u001b[0m\u001b[1;33m,\u001b[0m \u001b[0mtol\u001b[0m\u001b[1;33m)\u001b[0m\u001b[1;33m:\u001b[0m\u001b[1;33m\u001b[0m\u001b[1;33m\u001b[0m\u001b[0m\n\u001b[0;32m      8\u001b[0m     \u001b[0mfnpr\u001b[0m \u001b[1;33m=\u001b[0m \u001b[1;33m[\u001b[0m\u001b[0mf\u001b[0m\u001b[1;33m,\u001b[0m \u001b[0mprf\u001b[0m\u001b[1;33m,\u001b[0m \u001b[0mc\u001b[0m\u001b[1;33m,\u001b[0m \u001b[0mprc\u001b[0m\u001b[1;33m,\u001b[0m \u001b[0mtol\u001b[0m\u001b[1;33m]\u001b[0m\u001b[1;33m\u001b[0m\u001b[1;33m\u001b[0m\u001b[0m\n\u001b[1;32m----> 9\u001b[1;33m     \u001b[0mcontintg\u001b[0m \u001b[1;33m=\u001b[0m \u001b[0msimp13z\u001b[0m\u001b[1;33m(\u001b[0m\u001b[0mfzdz\u001b[0m\u001b[1;33m,\u001b[0m \u001b[0mfnpr\u001b[0m\u001b[1;33m,\u001b[0m \u001b[0mt0\u001b[0m\u001b[1;33m,\u001b[0m \u001b[0mt1\u001b[0m\u001b[1;33m,\u001b[0m \u001b[0mtol\u001b[0m\u001b[1;33m)\u001b[0m\u001b[1;33m\u001b[0m\u001b[1;33m\u001b[0m\u001b[0m\n\u001b[0m\u001b[0;32m     10\u001b[0m     \u001b[1;32mreturn\u001b[0m \u001b[0mcontintg\u001b[0m\u001b[1;33m\u001b[0m\u001b[1;33m\u001b[0m\u001b[0m\n",
      "\u001b[1;32m~\\AppData\\Local\\Temp\\ipykernel_22664\\2209205423.py\u001b[0m in \u001b[0;36msimp13z\u001b[1;34m(f, pr, a, b, tol)\u001b[0m\n\u001b[0;32m      7\u001b[0m         \u001b[1;32mfor\u001b[0m \u001b[0mi\u001b[0m \u001b[1;32min\u001b[0m \u001b[0mrange\u001b[0m\u001b[1;33m(\u001b[0m\u001b[0mn\u001b[0m\u001b[1;33m+\u001b[0m\u001b[1;36m1\u001b[0m\u001b[1;33m)\u001b[0m\u001b[1;33m:\u001b[0m\u001b[1;33m\u001b[0m\u001b[1;33m\u001b[0m\u001b[0m\n\u001b[0;32m      8\u001b[0m             \u001b[1;32mif\u001b[0m \u001b[0mi\u001b[0m\u001b[1;33m==\u001b[0m\u001b[1;36m0\u001b[0m \u001b[1;32mor\u001b[0m \u001b[0mi\u001b[0m\u001b[1;33m==\u001b[0m\u001b[0mn\u001b[0m\u001b[1;33m:\u001b[0m\u001b[1;33m\u001b[0m\u001b[1;33m\u001b[0m\u001b[0m\n\u001b[1;32m----> 9\u001b[1;33m                 \u001b[0mI2\u001b[0m \u001b[1;33m+=\u001b[0m \u001b[0mf\u001b[0m\u001b[1;33m(\u001b[0m\u001b[0mpr\u001b[0m\u001b[1;33m,\u001b[0m \u001b[0ma\u001b[0m\u001b[1;33m+\u001b[0m\u001b[0mi\u001b[0m\u001b[1;33m*\u001b[0m\u001b[0mh\u001b[0m\u001b[1;33m)\u001b[0m\u001b[1;33m\u001b[0m\u001b[1;33m\u001b[0m\u001b[0m\n\u001b[0m\u001b[0;32m     10\u001b[0m             \u001b[1;32melif\u001b[0m \u001b[1;33m(\u001b[0m\u001b[0mi\u001b[0m\u001b[1;33m%\u001b[0m\u001b[1;36m2\u001b[0m\u001b[1;33m)\u001b[0m\u001b[1;33m==\u001b[0m\u001b[1;36m0\u001b[0m\u001b[1;33m:\u001b[0m\u001b[1;33m\u001b[0m\u001b[1;33m\u001b[0m\u001b[0m\n\u001b[0;32m     11\u001b[0m                 \u001b[0mI2\u001b[0m \u001b[1;33m+=\u001b[0m \u001b[1;36m2\u001b[0m\u001b[1;33m*\u001b[0m\u001b[0mf\u001b[0m\u001b[1;33m(\u001b[0m\u001b[0mpr\u001b[0m\u001b[1;33m,\u001b[0m \u001b[0ma\u001b[0m\u001b[1;33m+\u001b[0m\u001b[0mi\u001b[0m\u001b[1;33m*\u001b[0m\u001b[0mh\u001b[0m\u001b[1;33m)\u001b[0m\u001b[1;33m\u001b[0m\u001b[1;33m\u001b[0m\u001b[0m\n",
      "\u001b[1;32m~\\AppData\\Local\\Temp\\ipykernel_22664\\546060589.py\u001b[0m in \u001b[0;36mfzdz\u001b[1;34m(fnpr, t)\u001b[0m\n\u001b[0;32m      2\u001b[0m     \u001b[0mf\u001b[0m\u001b[1;33m,\u001b[0m \u001b[0mprf\u001b[0m\u001b[1;33m,\u001b[0m \u001b[0mc\u001b[0m\u001b[1;33m,\u001b[0m \u001b[0mprc\u001b[0m\u001b[1;33m,\u001b[0m \u001b[0mtol\u001b[0m \u001b[1;33m=\u001b[0m \u001b[0mfnpr\u001b[0m\u001b[1;33m\u001b[0m\u001b[1;33m\u001b[0m\u001b[0m\n\u001b[0;32m      3\u001b[0m     \u001b[0mz\u001b[0m \u001b[1;33m=\u001b[0m \u001b[0mc\u001b[0m\u001b[1;33m(\u001b[0m\u001b[0mprc\u001b[0m\u001b[1;33m,\u001b[0m \u001b[0mt\u001b[0m\u001b[1;33m)\u001b[0m\u001b[1;33m\u001b[0m\u001b[1;33m\u001b[0m\u001b[0m\n\u001b[1;32m----> 4\u001b[1;33m     \u001b[0mFt\u001b[0m \u001b[1;33m=\u001b[0m \u001b[0mf\u001b[0m\u001b[1;33m(\u001b[0m\u001b[0mprf\u001b[0m\u001b[1;33m,\u001b[0m \u001b[0mz\u001b[0m\u001b[1;33m)\u001b[0m\u001b[1;33m*\u001b[0m \u001b[0mdfdz3\u001b[0m\u001b[1;33m(\u001b[0m\u001b[0mc\u001b[0m\u001b[1;33m,\u001b[0m \u001b[0mprc\u001b[0m\u001b[1;33m,\u001b[0m \u001b[0mt\u001b[0m\u001b[1;33m,\u001b[0m \u001b[0mtol\u001b[0m\u001b[1;33m)\u001b[0m\u001b[1;33m\u001b[0m\u001b[1;33m\u001b[0m\u001b[0m\n\u001b[0m\u001b[0;32m      5\u001b[0m     \u001b[1;32mreturn\u001b[0m \u001b[0mFt\u001b[0m\u001b[1;33m\u001b[0m\u001b[1;33m\u001b[0m\u001b[0m\n\u001b[0;32m      6\u001b[0m \u001b[1;33m\u001b[0m\u001b[0m\n",
      "\u001b[1;32m~\\AppData\\Local\\Temp\\ipykernel_22664\\4031884803.py\u001b[0m in \u001b[0;36mF\u001b[1;34m(pr, z)\u001b[0m\n\u001b[0;32m      8\u001b[0m \u001b[1;32mdef\u001b[0m \u001b[0mF\u001b[0m\u001b[1;33m(\u001b[0m\u001b[0mpr\u001b[0m\u001b[1;33m,\u001b[0m \u001b[0mz\u001b[0m\u001b[1;33m)\u001b[0m\u001b[1;33m:\u001b[0m\u001b[1;33m\u001b[0m\u001b[1;33m\u001b[0m\u001b[0m\n\u001b[0;32m      9\u001b[0m     \u001b[0mf\u001b[0m\u001b[1;33m,\u001b[0m \u001b[0mprf\u001b[0m\u001b[1;33m,\u001b[0m \u001b[0mz0\u001b[0m \u001b[1;33m=\u001b[0m \u001b[0mpr\u001b[0m\u001b[1;33m\u001b[0m\u001b[1;33m\u001b[0m\u001b[0m\n\u001b[1;32m---> 10\u001b[1;33m     \u001b[0mfz1\u001b[0m \u001b[1;33m=\u001b[0m \u001b[0mf\u001b[0m\u001b[1;33m(\u001b[0m\u001b[0mprf\u001b[0m\u001b[1;33m,\u001b[0m \u001b[0mz\u001b[0m\u001b[1;33m)\u001b[0m\u001b[1;33m\u001b[0m\u001b[1;33m\u001b[0m\u001b[0m\n\u001b[0m\u001b[0;32m     11\u001b[0m     \u001b[1;32mreturn\u001b[0m \u001b[0mfz1\u001b[0m\u001b[1;33m/\u001b[0m\u001b[1;33m(\u001b[0m\u001b[0mz\u001b[0m\u001b[1;33m-\u001b[0m\u001b[0mz0\u001b[0m\u001b[1;33m)\u001b[0m\u001b[1;33m\u001b[0m\u001b[1;33m\u001b[0m\u001b[0m\n\u001b[0;32m     12\u001b[0m \u001b[1;33m\u001b[0m\u001b[0m\n",
      "\u001b[1;32m~\\AppData\\Local\\Temp\\ipykernel_22664\\4031884803.py\u001b[0m in \u001b[0;36mf3\u001b[1;34m(prf, z)\u001b[0m\n\u001b[0;32m      1\u001b[0m \u001b[1;32mimport\u001b[0m \u001b[0mnumpy\u001b[0m \u001b[1;32mas\u001b[0m \u001b[0mnp\u001b[0m\u001b[1;33m\u001b[0m\u001b[1;33m\u001b[0m\u001b[0m\n\u001b[0;32m      2\u001b[0m \u001b[1;32mdef\u001b[0m \u001b[0mf3\u001b[0m\u001b[1;33m(\u001b[0m\u001b[0mprf\u001b[0m\u001b[1;33m,\u001b[0m \u001b[0mz\u001b[0m\u001b[1;33m)\u001b[0m\u001b[1;33m:\u001b[0m\u001b[1;33m\u001b[0m\u001b[1;33m\u001b[0m\u001b[0m\n\u001b[1;32m----> 3\u001b[1;33m     \u001b[1;32mreturn\u001b[0m \u001b[1;36m1\u001b[0m\u001b[1;33m/\u001b[0m\u001b[1;33m(\u001b[0m\u001b[0mz\u001b[0m\u001b[1;33m**\u001b[0m\u001b[1;36m2\u001b[0m \u001b[1;33m+\u001b[0m \u001b[1;36m2\u001b[0m\u001b[1;33m*\u001b[0m\u001b[0mz\u001b[0m \u001b[1;33m+\u001b[0m \u001b[1;36m2\u001b[0m\u001b[1;33m)\u001b[0m\u001b[1;33m\u001b[0m\u001b[1;33m\u001b[0m\u001b[0m\n\u001b[0m\u001b[0;32m      4\u001b[0m \u001b[1;33m\u001b[0m\u001b[0m\n\u001b[0;32m      5\u001b[0m \u001b[1;32mdef\u001b[0m \u001b[0mc\u001b[0m\u001b[1;33m(\u001b[0m\u001b[0mR\u001b[0m\u001b[1;33m,\u001b[0m \u001b[0mth\u001b[0m\u001b[1;33m)\u001b[0m\u001b[1;33m:\u001b[0m\u001b[1;33m\u001b[0m\u001b[1;33m\u001b[0m\u001b[0m\n",
      "\u001b[1;31mTypeError\u001b[0m: unsupported operand type(s) for ** or pow(): 'NoneType' and 'int'"
     ]
    }
   ],
   "source": [
    "import numpy as np\n",
    "def f3(prf, z):\n",
    "    return 1/(z**2 + 2*z + 2)\n",
    "\n",
    "def c(R, th):\n",
    "    R*np.exp(1j*th)\n",
    "\n",
    "def F(pr, z):\n",
    "    f, prf, z0 = pr\n",
    "    fz1 = f(prf, z)\n",
    "    return fz1/(z-z0)\n",
    "\n",
    "tol = 1e-6\n",
    "th0, th1 = 0, 2*np.pi\n",
    "z0 = -0.8j\n",
    "R = 1\n",
    "intg = simp13cont(F, [f3, None, z0], c, R, th0, th1, tol)\n",
    "print(intg)"
   ]
  },
  {
   "cell_type": "code",
   "execution_count": null,
   "metadata": {},
   "outputs": [],
   "source": []
  },
  {
   "cell_type": "markdown",
   "metadata": {},
   "source": [
    "## Question-7:\n",
    "$$\\int_0^\\infty \\frac{1}{2+x^2} dx$$"
   ]
  },
  {
   "cell_type": "code",
   "execution_count": 89,
   "metadata": {},
   "outputs": [
    {
     "name": "stdout",
     "output_type": "stream",
     "text": [
      "(1.5707654086803873-2.0258428330076593e-13j)\n"
     ]
    }
   ],
   "source": [
    "R = 1e3\n",
    "def f(prf, z):\n",
    "    return 1/(1+z**2)\n",
    "def c1(prc, th):\n",
    "    return R*np.exp(1j*th)\n",
    "def c2(prc, r):\n",
    "    return r\n",
    "def c3(prc, r):\n",
    "    return -r\n",
    "tol = 1e-6\n",
    "intg1 = simp13cont(f, None, c1, None, 0, np.pi, tol)\n",
    "intg2 = simp13cont(f, None, c2, None, 0, R, tol)\n",
    "intg3 = simp13cont(f, None, c3, None, R, 0, tol)\n",
    "intg = intg1 + intg2 + intg3\n",
    "print(intg/2)"
   ]
  },
  {
   "cell_type": "code",
   "execution_count": null,
   "metadata": {},
   "outputs": [],
   "source": []
  },
  {
   "cell_type": "code",
   "execution_count": null,
   "metadata": {},
   "outputs": [
    {
     "name": "stdout",
     "output_type": "stream",
     "text": [
      "2.221241469080515\n"
     ]
    }
   ],
   "source": [
    "import numpy as np\n",
    "import scipy as sp\n",
    "from scipy.integrate import simps\n",
    "\n",
    "xmax = 10000  # set the limits\n",
    "x = np.linspace(-xmax,xmax,xmax*1000)\n",
    "f1 = 1/(x**2 + 2)\n",
    "f2 = simps(f1,x)\n",
    "print(f2)"
   ]
  },
  {
   "cell_type": "code",
   "execution_count": null,
   "metadata": {},
   "outputs": [
    {
     "name": "stdout",
     "output_type": "stream",
     "text": [
      "(2.221441469079183, 2.3503244600650737e-09) 1.1107207345395915\n"
     ]
    }
   ],
   "source": [
    "from scipy.integrate import quad\n",
    "fx = lambda x: 1/(2+x**2)\n",
    "intgv = quad(fx, -np.inf, np.inf)\n",
    "print(intgv, intgv[0]/2)"
   ]
  },
  {
   "cell_type": "code",
   "execution_count": null,
   "metadata": {},
   "outputs": [],
   "source": []
  }
 ],
 "metadata": {
  "kernelspec": {
   "display_name": "Python 3 (ipykernel)",
   "language": "python",
   "name": "python3"
  },
  "language_info": {
   "codemirror_mode": {
    "name": "ipython",
    "version": 3
   },
   "file_extension": ".py",
   "mimetype": "text/x-python",
   "name": "python",
   "nbconvert_exporter": "python",
   "pygments_lexer": "ipython3",
   "version": "3.9.13"
  }
 },
 "nbformat": 4,
 "nbformat_minor": 2
}
