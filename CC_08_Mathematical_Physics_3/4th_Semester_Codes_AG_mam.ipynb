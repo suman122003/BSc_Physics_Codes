{
 "cells": [
  {
   "cell_type": "markdown",
   "id": "acb71f0e",
   "metadata": {},
   "source": [
    "# 4th Semester Notes (AG mam)"
   ]
  },
  {
   "cell_type": "markdown",
   "id": "8e5a688e",
   "metadata": {},
   "source": [
    "## Simpson's Method for Integrations"
   ]
  },
  {
   "cell_type": "markdown",
   "id": "1ee30ef5",
   "metadata": {},
   "source": [
    "$$ I = \\int_a^b f(x)dx $$\n",
    "For Simpson's rule, we divide the interval [a,b] into an even number of sub-intervals.\n",
    "$$ I = \\frac{h}{3} [y_0 + 4(y_1+y_3+...+y_{n-1}) + 2(y_2+y_4+...+y_{n-2}) + y_n] $$"
   ]
  },
  {
   "cell_type": "code",
   "execution_count": 1,
   "id": "4db969e6",
   "metadata": {},
   "outputs": [
    {
     "name": "stdout",
     "output_type": "stream",
     "text": [
      "2.3333333333333233\n"
     ]
    }
   ],
   "source": [
    "def f(x):\n",
    "    return x**2\n",
    "a,b,n = 1,2,10000  # upper and lower limits\n",
    "h = (b-a)/n\n",
    "s = f(a) + f(b)\n",
    "h1 = 4\n",
    "for i in range(1,n):\n",
    "    s += h1*f(a+i*h)\n",
    "    h1 = 6-h1\n",
    "sm = s*h/3\n",
    "print(sm)"
   ]
  },
  {
   "cell_type": "code",
   "execution_count": 2,
   "id": "43ea442e",
   "metadata": {},
   "outputs": [
    {
     "data": {
      "text/plain": [
       "2.3333333333333295"
      ]
     },
     "execution_count": 2,
     "metadata": {},
     "output_type": "execute_result"
    }
   ],
   "source": [
    "def f(x):\n",
    "    return x**2\n",
    "a,b,n = 1,2,10000  # upper and lower limits\n",
    "h = (b-a)/n\n",
    "s = f(a) + f(b)\n",
    "s1 = 4* sum(f(a+i*h) for i in range(1,n,2))\n",
    "s2 = 2* sum(f(a+i*h) for i in range(2,n,2))\n",
    "sm = (s +s1 +s2)*h/3\n",
    "sm"
   ]
  },
  {
   "cell_type": "code",
   "execution_count": 3,
   "id": "a5ae3ca0",
   "metadata": {},
   "outputs": [
    {
     "name": "stdout",
     "output_type": "stream",
     "text": [
      "2.3333333333331527\n"
     ]
    }
   ],
   "source": [
    "import numpy as np\n",
    "def f(x):\n",
    "    return x**2\n",
    "a,b,n = 1,2,10000  # upper and lower limits\n",
    "h = (b-a)/n\n",
    "x0 = np.arange(a+h,b,2*h)\n",
    "xe = np.arange(a+2*h,b,2*h)\n",
    "val = h/3*(f(a) + 4*sum(f(x0)) + 2*sum(f(xe)) + f(b))\n",
    "print(val)"
   ]
  },
  {
   "cell_type": "code",
   "execution_count": 4,
   "id": "becb1849",
   "metadata": {},
   "outputs": [
    {
     "data": {
      "text/latex": [
       "$\\displaystyle 2.33333333333333$"
      ],
      "text/plain": [
       "2.33333333333333"
      ]
     },
     "execution_count": 4,
     "metadata": {},
     "output_type": "execute_result"
    }
   ],
   "source": [
    "# verification\n",
    "import sympy as smp\n",
    "x = smp.symbols('x')\n",
    "smp.integrate(x**2,(x,1,2)).evalf()"
   ]
  },
  {
   "cell_type": "markdown",
   "id": "c3742cb6",
   "metadata": {},
   "source": [
    "### Discrete values"
   ]
  },
  {
   "cell_type": "code",
   "execution_count": 5,
   "id": "7d5fed08",
   "metadata": {},
   "outputs": [
    {
     "name": "stdout",
     "output_type": "stream",
     "text": [
      "19.2\n"
     ]
    }
   ],
   "source": [
    "x = [1,2,3,4,5]\n",
    "y = [4,5,6,7,8]\n",
    "a, b = 1, 5  # limits of integration\n",
    "n = len(x)\n",
    "h = (b-a)/n\n",
    "s = y[0] + y[n-1]\n",
    "h1 = 4\n",
    "for i in range(1,n-1):\n",
    "    s += h1*y[i]\n",
    "    h1 = 6-h1\n",
    "sm = s*h/3\n",
    "print(sm)"
   ]
  },
  {
   "cell_type": "code",
   "execution_count": 6,
   "id": "f0b00a8b",
   "metadata": {},
   "outputs": [
    {
     "data": {
      "text/latex": [
       "$\\displaystyle 24$"
      ],
      "text/plain": [
       "24"
      ]
     },
     "execution_count": 6,
     "metadata": {},
     "output_type": "execute_result"
    }
   ],
   "source": [
    "# verification\n",
    "import sympy as smp\n",
    "x = smp.symbols('x')\n",
    "smp.integrate(x+3, (x,1,5))"
   ]
  },
  {
   "cell_type": "code",
   "execution_count": 7,
   "id": "7cb14888",
   "metadata": {},
   "outputs": [
    {
     "name": "stdout",
     "output_type": "stream",
     "text": [
      "3.495166833500168\n"
     ]
    }
   ],
   "source": [
    "import numpy as np\n",
    "x = np.linspace(0,1,1000)\n",
    "y = np.linspace(3,4,1000)\n",
    "h = 0.001\n",
    "h1 = 4\n",
    "n = len(y)\n",
    "s = y[0] + y[n-1]\n",
    "for i in range(1,n-1):\n",
    "    s += h1*y[i]\n",
    "    h1 = 6-h1\n",
    "s = h*s/3\n",
    "print(s)"
   ]
  },
  {
   "cell_type": "code",
   "execution_count": 8,
   "id": "973c8963",
   "metadata": {},
   "outputs": [
    {
     "data": {
      "text/latex": [
       "$\\displaystyle 3.5$"
      ],
      "text/plain": [
       "3.50000000000000"
      ]
     },
     "execution_count": 8,
     "metadata": {},
     "output_type": "execute_result"
    }
   ],
   "source": [
    "# verification\n",
    "import sympy as smp\n",
    "x = smp.symbols('x')\n",
    "smp.integrate(x+3, (x,0,1)).evalf()"
   ]
  },
  {
   "cell_type": "code",
   "execution_count": null,
   "id": "a601921e",
   "metadata": {},
   "outputs": [],
   "source": []
  },
  {
   "cell_type": "markdown",
   "id": "849d5ffa",
   "metadata": {},
   "source": [
    "# Additional things"
   ]
  },
  {
   "cell_type": "markdown",
   "id": "1b143b88",
   "metadata": {},
   "source": [
    "**(modify: code will take n=2,3,4 and give all the results in a single code)**"
   ]
  },
  {
   "cell_type": "markdown",
   "id": "b8149f56",
   "metadata": {},
   "source": [
    "**(modify: code should give 2 roots. try to do it by using code of Question 8)**"
   ]
  },
  {
   "cell_type": "code",
   "execution_count": 9,
   "id": "4bfaa516",
   "metadata": {},
   "outputs": [
    {
     "name": "stdout",
     "output_type": "stream",
     "text": [
      "2.9999999999999996 + j -2.0\n"
     ]
    }
   ],
   "source": [
    "import numpy as np\n",
    "\n",
    "# Values of x and y\n",
    "x, y = -5, 12\n",
    "\n",
    "a, b = float(x), float(y)\n",
    "z2 = a**2 + b**2\n",
    "r = (z2)**0.5\n",
    "tn1 = np.arctan(b/a)\n",
    "tn2 = tn1/2\n",
    "rtr = (r)**0.5\n",
    "sn = np.sin(tn2)\n",
    "cs = np.cos(tn2)\n",
    "\n",
    "rl = rtr * cs   # real part\n",
    "img = rtr * sn  # imaginary part\n",
    "print(rl, '+ j', img)"
   ]
  },
  {
   "cell_type": "code",
   "execution_count": 10,
   "id": "c27f1b55",
   "metadata": {},
   "outputs": [
    {
     "data": {
      "text/latex": [
       "$\\displaystyle 2.0 + 3.0 i$"
      ],
      "text/plain": [
       "2.0 + 3.0*I"
      ]
     },
     "execution_count": 10,
     "metadata": {},
     "output_type": "execute_result"
    }
   ],
   "source": [
    "# verification\n",
    "import sympy as smp\n",
    "from sympy import *\n",
    "x = -5 +12*I\n",
    "smp.sqrt(x).evalf()"
   ]
  },
  {
   "cell_type": "markdown",
   "id": "392664db",
   "metadata": {},
   "source": [
    "## Question-5:"
   ]
  },
  {
   "cell_type": "code",
   "execution_count": null,
   "id": "f667f522",
   "metadata": {},
   "outputs": [],
   "source": []
  },
  {
   "cell_type": "markdown",
   "id": "ed43a596",
   "metadata": {},
   "source": [
    "## Question-6:"
   ]
  },
  {
   "cell_type": "code",
   "execution_count": null,
   "id": "5549f0f8",
   "metadata": {},
   "outputs": [],
   "source": []
  }
 ],
 "metadata": {
  "kernelspec": {
   "display_name": "Python 3 (ipykernel)",
   "language": "python",
   "name": "python3"
  },
  "language_info": {
   "codemirror_mode": {
    "name": "ipython",
    "version": 3
   },
   "file_extension": ".py",
   "mimetype": "text/x-python",
   "name": "python",
   "nbconvert_exporter": "python",
   "pygments_lexer": "ipython3",
   "version": "3.9.13"
  }
 },
 "nbformat": 4,
 "nbformat_minor": 5
}
