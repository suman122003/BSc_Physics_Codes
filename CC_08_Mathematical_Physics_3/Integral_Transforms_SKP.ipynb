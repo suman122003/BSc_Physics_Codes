{
 "cells": [
  {
   "cell_type": "markdown",
   "id": "201d0c8a",
   "metadata": {},
   "source": [
    "# Integral Transforms (SKP)"
   ]
  },
  {
   "cell_type": "markdown",
   "id": "b9f548a9",
   "metadata": {},
   "source": [
    "$$ I(F(t)) = \\int_0^x F(t) K(x,t) dt = f(x) $$\n",
    "Where, $K(x,t)$ is called the kernel.\n",
    "\n",
    "Code for analytic solution of Laplace transform is given here."
   ]
  },
  {
   "cell_type": "markdown",
   "id": "b8e77c02",
   "metadata": {},
   "source": [
    "## Laplace Transform\n",
    "\n",
    "$$ L(F(t)) = \\int_0^\\infty e^{-st} F(t) dt = f(s) $$"
   ]
  },
  {
   "cell_type": "code",
   "execution_count": 1,
   "id": "36cb4512",
   "metadata": {},
   "outputs": [
    {
     "data": {
      "text/plain": [
       "'Function'"
      ]
     },
     "metadata": {},
     "output_type": "display_data"
    },
    {
     "data": {
      "text/latex": [
       "$\\displaystyle - \\cos{\\left(t + \\frac{\\pi}{4} \\right)}$"
      ],
      "text/plain": [
       "-cos(t + pi/4)"
      ]
     },
     "metadata": {},
     "output_type": "display_data"
    },
    {
     "data": {
      "text/plain": [
       "'Laplace Transform'"
      ]
     },
     "metadata": {},
     "output_type": "display_data"
    },
    {
     "data": {
      "text/latex": [
       "$\\displaystyle \\begin{cases} \\frac{\\sqrt{2} \\cdot \\left(1 - s\\right)}{2 \\left(s^{2} + 1\\right)} & \\text{for}\\: \\left|{\\arg{\\left(s \\right)}}\\right| < \\frac{\\pi}{2} \\\\- \\int\\limits_{0}^{\\infty} e^{- s t} \\cos{\\left(t + \\frac{\\pi}{4} \\right)}\\, dt & \\text{otherwise} \\end{cases}$"
      ],
      "text/plain": [
       "Piecewise((sqrt(2)*(1 - s)/(2*(s**2 + 1)), Abs(arg(s)) < pi/2), (-Integral(exp(-s*t)*cos(t + pi/4), (t, 0, oo)), True))"
      ]
     },
     "metadata": {},
     "output_type": "display_data"
    }
   ],
   "source": [
    "import sympy as smp\n",
    "from sympy import *\n",
    "t = Symbol('t', real=True, positive=True)\n",
    "s = Symbol('s', real=True)\n",
    "F = Function('F')\n",
    "F = F(t)\n",
    "F = smp.sin(t-smp.pi/4)  # input the function\n",
    "display('Function', F)\n",
    "LF = smp.integrate(smp.exp(-s*t)*F, (t,0,smp.oo))\n",
    "display('Laplace Transform', LF.simplify())"
   ]
  },
  {
   "cell_type": "code",
   "execution_count": null,
   "id": "3706c48e",
   "metadata": {},
   "outputs": [],
   "source": []
  },
  {
   "cell_type": "code",
   "execution_count": null,
   "id": "662a6729",
   "metadata": {},
   "outputs": [],
   "source": []
  }
 ],
 "metadata": {
  "kernelspec": {
   "display_name": "Python 3 (ipykernel)",
   "language": "python",
   "name": "python3"
  },
  "language_info": {
   "codemirror_mode": {
    "name": "ipython",
    "version": 3
   },
   "file_extension": ".py",
   "mimetype": "text/x-python",
   "name": "python",
   "nbconvert_exporter": "python",
   "pygments_lexer": "ipython3",
   "version": "3.9.13"
  }
 },
 "nbformat": 4,
 "nbformat_minor": 5
}
