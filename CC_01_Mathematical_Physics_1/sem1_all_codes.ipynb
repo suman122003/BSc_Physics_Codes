{
 "cells": [
  {
   "cell_type": "markdown",
   "metadata": {},
   "source": [
    "# CC 01 (Mathematical Physics 1) All Codes"
   ]
  },
  {
   "cell_type": "markdown",
   "metadata": {},
   "source": [
    "## Content\n",
    "\n",
    "> **Calculation of mean, variance, std dev**\n",
    "\n",
    "> **GCD and LCD of 2 numbers**\n",
    "\n",
    "> **Pythagoras number generation**\n",
    "\n",
    "> **Sorting ascending order**\n",
    "\n",
    "> **Binary and Decimal conversions** (binary to decimal and decimal to binary)\n",
    "\n",
    "> **Roots of quadratic equation**\n",
    "\n",
    "> **Bisection Method**\n",
    "\n",
    "> **Newton - Raphson method**\n",
    "\n",
    "> **Secant method**\n",
    "\n",
    "> **Interpolation** (direct forward difference method)\n",
    "\n",
    "> **Matrices** (addition and multiplication)\n",
    "\n",
    "> **Integration** (trapezoidal and Simpson's method)"
   ]
  },
  {
   "cell_type": "markdown",
   "metadata": {},
   "source": [
    "### Calculation of mean, variance, std dev"
   ]
  },
  {
   "cell_type": "code",
   "execution_count": 1,
   "metadata": {},
   "outputs": [
    {
     "name": "stdout",
     "output_type": "stream",
     "text": [
      "mean, var, stdev = 1.5, 4.916666666666667, 2.217355782608345\n"
     ]
    }
   ],
   "source": [
    "import math\n",
    "import numpy as np\n",
    "\n",
    "x = [2, 3, 0, 1, -2, 5]\n",
    "y = [i**2 for i in x]\n",
    "n = len(x)\n",
    "meanfn = np.sum(x)/n\n",
    "varfn = np.sum(y)/n - meanfn**2\n",
    "stdevfn = math.sqrt(varfn)\n",
    "print(f'mean, var, stdev = {meanfn}, {varfn}, {stdevfn}')"
   ]
  },
  {
   "cell_type": "markdown",
   "metadata": {},
   "source": [
    "### GCD and LCD of 2 numbers"
   ]
  },
  {
   "cell_type": "code",
   "execution_count": 2,
   "metadata": {},
   "outputs": [
    {
     "name": "stdout",
     "output_type": "stream",
     "text": [
      "numbers: 20, 135 \n",
      "GCD = 5 and LCD = 540.0\n"
     ]
    }
   ],
   "source": [
    "# m1, n1 = eval(input('enter 2 numbers: m, n = '))\n",
    "m1, n1 = 20, 135       # INPUT\n",
    "mnprod = m1*n1\n",
    "\n",
    "def gcd(m, n):\n",
    "    r = m % n\n",
    "    while r > 0:\n",
    "        m, n = n, r\n",
    "        r = m % n\n",
    "    return n\n",
    "\n",
    "print(f'numbers: {m1}, {n1} \\nGCD = {gcd(m1,n1)} and LCD = {mnprod/gcd(m1,n1)}')"
   ]
  },
  {
   "cell_type": "markdown",
   "metadata": {},
   "source": [
    "### Pythagoras number generation"
   ]
  },
  {
   "cell_type": "code",
   "execution_count": 3,
   "metadata": {},
   "outputs": [
    {
     "name": "stdout",
     "output_type": "stream",
     "text": [
      "x = 35, y = 12, z = 37\n",
      "x = 27, y = 36, z = 45\n"
     ]
    }
   ],
   "source": [
    "def gcd(m, n):\n",
    "    r = m % n\n",
    "    while r > 0:\n",
    "        m, n = n, r\n",
    "        r = m % n\n",
    "    return n\n",
    "\n",
    "# n1 = eval(input('enter a number: '))\n",
    "n1 = 4      # INPUT\n",
    "\n",
    "for m in range(1, n1):\n",
    "    if gcd(m, n1) == 1:\n",
    "        x = n**2 - m**2\n",
    "        y = 2*n*m\n",
    "        z = n**2 + m**2\n",
    "        print(f'x = {x}, y = {y}, z = {z}')"
   ]
  },
  {
   "cell_type": "markdown",
   "metadata": {},
   "source": [
    "### Sorting ascending order"
   ]
  },
  {
   "cell_type": "code",
   "execution_count": 4,
   "metadata": {},
   "outputs": [
    {
     "name": "stdout",
     "output_type": "stream",
     "text": [
      "Original form: [10, -2, 0, 1, 100, 15, 9, -12]\n",
      "sort by defined function: [-12, -2, 0, 1, 9, 10, 15, 100] \n",
      "sort by available function (sorted): [-12, -2, 0, 1, 9, 10, 15, 100]\n",
      "sort: [-12, -2, 0, 1, 9, 10, 15, 100]\n",
      "sort(reverse): [100, 15, 10, 9, 1, 0, -2, -12]\n"
     ]
    }
   ],
   "source": [
    "L = [10, -2, 0, 1, 100, 15, 9, -12]\n",
    "\n",
    "def sort_ascending(L):\n",
    "    n = len(L)\n",
    "    for i in range(n):\n",
    "        key = L[i]\n",
    "        j = i-1\n",
    "        while j >= 0 and L[j] > key:\n",
    "            L[j+1] = L[j]\n",
    "            j = j-1\n",
    "        L[j+1] = key\n",
    "    return L\n",
    "\n",
    "print(f'''Original form: {L}\n",
    "sort by defined function: {sort_ascending(L)} \n",
    "sort by available function (sorted): {sorted(L)}''')\n",
    "\n",
    "L.sort()\n",
    "print(f'sort: {L}')\n",
    "L.sort(reverse=True)\n",
    "print(f'sort(reverse): {L}')"
   ]
  },
  {
   "cell_type": "code",
   "execution_count": null,
   "metadata": {},
   "outputs": [],
   "source": []
  },
  {
   "cell_type": "markdown",
   "metadata": {},
   "source": [
    "## Binary and Decimal conversions"
   ]
  },
  {
   "cell_type": "markdown",
   "metadata": {},
   "source": [
    "### Decimal to Binary conversion"
   ]
  },
  {
   "cell_type": "code",
   "execution_count": 5,
   "metadata": {},
   "outputs": [
    {
     "name": "stdout",
     "output_type": "stream",
     "text": [
      "integer part = 106, decimal part = 0.125\n",
      "the binary number is 1101010.001\n"
     ]
    }
   ],
   "source": [
    "from math import modf\n",
    "\n",
    "# n = eval(input('enter the decimal number: '))\n",
    "n = 106.125    # INPUT\n",
    "\n",
    "ndec, nint = modf(n)\n",
    "nint = int(nint)\n",
    "print(f'integer part = {nint}, decimal part = {ndec}')\n",
    "\n",
    "def bin_int(n):\n",
    "    b = str()\n",
    "    while n > 0:\n",
    "        res = n % 2\n",
    "        b += str(res)\n",
    "        n = n//2\n",
    "    return b[::-1]\n",
    "\n",
    "def bin_frac(n):\n",
    "    b = str()\n",
    "    i = 1\n",
    "    while n>0:\n",
    "        n = n*2\n",
    "        frac, intg = modf(n)\n",
    "        b += str(int(intg))\n",
    "        n = frac\n",
    "        i += 1\n",
    "        if i>6:  # input\n",
    "            break\n",
    "    return b\n",
    "\n",
    "print(f'the binary number is {bin_int(nint)}.{bin_frac(ndec)}')"
   ]
  },
  {
   "cell_type": "markdown",
   "metadata": {},
   "source": [
    "### Binary to Decimal conversion"
   ]
  },
  {
   "cell_type": "code",
   "execution_count": 6,
   "metadata": {},
   "outputs": [
    {
     "name": "stdout",
     "output_type": "stream",
     "text": [
      "Decimal number for the given binary number is 106.\n"
     ]
    }
   ],
   "source": [
    "# m = eval(input('give the binary number: '))\n",
    "m = 1101010     # INPUT - binary no.\n",
    "\n",
    "s, i = 0, 0\n",
    "while m > 0:\n",
    "    res = m % 10\n",
    "    m = m//10\n",
    "    s += (2**i)*res\n",
    "    i += 1\n",
    "print(f'Decimal number for the given binary number is {s}.')"
   ]
  },
  {
   "cell_type": "code",
   "execution_count": null,
   "metadata": {},
   "outputs": [],
   "source": []
  },
  {
   "cell_type": "markdown",
   "metadata": {},
   "source": [
    "## Numerical methods for finding roots"
   ]
  },
  {
   "cell_type": "markdown",
   "metadata": {},
   "source": [
    "### Roots of quadratic equation\n",
    "$$ ax^2 +bx +c =0 $$"
   ]
  },
  {
   "cell_type": "code",
   "execution_count": 7,
   "metadata": {},
   "outputs": [
    {
     "name": "stdout",
     "output_type": "stream",
     "text": [
      "complex roots: (-0.3+0.8426149773176359j), (-0.3-0.8426149773176359j)\n"
     ]
    }
   ],
   "source": [
    "import math as m\n",
    "# a, b, c = eval(input('a, b, c = '))\n",
    "a, b, c = 5, 3, 4    # INPUT\n",
    "D = b**2 -4*a*c\n",
    "D1 = m.sqrt(abs(D))\n",
    "a2 = 2*a\n",
    "\n",
    "if D > 0:\n",
    "    print(f'distinct real roots = {(-b +D1)/a2}, {(-b -D1)/a2}')\n",
    "elif D == 0:\n",
    "    print(f'equal real roots = {-b/a2}, {-b/a2}')\n",
    "elif D < 0:\n",
    "    print(f'complex roots: {complex(-b,D1)/a2}, {complex(-b,-D1)/a2}')\n"
   ]
  },
  {
   "cell_type": "code",
   "execution_count": 8,
   "metadata": {},
   "outputs": [
    {
     "name": "stdout",
     "output_type": "stream",
     "text": [
      "D = (-47.99999999999999+5.878304635907294e-15j) \n",
      "roots = (-1+0.8660254037844386j), (-1-0.8660254037844386j)\n"
     ]
    }
   ],
   "source": [
    "a, b, c = 4, 8, 7   # INPUT\n",
    "D1 = (b**2 - 4*a*c)**0.5\n",
    "print(f'D = {D1**2} \\nroots = {(-b +D1)/(2*a)}, {(-b -D1)/(2*a)}')"
   ]
  },
  {
   "cell_type": "markdown",
   "metadata": {},
   "source": [
    "### Bisection method\n",
    "Here in this code we need to change $a$ and $b$ again and again to get root at that interval. The code gives only one root at a time."
   ]
  },
  {
   "cell_type": "code",
   "execution_count": 9,
   "metadata": {},
   "outputs": [
    {
     "name": "stdout",
     "output_type": "stream",
     "text": [
      "root = 2.0945358276367188\n"
     ]
    }
   ],
   "source": [
    "def f(x):\n",
    "    return x**3 -2*x -5     # INPUT\n",
    "\n",
    "# a, b, tol = eval(input('lower input, upper limit, tol = '))\n",
    "a, b, tol = -5, 15, 1e-4  # INPUT - lower input, upper limit, tol\n",
    "\n",
    "while f(a)*f(b) > 0:\n",
    "    # print('no root exists in this interval')\n",
    "    break\n",
    "while abs(b-a) >= tol:\n",
    "    xm = (a+b)/2\n",
    "    if f(xm) == 0:\n",
    "        print(f'root = {xm}')\n",
    "        break\n",
    "    if f(a)*f(xm) < 0:\n",
    "        b = xm\n",
    "    else:\n",
    "        a = xm\n",
    "print(f'root = {(a+b)/2}')"
   ]
  },
  {
   "cell_type": "markdown",
   "metadata": {},
   "source": [
    "### Newton - Raphson method"
   ]
  },
  {
   "cell_type": "code",
   "execution_count": 10,
   "metadata": {},
   "outputs": [
    {
     "name": "stdout",
     "output_type": "stream",
     "text": [
      "-4.028301886792453\n",
      "-2.693483521794348\n",
      "-1.7243822197186387\n",
      "-0.759322893194342\n",
      "-15.259351046905664\n",
      "-10.194932062770665\n",
      "-6.824358520491854\n",
      "-4.579337634778419\n",
      "-3.0710458423450495\n",
      "-2.012935001523651\n",
      "-1.113899354424766\n",
      "1.2981422326618364\n",
      "3.0682796565942985\n",
      "2.3919371989751514\n",
      "2.134667045516952\n",
      "2.095429011690451\n",
      "2.09455191476237\n",
      "\n",
      "root = 2.09455191476237 ; tolerance=0.001\n"
     ]
    }
   ],
   "source": [
    "def f(x):\n",
    "    return x**3 -2*x -5\n",
    "def h(x):\n",
    "    return 3*x**2 -2\n",
    "\n",
    "# x1, tol = eval(input('initial point, tol = '))\n",
    "x1, tol = -6, 1e-3      # INPUT - initial point, tol\n",
    "\n",
    "while abs(f(x1)) >= tol:\n",
    "    x1 = x1 - f(x1)/h(x1)\n",
    "    print(x1)\n",
    "print(f'\\nroot = {x1} ; tolerance={tol}')"
   ]
  },
  {
   "cell_type": "markdown",
   "metadata": {},
   "source": [
    "### Secant method"
   ]
  },
  {
   "cell_type": "code",
   "execution_count": 11,
   "metadata": {},
   "outputs": [
    {
     "name": "stdout",
     "output_type": "stream",
     "text": [
      "x1=-1.8902439024390247, f(x1)=-7.973395264143007\n",
      "x1=-1.7937961095710024, f(x1)=-7.18431356369607\n",
      "x1=-0.9156726071531723, f(x1)=-3.936406273408437\n",
      "x1=0.14859756893267784, f(x1)=-5.293913919654915\n",
      "x1=-4.001769255912077, f(x1)=-61.081423340691565\n",
      "x1=0.5424435200020472, f(x1)=-5.925275761436758\n",
      "x1=1.030616008431287, f(x1)=-5.966543274043425\n",
      "x1=-69.55038326749722, f(x1)=-336298.89496660174\n",
      "x1=1.031868263685297, f(x1)=-5.965052612653974\n",
      "x1=1.0331202282865473, f(x1)=-5.963552591929615\n",
      "x1=6.010489288290772, f(x1)=200.11384616594682\n",
      "x1=1.1771573829560573, f(x1)=-5.723128363928088\n",
      "x1=1.3115442149762924, f(x1)=-5.367037972830224\n",
      "x1=3.337039000941287, f(x1)=25.48661865936325\n",
      "x1=1.6638819478951445, f(x1)=-3.721301504224705\n",
      "x1=1.877054327969876, f(x1)=-2.1406212929809927\n",
      "x1=2.165741016534392, f(x1)=0.8267835924546123\n",
      "x1=2.085306621269804, f(x1)=-0.10264967448805518\n",
      "x1=2.0941900610876116, f(x1)=-0.004033151144833269\n",
      "x1=2.0945533699354257, f(x1)=2.1077204387154325e-05\n",
      "\n",
      "\t root = 2.0945533699354257\n"
     ]
    }
   ],
   "source": [
    "def f(x):\n",
    "    return x**3 -2*x -5\n",
    "# x0, x1, tol = eval(input('x0, x1, tol = '))\n",
    "x0, x1, tol = -2, 10, 1e-3   # INPUT\n",
    "\n",
    "while abs(f(x1))>=tol:\n",
    "    x2 = x1 - f(x1)*(x1-x0)/(f(x1)-f(x0))\n",
    "    x0, x1 = x1, x2\n",
    "    print(f'x1={x1}, f(x1)={f(x1)}')\n",
    "print(f'\\n\\t root = {x1}')"
   ]
  },
  {
   "cell_type": "code",
   "execution_count": null,
   "metadata": {},
   "outputs": [],
   "source": []
  },
  {
   "cell_type": "markdown",
   "metadata": {},
   "source": [
    "## Interpolation"
   ]
  },
  {
   "cell_type": "markdown",
   "metadata": {},
   "source": [
    "### Direct forward difference method"
   ]
  },
  {
   "cell_type": "code",
   "execution_count": 12,
   "metadata": {},
   "outputs": [
    {
     "name": "stdout",
     "output_type": "stream",
     "text": [
      "for x = 4.7, y = 0.3468285114337938\n"
     ]
    }
   ],
   "source": [
    "x = list(range(10))\n",
    "y = [0, 0.368, 0.541, 0.448, 0.39, 0.34, 0.38, 0.31, 0.2, 0.14]\n",
    "\n",
    "xx = 4.7  # input value\n",
    "n = len(x)\n",
    "h = x[1] - x[0]\n",
    "p = (xx - x[0])/h\n",
    "cf = p\n",
    "k = 1\n",
    "yy = y[0]\n",
    "d = []\n",
    "for i in range(n, 1, -1):\n",
    "    for j in range(i-1):\n",
    "        diff = y[j+1] - y[j]\n",
    "        d.append(diff)\n",
    "    yy += cf*d[0]\n",
    "    cf *= (p-k)/(k+1)\n",
    "    k += 1\n",
    "    y = d\n",
    "    d = []\n",
    "print(f'for x = {xx}, y = {yy}')"
   ]
  },
  {
   "cell_type": "code",
   "execution_count": null,
   "metadata": {},
   "outputs": [],
   "source": []
  },
  {
   "cell_type": "markdown",
   "metadata": {},
   "source": [
    "## Matrices"
   ]
  },
  {
   "cell_type": "markdown",
   "metadata": {},
   "source": [
    "### Matrix addition"
   ]
  },
  {
   "cell_type": "code",
   "execution_count": 13,
   "metadata": {},
   "outputs": [
    {
     "name": "stdout",
     "output_type": "stream",
     "text": [
      "using defined function: [[16, 8, 7], [7, 9, 8]]\n",
      "[16, 8, 7]\n",
      "[7, 9, 8]\n",
      "using numpy array: \n",
      "[[16  8  7]\n",
      " [ 7  9  8]]\n"
     ]
    }
   ],
   "source": [
    "A = [[1,2,3], [4,5,6]]\n",
    "B = [[15,6,4], [3,4,2]]\n",
    "C = [[0,0,0], [0,0,0]] # null matrix with the dimension of the result\n",
    "\n",
    "row = len(A)\n",
    "col = len(A[0])\n",
    "\n",
    "for i in range(row):\n",
    "    for j in range(col):\n",
    "        C[i][j] = A[i][j] + B[i][j]\n",
    "\n",
    "print(f'using defined function: {C}')\n",
    "for rows in C:\n",
    "    print(rows)\n",
    "\n",
    "# using numpy arrays\n",
    "import numpy as np\n",
    "An = np.array(A)\n",
    "Bn = (B)\n",
    "Cn = An + Bn\n",
    "print(f'using numpy array: \\n{Cn}')"
   ]
  },
  {
   "cell_type": "markdown",
   "metadata": {},
   "source": [
    "### Matrix multiplication"
   ]
  },
  {
   "cell_type": "code",
   "execution_count": 14,
   "metadata": {},
   "outputs": [
    {
     "name": "stdout",
     "output_type": "stream",
     "text": [
      "multiplication by defined function: [[15, 18], [30, 36]]\n",
      "[15, 18]\n",
      "[30, 36]\n",
      "multiplication using numpy arrays: \n",
      "[[22 28]\n",
      " [49 64]]\n"
     ]
    }
   ],
   "source": [
    "A = [[1,2,3], [4,5,6]]\n",
    "B = [[1,2], [3,4], [5,6]]\n",
    "C = [[0,0], [0,0]] # null matrix with the dimension of the result\n",
    "\n",
    "for i in range(len(A)):\n",
    "    for j in range(len(B[0])):\n",
    "        for k in range(len(B)):\n",
    "            C[i][j] = A[i][k]*B[k][j]\n",
    "\n",
    "print(f'multiplication by defined function: {C}')\n",
    "for rows in C:\n",
    "    print(rows)\n",
    "\n",
    "# using numpy arrays\n",
    "import numpy as np\n",
    "A_arr = np.array(A)\n",
    "B_arr = np.array(B)\n",
    "AB = A_arr.dot(B_arr)\n",
    "print(f'multiplication using numpy arrays: \\n{AB}')"
   ]
  },
  {
   "cell_type": "code",
   "execution_count": null,
   "metadata": {},
   "outputs": [],
   "source": []
  },
  {
   "cell_type": "markdown",
   "metadata": {},
   "source": [
    "## Integration"
   ]
  },
  {
   "cell_type": "markdown",
   "metadata": {},
   "source": [
    "### Integration by trapizoidal rule"
   ]
  },
  {
   "cell_type": "code",
   "execution_count": 15,
   "metadata": {},
   "outputs": [
    {
     "name": "stdout",
     "output_type": "stream",
     "text": [
      "value= 0.3308468593750001\n"
     ]
    }
   ],
   "source": [
    "import numpy as np\n",
    "\n",
    "def f(x):\n",
    "    return x**2\n",
    "\n",
    "a, b, n = 0, 1, 400\n",
    "h = (b -a)/n\n",
    "sumtn = f(a) + f(b)\n",
    "for i in range(1, n-1):\n",
    "    sumtn = sumtn + 2*f(a + i*h)\n",
    "intg = sumtn*0.5*h\n",
    "print('value=', intg)"
   ]
  },
  {
   "cell_type": "markdown",
   "metadata": {},
   "source": [
    "### Integration by Simpson's rule\n",
    "$$ I = \\int_a^b f(x)dx $$\n",
    "For Simpson's rule, we divide the interval [a,b] into an even number of sub-intervals.\n",
    "$$ I = \\frac{h}{3} [y_0 + 4(y_1+y_3+...+y_{n-1}) + 2(y_2+y_4+...+y_{n-2}) + y_n] $$"
   ]
  },
  {
   "cell_type": "code",
   "execution_count": 16,
   "metadata": {},
   "outputs": [
    {
     "name": "stdout",
     "output_type": "stream",
     "text": [
      "value= 1.499963446082914\n"
     ]
    }
   ],
   "source": [
    "import numpy as np\n",
    "\n",
    "def f(x):\n",
    "    return np.sin(x)  # INPUT\n",
    "\n",
    "a, b = np.pi/3, np.pi  # INPUT\n",
    "n = 400     # INPUT\n",
    "\n",
    "h = (b-a)/n\n",
    "sm = f(a) + f(b)\n",
    "sm_odd = 0\n",
    "sm_even = 0\n",
    "for i in range(1, n-1, 2):\n",
    "    sm_odd += 4 *f(a + i*h)\n",
    "    sm_even += 2 *f(a + (i+1)*h)\n",
    "intg = h/3 * (sm + sm_odd + sm_even)\n",
    "print('value=', intg)"
   ]
  },
  {
   "cell_type": "code",
   "execution_count": 17,
   "metadata": {},
   "outputs": [
    {
     "name": "stdout",
     "output_type": "stream",
     "text": [
      "value of the integration is  1.500000000006262\n"
     ]
    }
   ],
   "source": [
    "import numpy as np\n",
    "\n",
    "def f1(x):\n",
    "    return np.sin(x)  # INPUT\n",
    "\n",
    "a, b = np.pi/3, np.pi  # INPUT\n",
    "n = 400     # INPUT\n",
    "\n",
    "h = float(b-a)/n\n",
    "x0 = np.arange(a+ h, b, 2*h)\n",
    "xe = np.arange(a+ 2*h, b, 2*h)\n",
    "val = h/3*(f1(a) + 4*sum(f1(x0)) + 2*sum(f1(xe)) + f1(b))\n",
    "print('value of the integration is ', val)"
   ]
  },
  {
   "cell_type": "code",
   "execution_count": null,
   "metadata": {},
   "outputs": [],
   "source": []
  }
 ],
 "metadata": {
  "kernelspec": {
   "display_name": "Python 3 (ipykernel)",
   "language": "python",
   "name": "python3"
  },
  "language_info": {
   "codemirror_mode": {
    "name": "ipython",
    "version": 3
   },
   "file_extension": ".py",
   "mimetype": "text/x-python",
   "name": "python",
   "nbconvert_exporter": "python",
   "pygments_lexer": "ipython3",
   "version": "3.9.13"
  }
 },
 "nbformat": 4,
 "nbformat_minor": 4
}
