{
 "cells": [
  {
   "cell_type": "markdown",
   "id": "b1f988a4",
   "metadata": {},
   "source": [
    "# Vectors (SKP)"
   ]
  },
  {
   "cell_type": "markdown",
   "id": "01a0827b",
   "metadata": {},
   "source": [
    "In this notebook, vector operations in sympy and numpy are covered. Here, we will start by defining some vectors and then perform various operations on them, such as dot product, cross product, length, projection, and lines. Finally, we will solve an example problem involving finding the unit vector parallel to the line of intersection of two planes.\n",
    "\n",
    "We can define vectors in sympy using the `Matrix` class. In numpy we can use numpy arrays to perform vector operations.\n",
    "\n",
    "- Vector products\n",
    "- Length of a vector\n",
    "- Vector projection\n",
    "- Lines\n",
    "- Planes"
   ]
  },
  {
   "cell_type": "code",
   "execution_count": 1,
   "id": "e70b659e",
   "metadata": {},
   "outputs": [],
   "source": [
    "import numpy as np\n",
    "import sympy as smp\n",
    "from sympy import *\n",
    "from sympy.vector import *"
   ]
  },
  {
   "cell_type": "code",
   "execution_count": 2,
   "id": "e160d904",
   "metadata": {},
   "outputs": [],
   "source": [
    "x,y,z,t,u1,u2,u3,v1,v2,v3 = smp.symbols('x y z t u_1 u_2 u_3 v_1 v_2 v_3')"
   ]
  },
  {
   "cell_type": "code",
   "execution_count": 3,
   "id": "91c71cd7",
   "metadata": {},
   "outputs": [],
   "source": [
    "a = np.array([2,3,7])  # input vector a\n",
    "b = np.array([2,4,1])  # input vector b\n",
    "u = smp.Matrix([u1,u2,u3])\n",
    "v = smp.Matrix([v1,v2,v3])"
   ]
  },
  {
   "cell_type": "markdown",
   "id": "7faf0925",
   "metadata": {},
   "source": [
    "## Vector products"
   ]
  },
  {
   "cell_type": "code",
   "execution_count": 4,
   "id": "687b41f5",
   "metadata": {},
   "outputs": [
    {
     "name": "stdout",
     "output_type": "stream",
     "text": [
      "a.b = 23\n"
     ]
    },
    {
     "data": {
      "text/plain": [
       "'u.v'"
      ]
     },
     "metadata": {},
     "output_type": "display_data"
    },
    {
     "data": {
      "text/latex": [
       "$\\displaystyle u_{1} v_{1} + u_{2} v_{2} + u_{3} v_{3}$"
      ],
      "text/plain": [
       "u_1*v_1 + u_2*v_2 + u_3*v_3"
      ]
     },
     "metadata": {},
     "output_type": "display_data"
    },
    {
     "name": "stdout",
     "output_type": "stream",
     "text": [
      "a X b = [-25  12   2]\n"
     ]
    },
    {
     "data": {
      "text/plain": [
       "'u X v'"
      ]
     },
     "metadata": {},
     "output_type": "display_data"
    },
    {
     "data": {
      "text/latex": [
       "$\\displaystyle \\left[\\begin{matrix}u_{2} v_{3} - u_{3} v_{2}\\\\- u_{1} v_{3} + u_{3} v_{1}\\\\u_{1} v_{2} - u_{2} v_{1}\\end{matrix}\\right]$"
      ],
      "text/plain": [
       "Matrix([\n",
       "[ u_2*v_3 - u_3*v_2],\n",
       "[-u_1*v_3 + u_3*v_1],\n",
       "[ u_1*v_2 - u_2*v_1]])"
      ]
     },
     "metadata": {},
     "output_type": "display_data"
    }
   ],
   "source": [
    "# dot product\n",
    "print('a.b =', np.dot(a,b))\n",
    "display('u.v', u.dot(v))\n",
    "\n",
    "# cross product\n",
    "print('a X b =', np.cross(a,b))\n",
    "display('u X v', u.cross(v))"
   ]
  },
  {
   "cell_type": "markdown",
   "id": "4cdec463",
   "metadata": {},
   "source": [
    "## Length of vector"
   ]
  },
  {
   "cell_type": "code",
   "execution_count": 5,
   "id": "5cb54bfa",
   "metadata": {},
   "outputs": [
    {
     "name": "stdout",
     "output_type": "stream",
     "text": [
      "|a| = 7.874007874011811\n"
     ]
    },
    {
     "data": {
      "text/plain": [
       "'|u|'"
      ]
     },
     "metadata": {},
     "output_type": "display_data"
    },
    {
     "data": {
      "text/latex": [
       "$\\displaystyle \\sqrt{\\left|{u_{1}}\\right|^{2} + \\left|{u_{2}}\\right|^{2} + \\left|{u_{3}}\\right|^{2}}$"
      ],
      "text/plain": [
       "sqrt(Abs(u_1)**2 + Abs(u_2)**2 + Abs(u_3)**2)"
      ]
     },
     "metadata": {},
     "output_type": "display_data"
    }
   ],
   "source": [
    "print('|a| =',np.linalg.norm(a))\n",
    "\n",
    "unorm = u.norm()\n",
    "display('|u|', unorm)"
   ]
  },
  {
   "cell_type": "markdown",
   "id": "13fad446",
   "metadata": {},
   "source": [
    "## Vector projection"
   ]
  },
  {
   "cell_type": "markdown",
   "id": "a5139ded",
   "metadata": {},
   "source": [
    "Projection of $u$ on $v$,\n",
    "$$ \\text{proj}_v(u) = (u.\\hat{v})\\hat{v} = \\frac{u \\cdot v}{|v|^2} v $$"
   ]
  },
  {
   "cell_type": "code",
   "execution_count": 6,
   "id": "aeb0d1d9",
   "metadata": {},
   "outputs": [
    {
     "name": "stdout",
     "output_type": "stream",
     "text": [
      "projection of a on b = [2.19047619 4.38095238 1.0952381 ]\n"
     ]
    },
    {
     "data": {
      "text/plain": [
       "'projection of u on v'"
      ]
     },
     "metadata": {},
     "output_type": "display_data"
    },
    {
     "data": {
      "text/latex": [
       "$\\displaystyle \\left[\\begin{matrix}\\frac{v_{1} \\left(u_{1} v_{1} + u_{2} v_{2} + u_{3} v_{3}\\right)}{\\left|{v_{1}}\\right|^{2} + \\left|{v_{2}}\\right|^{2} + \\left|{v_{3}}\\right|^{2}}\\\\\\frac{v_{2} \\left(u_{1} v_{1} + u_{2} v_{2} + u_{3} v_{3}\\right)}{\\left|{v_{1}}\\right|^{2} + \\left|{v_{2}}\\right|^{2} + \\left|{v_{3}}\\right|^{2}}\\\\\\frac{v_{3} \\left(u_{1} v_{1} + u_{2} v_{2} + u_{3} v_{3}\\right)}{\\left|{v_{1}}\\right|^{2} + \\left|{v_{2}}\\right|^{2} + \\left|{v_{3}}\\right|^{2}}\\end{matrix}\\right]$"
      ],
      "text/plain": [
       "Matrix([\n",
       "[v_1*(u_1*v_1 + u_2*v_2 + u_3*v_3)/(Abs(v_1)**2 + Abs(v_2)**2 + Abs(v_3)**2)],\n",
       "[v_2*(u_1*v_1 + u_2*v_2 + u_3*v_3)/(Abs(v_1)**2 + Abs(v_2)**2 + Abs(v_3)**2)],\n",
       "[v_3*(u_1*v_1 + u_2*v_2 + u_3*v_3)/(Abs(v_1)**2 + Abs(v_2)**2 + Abs(v_3)**2)]])"
      ]
     },
     "metadata": {},
     "output_type": "display_data"
    }
   ],
   "source": [
    "projab = np.dot(a,b)*b/np.linalg.norm(b)**2\n",
    "print('projection of a on b =', projab)\n",
    "\n",
    "projuv = u.dot(v)*v/v.norm()**2\n",
    "display('projection of u on v', projuv)"
   ]
  },
  {
   "cell_type": "markdown",
   "id": "15852903",
   "metadata": {},
   "source": [
    "### Lines"
   ]
  },
  {
   "cell_type": "markdown",
   "id": "bd793b7b",
   "metadata": {},
   "source": [
    "$$ \\vec{r}(t) = \\vec{r}_0 + t\\vec{v} $$"
   ]
  },
  {
   "cell_type": "code",
   "execution_count": 8,
   "id": "80d65a9d",
   "metadata": {},
   "outputs": [
    {
     "data": {
      "text/latex": [
       "$\\displaystyle \\left[\\begin{matrix}4 t + 1\\\\3 t + 1\\\\4 t + 1\\end{matrix}\\right]$"
      ],
      "text/plain": [
       "Matrix([\n",
       "[4*t + 1],\n",
       "[3*t + 1],\n",
       "[4*t + 1]])"
      ]
     },
     "execution_count": 8,
     "metadata": {},
     "output_type": "execute_result"
    }
   ],
   "source": [
    "r0 = smp.Matrix([1,1,1]) # input the vector\n",
    "v = smp.Matrix([4,3,4])  # input the vector\n",
    "r = r0 + t*v\n",
    "r"
   ]
  },
  {
   "cell_type": "markdown",
   "id": "dfb7b425",
   "metadata": {},
   "source": [
    "### Planes"
   ]
  },
  {
   "cell_type": "markdown",
   "id": "559cc678",
   "metadata": {},
   "source": [
    "$$ \\vec{n} \\cdot (P_0-\\left<x,y,z\\right>) = 0 $$"
   ]
  },
  {
   "cell_type": "code",
   "execution_count": 10,
   "id": "176a92c3",
   "metadata": {},
   "outputs": [
    {
     "data": {
      "text/plain": [
       "'equation of the plane'"
      ]
     },
     "metadata": {},
     "output_type": "display_data"
    },
    {
     "data": {
      "text/latex": [
       "$\\displaystyle - 3 x - 2 y - 3 z + 18.6$"
      ],
      "text/plain": [
       "-3*x - 2*y - 3*z + 18.6"
      ]
     },
     "metadata": {},
     "output_type": "display_data"
    }
   ],
   "source": [
    "n = smp.Matrix([3,2,3])   # input the normal vector\n",
    "P0 = smp.Matrix([2.2,3,2]) # input foot of the perpendicular\n",
    "r = smp.Matrix([x,y,z])\n",
    "eqnp = n.dot(P0 - r)\n",
    "display('equation of the plane', eqnp)"
   ]
  },
  {
   "cell_type": "markdown",
   "id": "022d6c65",
   "metadata": {},
   "source": [
    "**Example:** Find unit vector parallel to the line of intersection of the two planes $ 3x-6y-2z = 15 $ and $2x+y-2z=5$.\n",
    "(Hint: It's going to be perpendicular to both normal vectors)"
   ]
  },
  {
   "cell_type": "code",
   "execution_count": 11,
   "id": "cf606dc2",
   "metadata": {},
   "outputs": [
    {
     "data": {
      "text/plain": [
       "array([0.67909975, 0.09701425, 0.72760688])"
      ]
     },
     "execution_count": 11,
     "metadata": {},
     "output_type": "execute_result"
    }
   ],
   "source": [
    "n1 = np.array([3,-6,-2])\n",
    "n2 = np.array([2,1,-2])\n",
    "vec = np.cross(n1,n2)\n",
    "ans = vec/np.linalg.norm(vec)\n",
    "ans"
   ]
  },
  {
   "cell_type": "code",
   "execution_count": null,
   "id": "3cb4f080",
   "metadata": {},
   "outputs": [],
   "source": []
  }
 ],
 "metadata": {
  "kernelspec": {
   "display_name": "Python 3 (ipykernel)",
   "language": "python",
   "name": "python3"
  },
  "language_info": {
   "codemirror_mode": {
    "name": "ipython",
    "version": 3
   },
   "file_extension": ".py",
   "mimetype": "text/x-python",
   "name": "python",
   "nbconvert_exporter": "python",
   "pygments_lexer": "ipython3",
   "version": "3.9.13"
  }
 },
 "nbformat": 4,
 "nbformat_minor": 5
}
