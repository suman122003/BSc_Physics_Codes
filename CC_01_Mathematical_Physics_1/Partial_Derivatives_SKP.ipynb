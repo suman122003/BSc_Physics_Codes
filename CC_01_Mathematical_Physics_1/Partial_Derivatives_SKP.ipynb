{
 "cells": [
  {
   "cell_type": "markdown",
   "id": "5d2c7f7c",
   "metadata": {},
   "source": [
    "# Partial Derivatives (SKP)"
   ]
  },
  {
   "cell_type": "code",
   "execution_count": 1,
   "id": "cfb34729",
   "metadata": {},
   "outputs": [],
   "source": [
    "import sympy as smp\n",
    "from sympy import *"
   ]
  },
  {
   "cell_type": "code",
   "execution_count": 2,
   "id": "ee9c32e7",
   "metadata": {},
   "outputs": [
    {
     "data": {
      "text/plain": [
       "'function, f'"
      ]
     },
     "metadata": {},
     "output_type": "display_data"
    },
    {
     "data": {
      "text/latex": [
       "$\\displaystyle y^{2} \\sin{\\left(x + y \\right)}$"
      ],
      "text/plain": [
       "y**2*sin(x + y)"
      ]
     },
     "metadata": {},
     "output_type": "display_data"
    },
    {
     "data": {
      "text/plain": [
       "'f_x'"
      ]
     },
     "metadata": {},
     "output_type": "display_data"
    },
    {
     "data": {
      "text/latex": [
       "$\\displaystyle y^{2} \\cos{\\left(x + y \\right)}$"
      ],
      "text/plain": [
       "y**2*cos(x + y)"
      ]
     },
     "metadata": {},
     "output_type": "display_data"
    },
    {
     "data": {
      "text/plain": [
       "'f_y'"
      ]
     },
     "metadata": {},
     "output_type": "display_data"
    },
    {
     "data": {
      "text/latex": [
       "$\\displaystyle y^{2} \\cos{\\left(x + y \\right)} + 2 y \\sin{\\left(x + y \\right)}$"
      ],
      "text/plain": [
       "y**2*cos(x + y) + 2*y*sin(x + y)"
      ]
     },
     "metadata": {},
     "output_type": "display_data"
    }
   ],
   "source": [
    "x, y, z = smp.symbols('x y z')\n",
    "# input the function\n",
    "fxy = y**2 * smp.sin(x+y)\n",
    "\n",
    "display('function, f', fxy)\n",
    "display('f_x', fxy.diff(x))\n",
    "display('f_y', fxy.diff(y))"
   ]
  },
  {
   "cell_type": "markdown",
   "id": "a2050aef",
   "metadata": {},
   "source": [
    "**The Chain Rule:** Suppose $x$,$y$ and $z$ are functions of $t$ and $w= w(x,y,z)$. Find $dw/dt$."
   ]
  },
  {
   "cell_type": "code",
   "execution_count": 3,
   "id": "88a3015d",
   "metadata": {},
   "outputs": [
    {
     "data": {
      "text/latex": [
       "$\\displaystyle w{\\left(x{\\left(t \\right)},y{\\left(t \\right)},z{\\left(t \\right)} \\right)}$"
      ],
      "text/plain": [
       "w(x(t), y(t), z(t))"
      ]
     },
     "metadata": {},
     "output_type": "display_data"
    },
    {
     "data": {
      "text/plain": [
       "'dw/dt'"
      ]
     },
     "metadata": {},
     "output_type": "display_data"
    },
    {
     "data": {
      "text/latex": [
       "$\\displaystyle \\frac{d}{d x{\\left(t \\right)}} w{\\left(x{\\left(t \\right)},y{\\left(t \\right)},z{\\left(t \\right)} \\right)} \\frac{d}{d t} x{\\left(t \\right)} + \\frac{d}{d y{\\left(t \\right)}} w{\\left(x{\\left(t \\right)},y{\\left(t \\right)},z{\\left(t \\right)} \\right)} \\frac{d}{d t} y{\\left(t \\right)} + \\frac{d}{d z{\\left(t \\right)}} w{\\left(x{\\left(t \\right)},y{\\left(t \\right)},z{\\left(t \\right)} \\right)} \\frac{d}{d t} z{\\left(t \\right)}$"
      ],
      "text/plain": [
       "Derivative(w(x(t), y(t), z(t)), x(t))*Derivative(x(t), t) + Derivative(w(x(t), y(t), z(t)), y(t))*Derivative(y(t), t) + Derivative(w(x(t), y(t), z(t)), z(t))*Derivative(z(t), t)"
      ]
     },
     "metadata": {},
     "output_type": "display_data"
    }
   ],
   "source": [
    "t = smp.symbols('t')\n",
    "x, y, z, w = smp.symbols('x y z w', cls = smp.Function)\n",
    "x = x(t)\n",
    "y = y(t)\n",
    "z = z(t)\n",
    "w = w(x,y,z)\n",
    "display(w)\n",
    "display('dw/dt', w.diff(t))"
   ]
  },
  {
   "cell_type": "markdown",
   "id": "486ffd2f",
   "metadata": {},
   "source": [
    "*For some particular functions;*"
   ]
  },
  {
   "cell_type": "code",
   "execution_count": 4,
   "id": "a7680d5b",
   "metadata": {},
   "outputs": [
    {
     "data": {
      "text/plain": [
       "'function w1'"
      ]
     },
     "metadata": {},
     "output_type": "display_data"
    },
    {
     "data": {
      "text/latex": [
       "$\\displaystyle x{\\left(t \\right)} e^{- z^{2}{\\left(t \\right)}} \\sin{\\left(y{\\left(t \\right)} \\right)}$"
      ],
      "text/plain": [
       "x(t)*exp(-z(t)**2)*sin(y(t))"
      ]
     },
     "metadata": {},
     "output_type": "display_data"
    },
    {
     "data": {
      "text/plain": [
       "'dw1/dt'"
      ]
     },
     "metadata": {},
     "output_type": "display_data"
    },
    {
     "data": {
      "text/latex": [
       "$\\displaystyle - 2 x{\\left(t \\right)} z{\\left(t \\right)} e^{- z^{2}{\\left(t \\right)}} \\sin{\\left(y{\\left(t \\right)} \\right)} \\frac{d}{d t} z{\\left(t \\right)} + x{\\left(t \\right)} e^{- z^{2}{\\left(t \\right)}} \\cos{\\left(y{\\left(t \\right)} \\right)} \\frac{d}{d t} y{\\left(t \\right)} + e^{- z^{2}{\\left(t \\right)}} \\sin{\\left(y{\\left(t \\right)} \\right)} \\frac{d}{d t} x{\\left(t \\right)}$"
      ],
      "text/plain": [
       "-2*x(t)*z(t)*exp(-z(t)**2)*sin(y(t))*Derivative(z(t), t) + x(t)*exp(-z(t)**2)*cos(y(t))*Derivative(y(t), t) + exp(-z(t)**2)*sin(y(t))*Derivative(x(t), t)"
      ]
     },
     "metadata": {},
     "output_type": "display_data"
    },
    {
     "data": {
      "text/plain": [
       "'for a given x(t), y(t) and z(t),'"
      ]
     },
     "metadata": {},
     "output_type": "display_data"
    },
    {
     "data": {
      "text/latex": [
       "$\\displaystyle - \\frac{8 e^{- 4 t^{2}} \\sin{\\left(14 t \\right)}}{t} + \\frac{14 e^{- 4 t^{2}} \\cos{\\left(14 t \\right)}}{t^{2}} - \\frac{2 e^{- 4 t^{2}} \\sin{\\left(14 t \\right)}}{t^{3}}$"
      ],
      "text/plain": [
       "-8*exp(-4*t**2)*sin(14*t)/t + 14*exp(-4*t**2)*cos(14*t)/t**2 - 2*exp(-4*t**2)*sin(14*t)/t**3"
      ]
     },
     "metadata": {},
     "output_type": "display_data"
    }
   ],
   "source": [
    "w1 = x* smp.sin(y)* smp.exp(-z**2) # input w(x,y,z)\n",
    "display('function w1',w1,'dw1/dt',smp.diff(w1,t))\n",
    "# substitute x = x(t), y = y(t) and z = z(t)\n",
    "dw1dt = smp.diff(w1,t).subs([(x, 1/t**2), (y,14*t), (z, 2*t)])\n",
    "display('for a given x(t), y(t) and z(t),', dw1dt.doit())"
   ]
  },
  {
   "cell_type": "code",
   "execution_count": null,
   "id": "9bb969fd",
   "metadata": {},
   "outputs": [],
   "source": []
  },
  {
   "cell_type": "markdown",
   "id": "12942a10",
   "metadata": {},
   "source": [
    "## Maxima and Minima of a 2D function"
   ]
  },
  {
   "cell_type": "markdown",
   "id": "775b1031",
   "metadata": {},
   "source": [
    "Extreme values of $f(x,y)$ can occur at;\n",
    "1. Boundary points of the domain of $f(x,y)$.\n",
    "2. Critical points ($f_x=f_y=0$)\n",
    "\n",
    "At a point(a,b);\n",
    "1. Local maxima: $ f_{xx}<0 $ and $ f_{xx}f_{yy} - f_{xy}^2>0 $.\n",
    "2. Local minima: $ f_{xx}>0 $ and $ f_{xx}f_{yy} - f_{xy}^2>0 $.\n",
    "3. Saddle point: $ f_{xx}f_{yy} - f_{xy}^2 < 0 $.\n",
    "4. Inconclusive: $ f_{xx}f_{yy} - f_{xy}^2 = 0 $."
   ]
  },
  {
   "cell_type": "code",
   "execution_count": 5,
   "id": "ac28a64b",
   "metadata": {},
   "outputs": [
    {
     "data": {
      "text/plain": [
       "'function'"
      ]
     },
     "metadata": {},
     "output_type": "display_data"
    },
    {
     "data": {
      "text/latex": [
       "$\\displaystyle x^{2} + x y^{2} - y^{3}$"
      ],
      "text/plain": [
       "x**2 + x*y**2 - y**3"
      ]
     },
     "metadata": {},
     "output_type": "display_data"
    },
    {
     "data": {
      "text/plain": [
       "'critical points'"
      ]
     },
     "metadata": {},
     "output_type": "display_data"
    },
    {
     "data": {
      "text/plain": [
       "[{x: -9/2, y: -3}, {x: 0, y: 0}]"
      ]
     },
     "metadata": {},
     "output_type": "display_data"
    },
    {
     "name": "stdout",
     "output_type": "stream",
     "text": [
      "Given point is (1, -1)\n"
     ]
    },
    {
     "data": {
      "text/plain": [
       "'fxx'"
      ]
     },
     "metadata": {},
     "output_type": "display_data"
    },
    {
     "data": {
      "text/latex": [
       "$\\displaystyle 2.0$"
      ],
      "text/plain": [
       "2.00000000000000"
      ]
     },
     "metadata": {},
     "output_type": "display_data"
    },
    {
     "data": {
      "text/plain": [
       "'fxx*fyy - fxy**2'"
      ]
     },
     "metadata": {},
     "output_type": "display_data"
    },
    {
     "data": {
      "text/latex": [
       "$\\displaystyle 12.0$"
      ],
      "text/plain": [
       "12.0000000000000"
      ]
     },
     "metadata": {},
     "output_type": "display_data"
    },
    {
     "name": "stdout",
     "output_type": "stream",
     "text": [
      "local minima\n"
     ]
    }
   ],
   "source": [
    "x, y = smp.symbols('x y', real=True)\n",
    "f = x**2 -y**3 +x*y**2  # input f(x,y)\n",
    "display('function', f)\n",
    "\n",
    "fxx = f.diff(x,x)\n",
    "fyy = f.diff(y,y)\n",
    "fxy = f.diff(x,y)\n",
    "\n",
    "# solving df/dx = df/dy = 0   (check it)\n",
    "display('critical points',smp.solve([f.diff(x),f.diff(y)]))\n",
    "\n",
    "x1, y1 = 1, -1   # input the point\n",
    "fxx1 = fxx.subs([(x,x1),(y,y1)]).evalf()\n",
    "D1 = (fxx*fyy-fxy**2).subs([(x,x1),(y,y1)]).evalf()\n",
    "print('Given point is', (x1,y1))\n",
    "display('fxx', fxx1)\n",
    "display('fxx*fyy - fxy**2', D1)\n",
    "\n",
    "if fxx1 < 0 and D1 > 0:\n",
    "    print('local maxima')\n",
    "elif fxx1 > 0 and D1 > 0:\n",
    "    print('local minima')\n",
    "elif D1 < 0:\n",
    "    print('saddle point')\n",
    "else:\n",
    "    print('nothing can be said')"
   ]
  },
  {
   "cell_type": "code",
   "execution_count": null,
   "id": "4cfe6744",
   "metadata": {},
   "outputs": [],
   "source": []
  },
  {
   "cell_type": "markdown",
   "id": "ad1a6478",
   "metadata": {},
   "source": [
    "## Lagrange Multipliers"
   ]
  },
  {
   "cell_type": "markdown",
   "id": "d6b33207",
   "metadata": {},
   "source": [
    "Minimize $f(x,y,z)$ subject to the constraint $g(x,y,z)=0$. It requires to solve 2 equations $ \\nabla f = \\lambda \\nabla g $ and $ g(x,y,z)=0 $."
   ]
  },
  {
   "cell_type": "markdown",
   "id": "dd177804",
   "metadata": {},
   "source": [
    "The function is $ f=T = 8x^2+4yz-16z+600 $ and the constraint is $ g=4x^2 + y^2 + 4z^2 - 16 = 0 $."
   ]
  },
  {
   "cell_type": "code",
   "execution_count": 6,
   "id": "f94b0280",
   "metadata": {},
   "outputs": [
    {
     "data": {
      "text/plain": [
       "'f'"
      ]
     },
     "metadata": {},
     "output_type": "display_data"
    },
    {
     "data": {
      "text/latex": [
       "$\\displaystyle 8 \\mathbf{{x}_{}}^{2} + 4 \\mathbf{{y}_{}} \\mathbf{{z}_{}} - 16 \\mathbf{{z}_{}} + 600$"
      ],
      "text/plain": [
       "8*.x**2 + 4*.y*.z - 16*.z + 600"
      ]
     },
     "metadata": {},
     "output_type": "display_data"
    },
    {
     "data": {
      "text/plain": [
       "'g'"
      ]
     },
     "metadata": {},
     "output_type": "display_data"
    },
    {
     "data": {
      "text/latex": [
       "$\\displaystyle 4 \\mathbf{{x}_{}}^{2} + \\mathbf{{y}_{}}^{2} + 4 \\mathbf{{z}_{}}^{2} - 16$"
      ],
      "text/plain": [
       "4*.x**2 + .y**2 + 4*.z**2 - 16"
      ]
     },
     "metadata": {},
     "output_type": "display_data"
    },
    {
     "data": {
      "text/plain": [
       "'equation 1'"
      ]
     },
     "metadata": {},
     "output_type": "display_data"
    },
    {
     "data": {
      "text/latex": [
       "$\\displaystyle (- 8 \\mathbf{{x}_{}} \\lambda + 16 \\mathbf{{x}_{}})\\mathbf{\\hat{i}_{}} + (- 2 \\mathbf{{y}_{}} \\lambda + 4 \\mathbf{{z}_{}})\\mathbf{\\hat{j}_{}} + (4 \\mathbf{{y}_{}} - 8 \\mathbf{{z}_{}} \\lambda - 16)\\mathbf{\\hat{k}_{}}$"
      ],
      "text/plain": [
       "(-8*.x*\\lambda + 16*.x)*.i + (-2*.y*\\lambda + 4*.z)*.j + (4*.y - 8*.z*\\lambda - 16)*.k"
      ]
     },
     "metadata": {},
     "output_type": "display_data"
    },
    {
     "data": {
      "text/latex": [
       "$\\displaystyle \\left[\\begin{matrix}- 8 \\mathbf{{x}_{}} \\lambda + 16 \\mathbf{{x}_{}}\\\\- 2 \\mathbf{{y}_{}} \\lambda + 4 \\mathbf{{z}_{}}\\\\4 \\mathbf{{y}_{}} - 8 \\mathbf{{z}_{}} \\lambda - 16\\end{matrix}\\right]$"
      ],
      "text/plain": [
       "Matrix([\n",
       "[   -8*.x*\\lambda + 16*.x],\n",
       "[    -2*.y*\\lambda + 4*.z],\n",
       "[4*.y - 8*.z*\\lambda - 16]])"
      ]
     },
     "metadata": {},
     "output_type": "display_data"
    },
    {
     "data": {
      "text/plain": [
       "'equation 2'"
      ]
     },
     "metadata": {},
     "output_type": "display_data"
    },
    {
     "data": {
      "text/latex": [
       "$\\displaystyle 4 \\mathbf{{x}_{}}^{2} + \\mathbf{{y}_{}}^{2} + 4 \\mathbf{{z}_{}}^{2} - 16$"
      ],
      "text/plain": [
       "4*.x**2 + .y**2 + 4*.z**2 - 16"
      ]
     },
     "metadata": {},
     "output_type": "display_data"
    }
   ],
   "source": [
    "from sympy.vector import *\n",
    "C = CoordSys3D('')\n",
    "\n",
    "lam = smp.symbols('\\lambda')\n",
    "# input the function\n",
    "f = 8*C.x**2 +4*C.y*C.z -16*C.z +600\n",
    "# input the constraint\n",
    "g = 4*C.x**2 +C.y**2 +4*C.z**2 -16\n",
    "\n",
    "eq1 = gradient(f) - lam*gradient(g)\n",
    "eq1m = eq1.to_matrix(C)\n",
    "eq2 = g\n",
    "display('f',f,'g',g, 'equation 1',eq1,eq1m, 'equation 2',eq2)"
   ]
  },
  {
   "cell_type": "code",
   "execution_count": 7,
   "id": "4035622f",
   "metadata": {},
   "outputs": [
    {
     "name": "stdout",
     "output_type": "stream",
     "text": [
      "\n",
      " (x,y,z,lambda) = {.x: -4/3, .y: -4/3, .z: -4/3, \\lambda: 2}\n",
      "value of the function = 642.666666666667\n",
      "\n",
      " (x,y,z,lambda) = {.x: 0, .y: -2, .z: -sqrt(3), \\lambda: sqrt(3)}\n",
      "value of the function = 641.569219381653\n",
      "\n",
      " (x,y,z,lambda) = {.x: 0, .y: -2, .z: sqrt(3), \\lambda: -sqrt(3)}\n",
      "value of the function = 558.430780618347\n",
      "\n",
      " (x,y,z,lambda) = {.x: 0, .y: 4, .z: 0, \\lambda: 0}\n",
      "value of the function = 600.000000000000\n",
      "\n",
      " (x,y,z,lambda) = {.x: 4/3, .y: -4/3, .z: -4/3, \\lambda: 2}\n",
      "value of the function = 642.666666666667\n"
     ]
    }
   ],
   "source": [
    "sols = smp.solve([eq1m,eq2]) # use the matrix to solve\n",
    "for sol in sols:\n",
    "    print('\\n (x,y,z,lambda) =', sol)\n",
    "    print('value of the function =',f.subs(sol).evalf())"
   ]
  },
  {
   "cell_type": "code",
   "execution_count": null,
   "id": "5ac8e9cd",
   "metadata": {},
   "outputs": [],
   "source": []
  }
 ],
 "metadata": {
  "kernelspec": {
   "display_name": "Python 3 (ipykernel)",
   "language": "python",
   "name": "python3"
  },
  "language_info": {
   "codemirror_mode": {
    "name": "ipython",
    "version": 3
   },
   "file_extension": ".py",
   "mimetype": "text/x-python",
   "name": "python",
   "nbconvert_exporter": "python",
   "pygments_lexer": "ipython3",
   "version": "3.9.13"
  }
 },
 "nbformat": 4,
 "nbformat_minor": 5
}
