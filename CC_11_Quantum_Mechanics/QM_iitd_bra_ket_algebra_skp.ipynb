{
 "cells": [
  {
   "cell_type": "markdown",
   "metadata": {},
   "source": [
    "NPTEL - Quantum Mechanics and Applications\n",
    "\n",
    "Ajoy Ghatak\n",
    "\n",
    "IIT Delhi"
   ]
  },
  {
   "cell_type": "markdown",
   "metadata": {},
   "source": [
    "# Bra-Ket Algebra"
   ]
  },
  {
   "cell_type": "code",
   "execution_count": 1,
   "metadata": {},
   "outputs": [],
   "source": [
    "import numpy as np\n",
    "import matplotlib.pyplot as plt\n",
    "\n",
    "import sympy as sp\n",
    "sp.init_printing(use_unicode=True)"
   ]
  },
  {
   "cell_type": "code",
   "execution_count": 2,
   "metadata": {},
   "outputs": [],
   "source": [
    "hcut, w = sp.symbols('hbar omega')"
   ]
  },
  {
   "cell_type": "markdown",
   "metadata": {},
   "source": [
    "Functions:\n",
    "- "
   ]
  },
  {
   "cell_type": "markdown",
   "metadata": {},
   "source": [
    "Variables:\n",
    "- "
   ]
  },
  {
   "cell_type": "markdown",
   "metadata": {},
   "source": [
    "## Harmonic Oscillator"
   ]
  },
  {
   "cell_type": "markdown",
   "metadata": {},
   "source": [
    "Lecture 28\n",
    "\n",
    "For Harmonic Oscillator:\n",
    "\n",
    "- $E_n \\quad \\implies \\quad$  **`Enosc_n(n)`**\n",
    "\n",
    "- $<m|H|n> \\quad \\implies \\quad$  **`m_H_osc_n(m, n)`**\n",
    "\n",
    "- $H$ matrix $ (N \\times N) \\quad \\implies \\quad$ **`H_osc(N)`**"
   ]
  },
  {
   "cell_type": "code",
   "execution_count": 3,
   "metadata": {},
   "outputs": [
    {
     "data": {
      "image/png": "[encoded data removed]",
      "text/latex": [
       "$\\displaystyle 3.5 \\hbar \\omega$"
      ],
      "text/plain": [
       "3.5⋅h̅⋅ω"
      ]
     },
     "metadata": {},
     "output_type": "display_data"
    },
    {
     "data": {
      "image/png": "[encoded data removed]",
      "text/latex": [
       "$\\displaystyle 2.5 \\hbar \\omega$"
      ],
      "text/plain": [
       "2.5⋅h̅⋅ω"
      ]
     },
     "metadata": {},
     "output_type": "display_data"
    },
    {
     "data": {
      "image/png": "[encoded data removed]",
      "text/latex": [
       "$\\displaystyle 0$"
      ],
      "text/plain": [
       "0"
      ]
     },
     "metadata": {},
     "output_type": "display_data"
    },
    {
     "data": {
      "text/latex": [
       "$\\displaystyle \\left[\\begin{matrix}0.5 \\hbar \\omega & 0 & 0 & 0\\\\0 & 1.5 \\hbar \\omega & 0 & 0\\\\0 & 0 & 2.5 \\hbar \\omega & 0\\\\0 & 0 & 0 & 3.5 \\hbar \\omega\\end{matrix}\\right]$"
      ],
      "text/plain": [
       "⎡0.5⋅h̅⋅ω     0        0        0   ⎤\n",
       "⎢                                  ⎥\n",
       "⎢   0     1.5⋅h̅⋅ω     0        0   ⎥\n",
       "⎢                                  ⎥\n",
       "⎢   0        0     2.5⋅h̅⋅ω     0   ⎥\n",
       "⎢                                  ⎥\n",
       "⎣   0        0        0     3.5⋅h̅⋅ω⎦"
      ]
     },
     "metadata": {},
     "output_type": "display_data"
    },
    {
     "data": {
      "text/latex": [
       "$\\displaystyle \\left[ \\left( 0.5 \\hbar \\omega, \\  1, \\  \\left[ \\left[\\begin{matrix}1.0\\\\0\\\\0\\\\0\\end{matrix}\\right]\\right]\\right), \\  \\left( 1.5 \\hbar \\omega, \\  1, \\  \\left[ \\left[\\begin{matrix}0\\\\1.0\\\\0\\\\0\\end{matrix}\\right]\\right]\\right), \\  \\left( 2.5 \\hbar \\omega, \\  1, \\  \\left[ \\left[\\begin{matrix}0\\\\0\\\\1.0\\\\0\\end{matrix}\\right]\\right]\\right), \\  \\left( 3.5 \\hbar \\omega, \\  1, \\  \\left[ \\left[\\begin{matrix}0\\\\0\\\\0\\\\1.0\\end{matrix}\\right]\\right]\\right)\\right]$"
      ],
      "text/plain": [
       "⎡⎛            ⎡⎡1.0⎤⎤⎞  ⎛            ⎡⎡ 0 ⎤⎤⎞  ⎛            ⎡⎡ 0 ⎤⎤⎞  ⎛       \n",
       "⎢⎜            ⎢⎢   ⎥⎥⎟  ⎜            ⎢⎢   ⎥⎥⎟  ⎜            ⎢⎢   ⎥⎥⎟  ⎜       \n",
       "⎢⎜            ⎢⎢ 0 ⎥⎥⎟  ⎜            ⎢⎢1.0⎥⎥⎟  ⎜            ⎢⎢ 0 ⎥⎥⎟  ⎜       \n",
       "⎢⎜0.5⋅h̅⋅ω, 1, ⎢⎢   ⎥⎥⎟, ⎜1.5⋅h̅⋅ω, 1, ⎢⎢   ⎥⎥⎟, ⎜2.5⋅h̅⋅ω, 1, ⎢⎢   ⎥⎥⎟, ⎜3.5⋅\n",
       "⎢⎜            ⎢⎢ 0 ⎥⎥⎟  ⎜            ⎢⎢ 0 ⎥⎥⎟  ⎜            ⎢⎢1.0⎥⎥⎟  ⎜       \n",
       "⎢⎜            ⎢⎢   ⎥⎥⎟  ⎜            ⎢⎢   ⎥⎥⎟  ⎜            ⎢⎢   ⎥⎥⎟  ⎜       \n",
       "⎣⎝            ⎣⎣ 0 ⎦⎦⎠  ⎝            ⎣⎣ 0 ⎦⎦⎠  ⎝            ⎣⎣ 0 ⎦⎦⎠  ⎝       \n",
       "\n",
       "     ⎡⎡ 0 ⎤⎤⎞⎤\n",
       "     ⎢⎢   ⎥⎥⎟⎥\n",
       "     ⎢⎢ 0 ⎥⎥⎟⎥\n",
       "h̅⋅ω, 1, ⎢⎢   ⎥⎥⎟⎥\n",
       "     ⎢⎢ 0 ⎥⎥⎟⎥\n",
       "     ⎢⎢   ⎥⎥⎟⎥\n",
       "     ⎣⎣1.0⎦⎦⎠⎦"
      ]
     },
     "metadata": {},
     "output_type": "display_data"
    }
   ],
   "source": [
    "Enosc_n = lambda n: (n + 1/2) *hcut*w\n",
    "\n",
    "def m_H_osc_n(m, n):\n",
    "    if m==n:\n",
    "        return Enosc_n(m)\n",
    "    else:\n",
    "        return 0\n",
    "\n",
    "H_osc = lambda N: sp.Matrix(N, N, m_H_osc_n)\n",
    "display(Enosc_n(3), m_H_osc_n(2,2), m_H_osc_n(2,3), H_osc(4),\n",
    "        H_osc(4).eigenvects())"
   ]
  },
  {
   "cell_type": "code",
   "execution_count": null,
   "metadata": {},
   "outputs": [],
   "source": []
  },
  {
   "cell_type": "markdown",
   "metadata": {},
   "source": [
    "## Spherical Harmonics\n",
    "$$ Y_n^m(\\theta, \\varphi) = \\sqrt{\\frac{(2n+1)(n-m)!}{4\\pi(n+m)!}} \\,\n",
    "            \\exp(i m \\varphi) \\, \\mathrm{P}_n^m\\left(\\cos(\\theta)\\right) $$"
   ]
  },
  {
   "cell_type": "code",
   "execution_count": 4,
   "metadata": {},
   "outputs": [],
   "source": [
    "theta, phi = sp.symbols('theta phi', positive=True)"
   ]
  },
  {
   "cell_type": "code",
   "execution_count": 5,
   "metadata": {},
   "outputs": [
    {
     "data": {
      "image/png": "[encoded data removed]",
      "text/latex": [
       "$\\displaystyle Y_{2}^{1}\\left(\\theta,\\phi\\right) = - \\frac{\\sqrt{30} e^{i \\phi} \\sin{\\left(\\theta \\right)} \\cos{\\left(\\theta \\right)}}{4 \\sqrt{\\pi}}$"
      ],
      "text/plain": [
       "                        ⅈ⋅φ               \n",
       "                  -√30⋅ℯ   ⋅sin(θ)⋅cos(θ) \n",
       "Ynm(2, 1, θ, φ) = ────────────────────────\n",
       "                            4⋅√π          "
      ]
     },
     "metadata": {},
     "output_type": "display_data"
    }
   ],
   "source": [
    "l, m = 2, 1  # input\n",
    "display(sp.Eq(sp.Ynm(l,m,theta,phi),\n",
    "        sp.Ynm(l, m, theta, phi).expand(func=True)))"
   ]
  },
  {
   "cell_type": "markdown",
   "metadata": {},
   "source": [
    "$$ \\overline{Y_n^m(\\theta, \\varphi)} := (-1)^m Y_n^{-m}(\\theta, \\varphi) $$"
   ]
  },
  {
   "cell_type": "code",
   "execution_count": 6,
   "metadata": {},
   "outputs": [
    {
     "data": {
      "text/plain": [
       "<function sympy.functions.special.spherical_harmonics.Ynm_c(n, m, theta, phi)>"
      ]
     },
     "execution_count": 6,
     "metadata": {},
     "output_type": "execute_result"
    }
   ],
   "source": [
    "sp.Ynm_c"
   ]
  },
  {
   "cell_type": "code",
   "execution_count": null,
   "metadata": {},
   "outputs": [],
   "source": []
  },
  {
   "cell_type": "markdown",
   "metadata": {},
   "source": [
    "## Theory of Angular Momentum"
   ]
  },
  {
   "cell_type": "code",
   "execution_count": 7,
   "metadata": {},
   "outputs": [],
   "source": [
    "import sympy.physics.paulialgebra as sppauli\n",
    "import sympy.physics.matrices as spphmat"
   ]
  },
  {
   "cell_type": "markdown",
   "metadata": {},
   "source": [
    "Pauli Spin Matrices:\n",
    "\n",
    "- $\\sigma^2 \\quad \\implies \\quad$ **`sig2`**, **`sig2val`**, **`sig21vec`**, **`sig22vec`**\n",
    "\n",
    "- $\\sigma_x \\quad \\implies \\quad$ **`sigx`**, **`sigx1val`**, **`sigx1vec`**, **`sigx2val`**, **`sigx2vec`**\n",
    "\n",
    "- $\\sigma_y \\quad \\implies \\quad$ **`sigy`**, **`sigy1val`**, **`sigy1vec`**, **`sigy2val`**, **`sigy2vec`**\n",
    "\n",
    "- $\\sigma_z \\quad \\implies \\quad$ **`sigz`**, **`sigz1val`**, **`sigz1vec`**, **`sigz2val`**, **`sigz2vec`**\n",
    "\n",
    "- $\\sigma_+ \\quad \\implies \\quad$ **`sig_plus`**\n",
    "- $\\sigma_- \\quad \\implies \\quad$ **`sig_minus`**\n",
    "\n",
    "- **`J2`**, **`Jx`**, **`Jy`**, **`Jz`**, **`J_plus`**, **`J_minus`**"
   ]
  },
  {
   "cell_type": "markdown",
   "metadata": {},
   "source": [
    "Commutator function: **`commutator_fn(A, B)`**"
   ]
  },
  {
   "cell_type": "code",
   "execution_count": 8,
   "metadata": {},
   "outputs": [],
   "source": [
    "def commutator_fn(A, B):\n",
    "    return A*B - B*A"
   ]
  },
  {
   "cell_type": "code",
   "execution_count": 9,
   "metadata": {},
   "outputs": [
    {
     "data": {
      "text/latex": [
       "$\\displaystyle \\left( \\left[\\begin{matrix}1 & 0\\\\0 & 1\\end{matrix}\\right], \\  \\left( \\left[\\begin{matrix}0 & 1\\\\1 & 0\\end{matrix}\\right], \\  \\left[\\begin{matrix}0 & - i\\\\i & 0\\end{matrix}\\right], \\  \\left[\\begin{matrix}1 & 0\\\\0 & -1\\end{matrix}\\right]\\right), \\  \\left( \\left[\\begin{matrix}0 & 1\\\\0 & 0\\end{matrix}\\right], \\  \\left[\\begin{matrix}0 & 0\\\\1 & 0\\end{matrix}\\right]\\right)\\right)$"
      ],
      "text/plain": [
       "⎛⎡1  0⎤  ⎛⎡0  1⎤  ⎡0  -ⅈ⎤  ⎡1  0 ⎤⎞  ⎛⎡0  1⎤  ⎡0  0⎤⎞⎞\n",
       "⎜⎢    ⎥, ⎜⎢    ⎥, ⎢     ⎥, ⎢     ⎥⎟, ⎜⎢    ⎥, ⎢    ⎥⎟⎟\n",
       "⎝⎣0  1⎦  ⎝⎣1  0⎦  ⎣ⅈ  0 ⎦  ⎣0  -1⎦⎠  ⎝⎣0  0⎦  ⎣1  0⎦⎠⎠"
      ]
     },
     "execution_count": 9,
     "metadata": {},
     "output_type": "execute_result"
    }
   ],
   "source": [
    "sigx, sigy, sigz = [spphmat.msigma(i) for i in range(1,4)]\n",
    "sig_plus, sig_minus = (sigx +sp.I*sigy)/2, (sigx -sp.I*sigy)/2\n",
    "sig2 = sp.eye(2)\n",
    "sig2, (sigx, sigy, sigz), (sig_plus, sig_minus)"
   ]
  },
  {
   "cell_type": "code",
   "execution_count": 10,
   "metadata": {},
   "outputs": [
    {
     "data": {
      "text/latex": [
       "$\\displaystyle \\left[\\begin{matrix}1 & 0\\\\0 & 1\\end{matrix}\\right]$"
      ],
      "text/plain": [
       "⎡1  0⎤\n",
       "⎢    ⎥\n",
       "⎣0  1⎦"
      ]
     },
     "metadata": {},
     "output_type": "display_data"
    },
    {
     "data": {
      "text/latex": [
       "$\\displaystyle \\left[\\begin{matrix}1 & 0\\\\0 & 1\\end{matrix}\\right]$"
      ],
      "text/plain": [
       "⎡1  0⎤\n",
       "⎢    ⎥\n",
       "⎣0  1⎦"
      ]
     },
     "metadata": {},
     "output_type": "display_data"
    },
    {
     "data": {
      "text/latex": [
       "$\\displaystyle \\left[\\begin{matrix}0 & 0\\\\0 & 0\\end{matrix}\\right]$"
      ],
      "text/plain": [
       "⎡0  0⎤\n",
       "⎢    ⎥\n",
       "⎣0  0⎦"
      ]
     },
     "metadata": {},
     "output_type": "display_data"
    },
    {
     "data": {
      "text/latex": [
       "$\\displaystyle \\left[\\begin{matrix}2 i & 0\\\\0 & - 2 i\\end{matrix}\\right]$"
      ],
      "text/plain": [
       "⎡2⋅ⅈ   0  ⎤\n",
       "⎢         ⎥\n",
       "⎣ 0   -2⋅ⅈ⎦"
      ]
     },
     "metadata": {},
     "output_type": "display_data"
    }
   ],
   "source": [
    "display(sigx.conjugate()*sigx, sigy**2,\n",
    "commutator_fn(sig2, sigx), commutator_fn(sigx, sigy))"
   ]
  },
  {
   "cell_type": "code",
   "execution_count": 11,
   "metadata": {},
   "outputs": [
    {
     "data": {
      "text/latex": [
       "$\\displaystyle \\left[\\begin{matrix}\\frac{3 \\hbar^{2}}{4} & 0\\\\0 & \\frac{3 \\hbar^{2}}{4}\\end{matrix}\\right]$"
      ],
      "text/plain": [
       "⎡   2      ⎤\n",
       "⎢3⋅h̅       ⎥\n",
       "⎢────   0  ⎥\n",
       "⎢ 4        ⎥\n",
       "⎢          ⎥\n",
       "⎢         2⎥\n",
       "⎢      3⋅h̅ ⎥\n",
       "⎢ 0    ────⎥\n",
       "⎣       4  ⎦"
      ]
     },
     "execution_count": 11,
     "metadata": {},
     "output_type": "execute_result"
    }
   ],
   "source": [
    "Jx, Jy, Jz = hcut/2 *sigx, hcut/2 *sigy, hcut/2 *sigz\n",
    "J_plus, J_minus = hcut/2 *sig_plus, hcut/2 *sig_minus\n",
    "J2 = Jx**2 + Jy**2 + Jz**2\n",
    "J2"
   ]
  },
  {
   "cell_type": "code",
   "execution_count": 12,
   "metadata": {},
   "outputs": [
    {
     "data": {
      "text/latex": [
       "$\\displaystyle \\left[ \\left( 1, \\  2, \\  \\left[ \\left[\\begin{matrix}1\\\\0\\end{matrix}\\right], \\  \\left[\\begin{matrix}0\\\\1\\end{matrix}\\right]\\right]\\right)\\right]$"
      ],
      "text/plain": [
       "⎡⎛      ⎡⎡1⎤  ⎡0⎤⎤⎞⎤\n",
       "⎢⎜1, 2, ⎢⎢ ⎥, ⎢ ⎥⎥⎟⎥\n",
       "⎣⎝      ⎣⎣0⎦  ⎣1⎦⎦⎠⎦"
      ]
     },
     "execution_count": 12,
     "metadata": {},
     "output_type": "execute_result"
    }
   ],
   "source": [
    "[(sigx1val,degx1,sigx1vec),(sigx2val,degx2,sigx2vec)] = sigx.eigenvects()\n",
    "[(sigy1val,degy1,sigy1vec),(sigy2val,degy2,sigy2vec)] = sigy.eigenvects()\n",
    "[(sigz1val,degz1,sigz1vec),(sigz2val,degz2,sigz2vec)] = sigz.eigenvects()\n",
    "[(sig2val,deg2,sig2vec)] = sig2.eigenvects()\n",
    "sig21vec, sig22vec = sig2vec\n",
    "sig2.eigenvects()"
   ]
  },
  {
   "cell_type": "code",
   "execution_count": null,
   "metadata": {},
   "outputs": [],
   "source": []
  },
  {
   "cell_type": "markdown",
   "metadata": {},
   "source": [
    "### Angular momentum operators for a given j"
   ]
  },
  {
   "cell_type": "code",
   "execution_count": 13,
   "metadata": {},
   "outputs": [],
   "source": [
    "def m_J2_n(j, m, n):\n",
    "    if m==n:\n",
    "        return j*(j+1)*hcut**2\n",
    "    else:\n",
    "        return 0\n",
    "J2_mat = lambda j: sp.Matrix(int(2*j+1),int(2*j+1), lambda m,n: m_J2_n(j, m, n))\n",
    "\n",
    "def m_Jz_n(j, m, n):\n",
    "    m, n = m-j, n-j\n",
    "    if m==n:\n",
    "        return n*hcut\n",
    "    else:\n",
    "        return 0\n",
    "Jz_mat = lambda j: sp.Matrix(int(2*j+1),int(2*j+1), lambda m,n: m_Jz_n(j, m, n))\n",
    "\n",
    "def m_J_plus_n(j, m, n):\n",
    "    m, n = m-j, n-j\n",
    "    if m==n-1:\n",
    "        return sp.sqrt((j+n)*(j-n+1)) *hcut\n",
    "    else:\n",
    "        return 0\n",
    "J_plus_mat = lambda j: sp.Matrix(int(2*j+1),int(2*j+1), lambda m,n: m_J_plus_n(j, m, n))\n",
    "\n",
    "def m_J_minus_n(j, m, n):\n",
    "    m, n = m-j, n-j\n",
    "    if m==n+1:\n",
    "        return sp.sqrt((j-n)*(j+n+1)) *hcut\n",
    "    else:\n",
    "        return 0\n",
    "J_minus_mat = lambda j: sp.Matrix(int(2*j+1),int(2*j+1), lambda m,n: m_J_minus_n(j, m, n))\n",
    "\n",
    "Jx_mat = lambda j: (J_plus_mat(j) + J_minus_mat(j))/2\n",
    "Jy_mat = lambda j: (J_plus_mat(j) - J_minus_mat(j))/(2*sp.I)"
   ]
  },
  {
   "cell_type": "markdown",
   "metadata": {},
   "source": [
    "- **`m_J2_n(j, m, n)`**, **`m_Jz_n(j, m, n)`**\n",
    "\n",
    "- **`m_J_plus_n(j, m, n)`**, **`m_J_minus_n(j, m, n)`**\n",
    "\n",
    "- **`J2_mat(j)`**, **`Jz_mat(j)`**\n",
    "\n",
    "- **`Jx_mat(j)`**, **`Jy_mat(j)`**\n",
    "\n",
    "- **`J_plus_mat(j)`**, **`J_minus_mat(j)`**\n",
    "\n",
    "- $J^2 \\, \\implies \\,$ **`J2_mat(j)`**\n",
    "- $J_z \\, \\implies \\,$ **`Jz_mat(j)`**\n",
    "- $J_x \\, \\implies \\,$ **`Jx_mat(j)`**\n",
    "- $J_y \\, \\implies \\,$ **`Jy_mat(j)`**\n",
    "- $J_+ \\, \\implies \\,$ **`J_plus_mat(j)`**\n",
    "- $J_- \\, \\implies \\,$ **`J_minus_mat(j)`**"
   ]
  },
  {
   "cell_type": "markdown",
   "metadata": {},
   "source": [
    "*Input value of $j$ for which matrices will be calculated*. \n",
    "\n",
    "The same analysis can be done if we are interested in spin matrices. In that case, in our terms it would be donoted by $S$ instead of $J$. \n",
    "\n",
    "*For **Pauli Matrices**, we need to put **`j1 = 1/2`** and we will get the matrices ($\\sigma^2, \\sigma_z, \\sigma_x, \\sigma_y$) with eigenvalues and eigenvectors.*"
   ]
  },
  {
   "cell_type": "code",
   "execution_count": 14,
   "metadata": {},
   "outputs": [
    {
     "data": {
      "text/plain": [
       "'J2'"
      ]
     },
     "metadata": {},
     "output_type": "display_data"
    },
    {
     "data": {
      "text/latex": [
       "$\\displaystyle \\left[\\begin{matrix}2 \\hbar^{2} & 0 & 0\\\\0 & 2 \\hbar^{2} & 0\\\\0 & 0 & 2 \\hbar^{2}\\end{matrix}\\right]$"
      ],
      "text/plain": [
       "⎡   2            ⎤\n",
       "⎢2⋅h̅    0     0  ⎥\n",
       "⎢                ⎥\n",
       "⎢         2      ⎥\n",
       "⎢ 0    2⋅h̅    0  ⎥\n",
       "⎢                ⎥\n",
       "⎢               2⎥\n",
       "⎣ 0     0    2⋅h̅ ⎦"
      ]
     },
     "metadata": {},
     "output_type": "display_data"
    },
    {
     "data": {
      "text/latex": [
       "$\\displaystyle \\left[\\begin{matrix}- \\hbar & 0 & 0\\\\0 & 0 & 0\\\\0 & 0 & \\hbar\\end{matrix}\\right]$"
      ],
      "text/plain": [
       "⎡-h̅  0  0⎤\n",
       "⎢        ⎥\n",
       "⎢0   0  0⎥\n",
       "⎢        ⎥\n",
       "⎣0   0  h̅⎦"
      ]
     },
     "metadata": {},
     "output_type": "display_data"
    },
    {
     "data": {
      "text/plain": [
       "'J+, J-'"
      ]
     },
     "metadata": {},
     "output_type": "display_data"
    },
    {
     "data": {
      "text/latex": [
       "$\\displaystyle \\left[\\begin{matrix}0 & \\sqrt{2} \\hbar & 0\\\\0 & 0 & \\sqrt{2} \\hbar\\\\0 & 0 & 0\\end{matrix}\\right]$"
      ],
      "text/plain": [
       "⎡0  √2⋅h̅   0  ⎤\n",
       "⎢             ⎥\n",
       "⎢0   0    √2⋅h̅⎥\n",
       "⎢             ⎥\n",
       "⎣0   0     0  ⎦"
      ]
     },
     "metadata": {},
     "output_type": "display_data"
    },
    {
     "data": {
      "text/latex": [
       "$\\displaystyle \\left[\\begin{matrix}0 & 0 & 0\\\\\\sqrt{2} \\hbar & 0 & 0\\\\0 & \\sqrt{2} \\hbar & 0\\end{matrix}\\right]$"
      ],
      "text/plain": [
       "⎡ 0     0    0⎤\n",
       "⎢             ⎥\n",
       "⎢√2⋅h̅   0    0⎥\n",
       "⎢             ⎥\n",
       "⎣ 0    √2⋅h̅  0⎦"
      ]
     },
     "metadata": {},
     "output_type": "display_data"
    },
    {
     "data": {
      "text/plain": [
       "'Jx, Jy'"
      ]
     },
     "metadata": {},
     "output_type": "display_data"
    },
    {
     "data": {
      "text/latex": [
       "$\\displaystyle \\left[\\begin{matrix}0 & \\frac{\\sqrt{2} \\hbar}{2} & 0\\\\\\frac{\\sqrt{2} \\hbar}{2} & 0 & \\frac{\\sqrt{2} \\hbar}{2}\\\\0 & \\frac{\\sqrt{2} \\hbar}{2} & 0\\end{matrix}\\right]$"
      ],
      "text/plain": [
       "⎡      √2⋅h̅      ⎤\n",
       "⎢ 0    ────   0  ⎥\n",
       "⎢       2        ⎥\n",
       "⎢                ⎥\n",
       "⎢√2⋅h̅        √2⋅h̅⎥\n",
       "⎢────   0    ────⎥\n",
       "⎢ 2           2  ⎥\n",
       "⎢                ⎥\n",
       "⎢      √2⋅h̅      ⎥\n",
       "⎢ 0    ────   0  ⎥\n",
       "⎣       2        ⎦"
      ]
     },
     "metadata": {},
     "output_type": "display_data"
    },
    {
     "data": {
      "text/latex": [
       "$\\displaystyle \\left[\\begin{matrix}0 & - \\frac{\\sqrt{2} i \\hbar}{2} & 0\\\\\\frac{\\sqrt{2} i \\hbar}{2} & 0 & - \\frac{\\sqrt{2} i \\hbar}{2}\\\\0 & \\frac{\\sqrt{2} i \\hbar}{2} & 0\\end{matrix}\\right]$"
      ],
      "text/plain": [
       "⎡        -√2⋅ⅈ⋅h̅           ⎤\n",
       "⎢  0     ────────     0    ⎥\n",
       "⎢           2              ⎥\n",
       "⎢                          ⎥\n",
       "⎢√2⋅ⅈ⋅h̅            -√2⋅ⅈ⋅h̅ ⎥\n",
       "⎢──────     0      ────────⎥\n",
       "⎢  2                  2    ⎥\n",
       "⎢                          ⎥\n",
       "⎢         √2⋅ⅈ⋅h̅           ⎥\n",
       "⎢  0      ──────      0    ⎥\n",
       "⎣           2              ⎦"
      ]
     },
     "metadata": {},
     "output_type": "display_data"
    },
    {
     "data": {
      "text/latex": [
       "$\\displaystyle \\left[\\begin{matrix}i \\hbar^{2} & 0 & 0\\\\0 & 0 & 0\\\\0 & 0 & - i \\hbar^{2}\\end{matrix}\\right]$"
      ],
      "text/plain": [
       "⎡   2          ⎤\n",
       "⎢ⅈ⋅h̅   0    0  ⎥\n",
       "⎢              ⎥\n",
       "⎢ 0    0    0  ⎥\n",
       "⎢              ⎥\n",
       "⎢             2⎥\n",
       "⎣ 0    0  -ⅈ⋅h̅ ⎦"
      ]
     },
     "metadata": {},
     "output_type": "display_data"
    }
   ],
   "source": [
    "j1 = 1   # input\n",
    "display('J2', J2_mat(j1), Jz_mat(j1), 'J+, J-', J_plus_mat(j1), J_minus_mat(j1),\n",
    "'Jx, Jy', Jx_mat(j1), Jy_mat(j1), commutator_fn(Jx_mat(j1), Jy_mat(j1)))"
   ]
  },
  {
   "cell_type": "code",
   "execution_count": 15,
   "metadata": {},
   "outputs": [
    {
     "data": {
      "text/plain": [
       "'J2'"
      ]
     },
     "metadata": {},
     "output_type": "display_data"
    },
    {
     "data": {
      "text/latex": [
       "$\\displaystyle \\left[ \\left( 2 \\hbar^{2}, \\  3, \\  \\left[ \\left[\\begin{matrix}1\\\\0\\\\0\\end{matrix}\\right], \\  \\left[\\begin{matrix}0\\\\1\\\\0\\end{matrix}\\right], \\  \\left[\\begin{matrix}0\\\\0\\\\1\\end{matrix}\\right]\\right]\\right)\\right]$"
      ],
      "text/plain": [
       "⎡⎛         ⎡⎡1⎤  ⎡0⎤  ⎡0⎤⎤⎞⎤\n",
       "⎢⎜   2     ⎢⎢ ⎥  ⎢ ⎥  ⎢ ⎥⎥⎟⎥\n",
       "⎢⎜2⋅h̅ , 3, ⎢⎢0⎥, ⎢1⎥, ⎢0⎥⎥⎟⎥\n",
       "⎢⎜         ⎢⎢ ⎥  ⎢ ⎥  ⎢ ⎥⎥⎟⎥\n",
       "⎣⎝         ⎣⎣0⎦  ⎣0⎦  ⎣1⎦⎦⎠⎦"
      ]
     },
     "metadata": {},
     "output_type": "display_data"
    },
    {
     "data": {
      "text/plain": [
       "'Jz'"
      ]
     },
     "metadata": {},
     "output_type": "display_data"
    },
    {
     "data": {
      "text/latex": [
       "$\\displaystyle \\left[ \\left( 0, \\  1, \\  \\left[ \\left[\\begin{matrix}0\\\\1\\\\0\\end{matrix}\\right]\\right]\\right), \\  \\left( - \\hbar, \\  1, \\  \\left[ \\left[\\begin{matrix}1\\\\0\\\\0\\end{matrix}\\right]\\right]\\right), \\  \\left( \\hbar, \\  1, \\  \\left[ \\left[\\begin{matrix}0\\\\0\\\\1\\end{matrix}\\right]\\right]\\right)\\right]$"
      ],
      "text/plain": [
       "⎡⎛      ⎡⎡0⎤⎤⎞  ⎛       ⎡⎡1⎤⎤⎞  ⎛      ⎡⎡0⎤⎤⎞⎤\n",
       "⎢⎜      ⎢⎢ ⎥⎥⎟  ⎜       ⎢⎢ ⎥⎥⎟  ⎜      ⎢⎢ ⎥⎥⎟⎥\n",
       "⎢⎜0, 1, ⎢⎢1⎥⎥⎟, ⎜-h̅, 1, ⎢⎢0⎥⎥⎟, ⎜h̅, 1, ⎢⎢0⎥⎥⎟⎥\n",
       "⎢⎜      ⎢⎢ ⎥⎥⎟  ⎜       ⎢⎢ ⎥⎥⎟  ⎜      ⎢⎢ ⎥⎥⎟⎥\n",
       "⎣⎝      ⎣⎣0⎦⎦⎠  ⎝       ⎣⎣0⎦⎦⎠  ⎝      ⎣⎣1⎦⎦⎠⎦"
      ]
     },
     "metadata": {},
     "output_type": "display_data"
    },
    {
     "data": {
      "text/plain": [
       "'Jx'"
      ]
     },
     "metadata": {},
     "output_type": "display_data"
    },
    {
     "data": {
      "text/latex": [
       "$\\displaystyle \\left[ \\left( 0, \\  1, \\  \\left[ \\left[\\begin{matrix}-1\\\\0\\\\1\\end{matrix}\\right]\\right]\\right), \\  \\left( - \\hbar, \\  1, \\  \\left[ \\left[\\begin{matrix}1\\\\- \\sqrt{2}\\\\1\\end{matrix}\\right]\\right]\\right), \\  \\left( \\hbar, \\  1, \\  \\left[ \\left[\\begin{matrix}1\\\\\\sqrt{2}\\\\1\\end{matrix}\\right]\\right]\\right)\\right]$"
      ],
      "text/plain": [
       "⎡⎛      ⎡⎡-1⎤⎤⎞  ⎛       ⎡⎡ 1 ⎤⎤⎞  ⎛      ⎡⎡1 ⎤⎤⎞⎤\n",
       "⎢⎜      ⎢⎢  ⎥⎥⎟  ⎜       ⎢⎢   ⎥⎥⎟  ⎜      ⎢⎢  ⎥⎥⎟⎥\n",
       "⎢⎜0, 1, ⎢⎢0 ⎥⎥⎟, ⎜-h̅, 1, ⎢⎢-√2⎥⎥⎟, ⎜h̅, 1, ⎢⎢√2⎥⎥⎟⎥\n",
       "⎢⎜      ⎢⎢  ⎥⎥⎟  ⎜       ⎢⎢   ⎥⎥⎟  ⎜      ⎢⎢  ⎥⎥⎟⎥\n",
       "⎣⎝      ⎣⎣1 ⎦⎦⎠  ⎝       ⎣⎣ 1 ⎦⎦⎠  ⎝      ⎣⎣1 ⎦⎦⎠⎦"
      ]
     },
     "metadata": {},
     "output_type": "display_data"
    },
    {
     "data": {
      "text/plain": [
       "'Jy'"
      ]
     },
     "metadata": {},
     "output_type": "display_data"
    },
    {
     "data": {
      "text/latex": [
       "$\\displaystyle \\left[ \\left( 0, \\  1, \\  \\left[ \\left[\\begin{matrix}1\\\\0\\\\1\\end{matrix}\\right]\\right]\\right), \\  \\left( - \\hbar, \\  1, \\  \\left[ \\left[\\begin{matrix}-1\\\\\\sqrt{2} i\\\\1\\end{matrix}\\right]\\right]\\right), \\  \\left( \\hbar, \\  1, \\  \\left[ \\left[\\begin{matrix}-1\\\\- \\sqrt{2} i\\\\1\\end{matrix}\\right]\\right]\\right)\\right]$"
      ],
      "text/plain": [
       "⎡⎛      ⎡⎡1⎤⎤⎞  ⎛       ⎡⎡ -1 ⎤⎤⎞  ⎛      ⎡⎡ -1  ⎤⎤⎞⎤\n",
       "⎢⎜      ⎢⎢ ⎥⎥⎟  ⎜       ⎢⎢    ⎥⎥⎟  ⎜      ⎢⎢     ⎥⎥⎟⎥\n",
       "⎢⎜0, 1, ⎢⎢0⎥⎥⎟, ⎜-h̅, 1, ⎢⎢√2⋅ⅈ⎥⎥⎟, ⎜h̅, 1, ⎢⎢-√2⋅ⅈ⎥⎥⎟⎥\n",
       "⎢⎜      ⎢⎢ ⎥⎥⎟  ⎜       ⎢⎢    ⎥⎥⎟  ⎜      ⎢⎢     ⎥⎥⎟⎥\n",
       "⎣⎝      ⎣⎣1⎦⎦⎠  ⎝       ⎣⎣ 1  ⎦⎦⎠  ⎝      ⎣⎣  1  ⎦⎦⎠⎦"
      ]
     },
     "metadata": {},
     "output_type": "display_data"
    }
   ],
   "source": [
    "display('J2', J2_mat(j1).eigenvects(), 'Jz', Jz_mat(j1).eigenvects(),\n",
    "'Jx', Jx_mat(j1).eigenvects(), 'Jy', Jy_mat(j1).eigenvects(),\n",
    "# 'J+', J_plus_mat(j1).eigenvects(), 'J-', J_minus_mat(j1).eigenvects()\n",
    ")"
   ]
  },
  {
   "cell_type": "code",
   "execution_count": null,
   "metadata": {},
   "outputs": [],
   "source": []
  },
  {
   "cell_type": "code",
   "execution_count": null,
   "metadata": {},
   "outputs": [],
   "source": []
  },
  {
   "cell_type": "markdown",
   "metadata": {},
   "source": [
    "### Addition of angular momentum"
   ]
  },
  {
   "cell_type": "code",
   "execution_count": 68,
   "metadata": {},
   "outputs": [],
   "source": [
    "def phijm(j, m):\n",
    "    if np.abs(m)>j:\n",
    "        return 0\n",
    "    else:\n",
    "        return sp.Function('phi')(j, m)\n",
    "\n",
    "def psij12m12(j1,j2, m1,m2):\n",
    "    if np.abs(m1)>j1:\n",
    "        return 0\n",
    "    elif np.abs(m2)>j2:\n",
    "        return 0\n",
    "    else:\n",
    "        return sp.Function('psi')(j1,j2, m1,m2)"
   ]
  },
  {
   "cell_type": "code",
   "execution_count": 103,
   "metadata": {},
   "outputs": [],
   "source": [
    "def J_minus_phi(j, m):\n",
    "    return sp.sqrt((j+m)*(j-m+1)) *phijm(j, m-1)\n",
    "def J1_minus_psi(j1,j2, m1,m2):\n",
    "    return sp.sqrt((j1+m1)*(j1-m1+1)) *psij12m12(j1,j2, m1-1,m2)\n",
    "def J2_minus_psi(j1,j2, m1,m2):\n",
    "    return sp.sqrt((j2+m2)*(j2-m2+1)) *psij12m12(j1,j2, m1,m2-1)\n",
    "\n",
    "def op_J12_minus(j1,j2):\n",
    "    j = j1+j2\n",
    "    eq1lhs, eq1rhs = phijm(j,j), psij12m12(j1,j2,j1,j2)\n",
    "    eq1 = sp.Eq(eq1lhs, eq1rhs)\n",
    "    # display('starting with', sp.Eq(eq1lhs, eq1rhs))\n",
    "    eq2lhs = J_minus_phi(j,j)\n",
    "    # display(eq2lhs)\n",
    "    eqslhs, eqsrhs, eqs = [], [], []\n",
    "    eqslhs.append(eq1lhs), eqsrhs.append(eq1rhs), eqs.append(eq1)\n",
    "    for m in -np.arange(-j,j+1):\n",
    "        m2 = j2\n",
    "        m1 = m -m2\n",
    "        \n",
    "        eq1lhs = J_minus_phi(j,m)\n",
    "        eq1rhs = J1_minus_psi(j1,j2,m1,m2) + J2_minus_psi(j1,j2,m1,m2)\n",
    "        eq1lhs = eq1lhs/sp.sqrt((j+m)*(j-m+1))\n",
    "        eq1rhs = eq1rhs/sp.sqrt((j+m)*(j-m+1))\n",
    "        eq1 = sp.Eq(eq1lhs, eq1rhs)\n",
    "        eqslhs.append(eq1lhs), eqsrhs.append(eq1rhs), eqs.append(eq1)\n",
    "        # display(eq1)\n",
    "    for eqn in range(int(2*j+1)):\n",
    "        display(eqs[eqn])"
   ]
  },
  {
   "cell_type": "code",
   "execution_count": 104,
   "metadata": {},
   "outputs": [
    {
     "data": {
      "image/png": "[encoded data removed]",
      "text/latex": [
       "$\\displaystyle \\psi{\\left(1,0.5,1,0.5 \\right)}$"
      ],
      "text/plain": [
       "ψ(1, 0.5, 1, 0.5)"
      ]
     },
     "metadata": {},
     "output_type": "display_data"
    },
    {
     "data": {
      "image/png": "[encoded data removed]",
      "text/latex": [
       "$\\displaystyle 1.0 \\psi{\\left(1,0.5,1,-0.5 \\right)}$"
      ],
      "text/plain": [
       "1.0⋅ψ(1, 0.5, 1, -0.5)"
      ]
     },
     "metadata": {},
     "output_type": "display_data"
    },
    {
     "data": {
      "image/png": "[encoded data removed]",
      "text/latex": [
       "$\\displaystyle 2.0 \\phi{\\left(1.5,-0.5 \\right)}$"
      ],
      "text/plain": [
       "2.0⋅φ(1.5, -0.5)"
      ]
     },
     "metadata": {},
     "output_type": "display_data"
    },
    {
     "data": {
      "image/png": "[encoded data removed]",
      "text/latex": [
       "$\\displaystyle \\phi{\\left(1.5,1.5 \\right)} = \\psi{\\left(1,0.5,1,0.5 \\right)}$"
      ],
      "text/plain": [
       "φ(1.5, 1.5) = ψ(1, 0.5, 1, 0.5)"
      ]
     },
     "metadata": {},
     "output_type": "display_data"
    },
    {
     "data": {
      "image/png": "[encoded data removed]",
      "text/latex": [
       "$\\displaystyle 1.0 \\phi{\\left(1.5,0.5 \\right)} = 0.816496580927726 \\psi{\\left(1,0.5,0.0,0.5 \\right)} + 0.577350269189626 \\psi{\\left(1,0.5,1.0,-0.5 \\right)}$"
      ],
      "text/plain": [
       "1.0⋅φ(1.5, 0.5) = 0.816496580927726⋅ψ(1, 0.5, 0.0, 0.5) + 0.577350269189626⋅ψ(\n",
       "1, 0.5, 1.0, -0.5)"
      ]
     },
     "metadata": {},
     "output_type": "display_data"
    },
    {
     "data": {
      "image/png": "[encoded data removed]",
      "text/latex": [
       "$\\displaystyle 1.0 \\phi{\\left(1.5,-0.5 \\right)} = 0.707106781186548 \\psi{\\left(1,0.5,-1.0,0.5 \\right)} + 0.5 \\psi{\\left(1,0.5,0.0,-0.5 \\right)}$"
      ],
      "text/plain": [
       "1.0⋅φ(1.5, -0.5) = 0.707106781186548⋅ψ(1, 0.5, -1.0, 0.5) + 0.5⋅ψ(1, 0.5, 0.0,\n",
       " -0.5)"
      ]
     },
     "metadata": {},
     "output_type": "display_data"
    },
    {
     "data": {
      "image/png": "[encoded data removed]",
      "text/latex": [
       "$\\displaystyle 1.0 \\phi{\\left(1.5,-1.5 \\right)} = 0.577350269189626 \\psi{\\left(1,0.5,-1.0,-0.5 \\right)}$"
      ],
      "text/plain": [
       "1.0⋅φ(1.5, -1.5) = 0.577350269189626⋅ψ(1, 0.5, -1.0, -0.5)"
      ]
     },
     "metadata": {},
     "output_type": "display_data"
    },
    {
     "data": {
      "text/plain": [
       "None"
      ]
     },
     "metadata": {},
     "output_type": "display_data"
    }
   ],
   "source": [
    "j1val, j2val = 1, 1/2\n",
    "m1val, m2val = 1, 1/2\n",
    "phival = phijm(j1val+j2val, j1val+j2val-1)\n",
    "psival = psij12m12(j1val,j2val, m1val,m2val)\n",
    "display(psival, J2_minus_psi(j1val,j2val, m1val,m2val), J_minus_phi(j1val+j2val, j1val+j2val-1))\n",
    "display(op_J12_minus(j1val, j2val))"
   ]
  },
  {
   "cell_type": "code",
   "execution_count": 96,
   "metadata": {},
   "outputs": [
    {
     "data": {
      "image/png": "[encoded data removed]",
      "text/latex": [
       "$\\displaystyle 0.333333333333334$"
      ],
      "text/plain": [
       "0.3333333333333337"
      ]
     },
     "metadata": {},
     "output_type": "display_data"
    },
    {
     "data": {
      "image/png": "[encoded data removed]",
      "text/latex": [
       "$\\displaystyle 1.0$"
      ],
      "text/plain": [
       "1.0000000000000002"
      ]
     },
     "metadata": {},
     "output_type": "display_data"
    },
    {
     "data": {
      "image/png": "[encoded data removed]",
      "text/latex": [
       "$\\displaystyle 0.750000000000001$"
      ],
      "text/plain": [
       "0.7500000000000007"
      ]
     },
     "metadata": {},
     "output_type": "display_data"
    },
    {
     "data": {
      "image/png": "[encoded data removed]",
      "text/latex": [
       "$\\displaystyle 0.416666666666667$"
      ],
      "text/plain": [
       "0.4166666666666672"
      ]
     },
     "metadata": {},
     "output_type": "display_data"
    }
   ],
   "source": [
    "display((0.816496580927726*0.707106781186548*0.577350269189626), \n",
    "(0.816496580927726**2+0.577350269189626**2),\n",
    "(0.707106781186548**2+0.5**2),\n",
    "(0.816496580927726*0.707106781186548)**2+(0.577350269189626*0.5)**2)"
   ]
  },
  {
   "cell_type": "code",
   "execution_count": null,
   "metadata": {},
   "outputs": [],
   "source": [
    "def phijm(j, m):\n",
    "    if np.abs(m)>j:\n",
    "        return 0\n",
    "    else:\n",
    "        return sp.Function('phi')(j, m)\n",
    "\n",
    "def psij12m12(j1,j2, m1,m2):\n",
    "    if np.abs(m1)>j1:\n",
    "        return 0\n",
    "    elif np.abs(m2)>j2:\n",
    "        return 0\n",
    "    else:\n",
    "        return sp.Function('psi')(j1,j2, m1,m2)\n",
    "\n",
    "def J_minus_phi(phi_jm):\n",
    "    phi_jm = phijm\n",
    "    return sp.sqrt((j+m)*(j-m+1)) *phijm(j, m-1)\n",
    "def J1_minus_psi(j1,j2, m1,m2):\n",
    "    return sp.sqrt((j1+m1)*(j1-m1+1)) *psij12m12(j1,j2, m1-1,m2)\n",
    "def J2_minus_psi(j1,j2, m1,m2):\n",
    "    return sp.sqrt((j2+m2)*(j2-m2+1)) *psij12m12(j1,j2, m1,m2-1)\n",
    "\n"
   ]
  },
  {
   "cell_type": "code",
   "execution_count": null,
   "metadata": {},
   "outputs": [],
   "source": []
  },
  {
   "cell_type": "code",
   "execution_count": 73,
   "metadata": {},
   "outputs": [],
   "source": [
    "import sympy.physics.quantum.cg as clgr"
   ]
  },
  {
   "cell_type": "code",
   "execution_count": null,
   "metadata": {},
   "outputs": [],
   "source": []
  },
  {
   "cell_type": "code",
   "execution_count": null,
   "metadata": {},
   "outputs": [],
   "source": []
  }
 ],
 "metadata": {
  "kernelspec": {
   "display_name": "Python 3 (ipykernel)",
   "language": "python",
   "name": "python3"
  },
  "language_info": {
   "codemirror_mode": {
    "name": "ipython",
    "version": 3
   },
   "file_extension": ".py",
   "mimetype": "text/x-python",
   "name": "python",
   "nbconvert_exporter": "python",
   "pygments_lexer": "ipython3",
   "version": "3.9.13"
  }
 },
 "nbformat": 4,
 "nbformat_minor": 2
}
