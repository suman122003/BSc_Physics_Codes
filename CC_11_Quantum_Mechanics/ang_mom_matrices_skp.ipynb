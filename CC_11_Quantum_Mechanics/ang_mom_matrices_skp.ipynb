{
 "cells": [
  {
   "cell_type": "markdown",
   "metadata": {},
   "source": [
    "# Angular Momentum Matrices"
   ]
  },
  {
   "cell_type": "markdown",
   "metadata": {},
   "source": [
    "## Description\n",
    "The following codes are done to calculate angular momentum matrices using `sympy`."
   ]
  },
  {
   "cell_type": "code",
   "execution_count": 1,
   "metadata": {},
   "outputs": [],
   "source": [
    "import sympy as sp\n",
    "sp.init_printing(use_unicode=True)"
   ]
  },
  {
   "cell_type": "code",
   "execution_count": 2,
   "metadata": {},
   "outputs": [],
   "source": [
    "hcut, w = sp.symbols('hbar omega')"
   ]
  },
  {
   "cell_type": "markdown",
   "metadata": {},
   "source": [
    "## Defining functions\n",
    "\n",
    "- $J^2 \\, \\implies \\,$ **`J2_mat(j)`**\n",
    "- $J_z \\, \\implies \\,$ **`Jz_mat(j)`**\n",
    "- $J_x \\, \\implies \\,$ **`Jx_mat(j)`**\n",
    "- $J_y \\, \\implies \\,$ **`Jy_mat(j)`**\n",
    "- $J_+ \\, \\implies \\,$ **`J_plus_mat(j)`**\n",
    "- $J_- \\, \\implies \\,$ **`J_minus_mat(j)`**"
   ]
  },
  {
   "cell_type": "code",
   "execution_count": 3,
   "metadata": {},
   "outputs": [],
   "source": [
    "def m_J2_n(j, m, n):\n",
    "    if m==n:\n",
    "        return j*(j+1)*hcut**2\n",
    "    else:\n",
    "        return 0\n",
    "J2_mat = lambda j: sp.Matrix(int(2*j+1),int(2*j+1), lambda m,n: m_J2_n(j, m, n))\n",
    "\n",
    "def m_Jz_n(j, m, n):\n",
    "    m, n = m-j, n-j\n",
    "    if m==n:\n",
    "        return n*hcut\n",
    "    else:\n",
    "        return 0\n",
    "Jz_mat = lambda j: sp.Matrix(int(2*j+1),int(2*j+1), lambda m,n: m_Jz_n(j, m, n))\n",
    "\n",
    "def m_J_plus_n(j, m, n):\n",
    "    m, n = m-j, n-j\n",
    "    if m==n-1:\n",
    "        return sp.sqrt((j+n)*(j-n+1)) *hcut\n",
    "    else:\n",
    "        return 0\n",
    "J_plus_mat = lambda j: sp.Matrix(int(2*j+1),int(2*j+1), lambda m,n: m_J_plus_n(j, m, n))\n",
    "\n",
    "def m_J_minus_n(j, m, n):\n",
    "    m, n = m-j, n-j\n",
    "    if m==n+1:\n",
    "        return sp.sqrt((j-n)*(j+n+1)) *hcut\n",
    "    else:\n",
    "        return 0\n",
    "J_minus_mat = lambda j: sp.Matrix(int(2*j+1),int(2*j+1), lambda m,n: m_J_minus_n(j, m, n))\n",
    "\n",
    "Jx_mat = lambda j: (J_plus_mat(j) + J_minus_mat(j))/2\n",
    "Jy_mat = lambda j: (J_plus_mat(j) - J_minus_mat(j))/(2*sp.I)"
   ]
  },
  {
   "cell_type": "markdown",
   "metadata": {},
   "source": [
    "*Input value of $j$ for which matrices will be calculated*. \n",
    "\n",
    "The same analysis can be done if we are interested in spin matrices. In that case, in our terms it would be donoted by $S$ instead of $J$. \n",
    "\n",
    "*For **Pauli Matrices**, we need to put **`j1 = 1/2`** and we will get the matrices ($\\sigma^2, \\sigma_z, \\sigma_x, \\sigma_y$) with eigenvalues and eigenvectors.*"
   ]
  },
  {
   "cell_type": "code",
   "execution_count": 4,
   "metadata": {},
   "outputs": [],
   "source": [
    "j1 = 1/2   # input"
   ]
  },
  {
   "cell_type": "markdown",
   "metadata": {},
   "source": [
    "## Angular momentum - matrix form"
   ]
  },
  {
   "cell_type": "code",
   "execution_count": 5,
   "metadata": {},
   "outputs": [
    {
     "data": {
      "text/plain": [
       "'J2'"
      ]
     },
     "metadata": {},
     "output_type": "display_data"
    },
    {
     "data": {
      "text/latex": [
       "$\\displaystyle \\left[\\begin{matrix}0.75 \\hbar^{2} & 0\\\\0 & 0.75 \\hbar^{2}\\end{matrix}\\right]$"
      ],
      "text/plain": [
       "⎡      2         ⎤\n",
       "⎢0.75⋅h̅      0   ⎥\n",
       "⎢                ⎥\n",
       "⎢               2⎥\n",
       "⎣   0     0.75⋅h̅ ⎦"
      ]
     },
     "metadata": {},
     "output_type": "display_data"
    },
    {
     "data": {
      "text/plain": [
       "'Jz'"
      ]
     },
     "metadata": {},
     "output_type": "display_data"
    },
    {
     "data": {
      "text/latex": [
       "$\\displaystyle \\left[\\begin{matrix}- 0.5 \\hbar & 0\\\\0 & 0.5 \\hbar\\end{matrix}\\right]$"
      ],
      "text/plain": [
       "⎡-0.5⋅h̅    0  ⎤\n",
       "⎢             ⎥\n",
       "⎣  0     0.5⋅h̅⎦"
      ]
     },
     "metadata": {},
     "output_type": "display_data"
    },
    {
     "data": {
      "text/plain": [
       "'J+'"
      ]
     },
     "metadata": {},
     "output_type": "display_data"
    },
    {
     "data": {
      "text/latex": [
       "$\\displaystyle \\left[\\begin{matrix}0 & 1.0 \\hbar\\\\0 & 0\\end{matrix}\\right]$"
      ],
      "text/plain": [
       "⎡0  1.0⋅h̅⎤\n",
       "⎢        ⎥\n",
       "⎣0    0  ⎦"
      ]
     },
     "metadata": {},
     "output_type": "display_data"
    },
    {
     "data": {
      "text/plain": [
       "'J-'"
      ]
     },
     "metadata": {},
     "output_type": "display_data"
    },
    {
     "data": {
      "text/latex": [
       "$\\displaystyle \\left[\\begin{matrix}0 & 0\\\\1.0 \\hbar & 0\\end{matrix}\\right]$"
      ],
      "text/plain": [
       "⎡  0    0⎤\n",
       "⎢        ⎥\n",
       "⎣1.0⋅h̅  0⎦"
      ]
     },
     "metadata": {},
     "output_type": "display_data"
    },
    {
     "data": {
      "text/plain": [
       "'Jx'"
      ]
     },
     "metadata": {},
     "output_type": "display_data"
    },
    {
     "data": {
      "text/latex": [
       "$\\displaystyle \\left[\\begin{matrix}0 & 0.5 \\hbar\\\\0.5 \\hbar & 0\\end{matrix}\\right]$"
      ],
      "text/plain": [
       "⎡  0    0.5⋅h̅⎤\n",
       "⎢            ⎥\n",
       "⎣0.5⋅h̅    0  ⎦"
      ]
     },
     "metadata": {},
     "output_type": "display_data"
    },
    {
     "data": {
      "text/plain": [
       "'Jy'"
      ]
     },
     "metadata": {},
     "output_type": "display_data"
    },
    {
     "data": {
      "text/latex": [
       "$\\displaystyle \\left[\\begin{matrix}0 & - 0.5 i \\hbar\\\\0.5 i \\hbar & 0\\end{matrix}\\right]$"
      ],
      "text/plain": [
       "⎡   0     -0.5⋅ⅈ⋅h̅⎤\n",
       "⎢                 ⎥\n",
       "⎣0.5⋅ⅈ⋅h̅     0    ⎦"
      ]
     },
     "metadata": {},
     "output_type": "display_data"
    }
   ],
   "source": [
    "display('J2', J2_mat(j1), 'Jz', Jz_mat(j1), \n",
    "'J+', J_plus_mat(j1), 'J-', J_minus_mat(j1),\n",
    "'Jx', Jx_mat(j1), 'Jy', Jy_mat(j1))"
   ]
  },
  {
   "cell_type": "markdown",
   "metadata": {},
   "source": [
    "## Eigenvalues and Eigenvectors\n",
    "$ \\left[ \\,\\left( \\ eigenvalue, \\  degeneracy, \\  \\left[ \\, eigenvectors \\ \\right] \\,\\right) \\,\\right] $"
   ]
  },
  {
   "cell_type": "code",
   "execution_count": 6,
   "metadata": {},
   "outputs": [
    {
     "data": {
      "text/plain": [
       "'J2'"
      ]
     },
     "metadata": {},
     "output_type": "display_data"
    },
    {
     "data": {
      "text/latex": [
       "$\\displaystyle \\left[ \\left( 0.75 \\hbar^{2}, \\  2, \\  \\left[ \\left[\\begin{matrix}1.0\\\\0\\end{matrix}\\right], \\  \\left[\\begin{matrix}0\\\\1.0\\end{matrix}\\right]\\right]\\right)\\right]$"
      ],
      "text/plain": [
       "⎡⎛      2     ⎡⎡1.0⎤  ⎡ 0 ⎤⎤⎞⎤\n",
       "⎢⎜0.75⋅h̅ , 2, ⎢⎢   ⎥, ⎢   ⎥⎥⎟⎥\n",
       "⎣⎝            ⎣⎣ 0 ⎦  ⎣1.0⎦⎦⎠⎦"
      ]
     },
     "metadata": {},
     "output_type": "display_data"
    },
    {
     "data": {
      "text/plain": [
       "'Jz'"
      ]
     },
     "metadata": {},
     "output_type": "display_data"
    },
    {
     "data": {
      "text/latex": [
       "$\\displaystyle \\left[ \\left( - 0.5 \\hbar, \\  1, \\  \\left[ \\left[\\begin{matrix}1.0\\\\0\\end{matrix}\\right]\\right]\\right), \\  \\left( 0.5 \\hbar, \\  1, \\  \\left[ \\left[\\begin{matrix}0\\\\1.0\\end{matrix}\\right]\\right]\\right)\\right]$"
      ],
      "text/plain": [
       "⎡⎛           ⎡⎡1.0⎤⎤⎞  ⎛          ⎡⎡ 0 ⎤⎤⎞⎤\n",
       "⎢⎜-0.5⋅h̅, 1, ⎢⎢   ⎥⎥⎟, ⎜0.5⋅h̅, 1, ⎢⎢   ⎥⎥⎟⎥\n",
       "⎣⎝           ⎣⎣ 0 ⎦⎦⎠  ⎝          ⎣⎣1.0⎦⎦⎠⎦"
      ]
     },
     "metadata": {},
     "output_type": "display_data"
    },
    {
     "data": {
      "text/plain": [
       "'Jx'"
      ]
     },
     "metadata": {},
     "output_type": "display_data"
    },
    {
     "data": {
      "text/latex": [
       "$\\displaystyle \\left[ \\left( - 0.5 \\hbar, \\  1, \\  \\left[ \\left[\\begin{matrix}-1.0\\\\1.0\\end{matrix}\\right]\\right]\\right), \\  \\left( 0.5 \\hbar, \\  1, \\  \\left[ \\left[\\begin{matrix}1.0\\\\1.0\\end{matrix}\\right]\\right]\\right)\\right]$"
      ],
      "text/plain": [
       "⎡⎛           ⎡⎡-1.0⎤⎤⎞  ⎛          ⎡⎡1.0⎤⎤⎞⎤\n",
       "⎢⎜-0.5⋅h̅, 1, ⎢⎢    ⎥⎥⎟, ⎜0.5⋅h̅, 1, ⎢⎢   ⎥⎥⎟⎥\n",
       "⎣⎝           ⎣⎣1.0 ⎦⎦⎠  ⎝          ⎣⎣1.0⎦⎦⎠⎦"
      ]
     },
     "metadata": {},
     "output_type": "display_data"
    },
    {
     "data": {
      "text/plain": [
       "'Jy'"
      ]
     },
     "metadata": {},
     "output_type": "display_data"
    },
    {
     "data": {
      "text/latex": [
       "$\\displaystyle \\left[ \\left( - 0.5 \\hbar, \\  1, \\  \\left[ \\left[\\begin{matrix}1.0 i\\\\1.0\\end{matrix}\\right]\\right]\\right), \\  \\left( 0.5 \\hbar, \\  1, \\  \\left[ \\left[\\begin{matrix}- 1.0 i\\\\1.0\\end{matrix}\\right]\\right]\\right)\\right]$"
      ],
      "text/plain": [
       "⎡⎛           ⎡⎡1.0⋅ⅈ⎤⎤⎞  ⎛          ⎡⎡-1.0⋅ⅈ⎤⎤⎞⎤\n",
       "⎢⎜-0.5⋅h̅, 1, ⎢⎢     ⎥⎥⎟, ⎜0.5⋅h̅, 1, ⎢⎢      ⎥⎥⎟⎥\n",
       "⎣⎝           ⎣⎣ 1.0 ⎦⎦⎠  ⎝          ⎣⎣ 1.0  ⎦⎦⎠⎦"
      ]
     },
     "metadata": {},
     "output_type": "display_data"
    }
   ],
   "source": [
    "display('J2', J2_mat(j1).eigenvects(), 'Jz', Jz_mat(j1).eigenvects(),\n",
    "'Jx', Jx_mat(j1).eigenvects(), 'Jy', Jy_mat(j1).eigenvects(),\n",
    "# 'J+', J_plus_mat(j1).eigenvects(), 'J-', J_minus_mat(j1).eigenvects()\n",
    ")"
   ]
  },
  {
   "cell_type": "code",
   "execution_count": null,
   "metadata": {},
   "outputs": [],
   "source": []
  },
  {
   "cell_type": "code",
   "execution_count": null,
   "metadata": {},
   "outputs": [],
   "source": []
  }
 ],
 "metadata": {
  "kernelspec": {
   "display_name": "Python 3 (ipykernel)",
   "language": "python",
   "name": "python3"
  },
  "language_info": {
   "codemirror_mode": {
    "name": "ipython",
    "version": 3
   },
   "file_extension": ".py",
   "mimetype": "text/x-python",
   "name": "python",
   "nbconvert_exporter": "python",
   "pygments_lexer": "ipython3",
   "version": "3.9.13"
  }
 },
 "nbformat": 4,
 "nbformat_minor": 2
}
