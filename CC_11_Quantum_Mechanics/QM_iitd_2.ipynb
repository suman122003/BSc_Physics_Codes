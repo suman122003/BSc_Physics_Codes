{
 "cells": [
  {
   "cell_type": "markdown",
   "metadata": {},
   "source": [
    "NPTEL - Quantum Mechanics and Applications\n",
    "\n",
    "Ajoy Ghatak\n",
    "\n",
    "IIT Delhi"
   ]
  },
  {
   "cell_type": "markdown",
   "metadata": {},
   "source": [
    "Codes for following topics are given here:\n",
    "* Harmonic Oscillator\n",
    "* Spherical Harmonics"
   ]
  },
  {
   "cell_type": "markdown",
   "metadata": {},
   "source": [
    "# Bra-Ket Algebra"
   ]
  },
  {
   "cell_type": "code",
   "execution_count": 1,
   "metadata": {},
   "outputs": [],
   "source": [
    "import numpy as np\n",
    "import matplotlib.pyplot as plt\n",
    "\n",
    "import sympy as sp\n",
    "sp.init_printing(use_unicode=True)"
   ]
  },
  {
   "cell_type": "code",
   "execution_count": 2,
   "metadata": {},
   "outputs": [],
   "source": [
    "hcut, w = sp.symbols('hbar omega')"
   ]
  },
  {
   "cell_type": "markdown",
   "metadata": {},
   "source": [
    "## Harmonic Oscillator"
   ]
  },
  {
   "cell_type": "markdown",
   "metadata": {},
   "source": [
    "Lecture 28\n",
    "\n",
    "For Harmonic Oscillator:\n",
    "\n",
    "- $E_n \\quad \\implies \\quad$  **`Enosc_n(n)`**\n",
    "\n",
    "- $<m|H|n> \\quad \\implies \\quad$  **`m_H_osc_n(m, n)`**\n",
    "\n",
    "- $H$ matrix $ (N \\times N) \\quad \\implies \\quad$ **`H_osc(N)`**"
   ]
  },
  {
   "cell_type": "code",
   "execution_count": 3,
   "metadata": {},
   "outputs": [
    {
     "data": {
      "image/png": "[encoded data removed]",
      "text/latex": [
       "$\\displaystyle 3.5 \\hbar \\omega$"
      ],
      "text/plain": [
       "3.5⋅h̅⋅ω"
      ]
     },
     "metadata": {},
     "output_type": "display_data"
    },
    {
     "data": {
      "image/png": "[encoded data removed]",
      "text/latex": [
       "$\\displaystyle 2.5 \\hbar \\omega$"
      ],
      "text/plain": [
       "2.5⋅h̅⋅ω"
      ]
     },
     "metadata": {},
     "output_type": "display_data"
    },
    {
     "data": {
      "image/png": "[encoded data removed]",
      "text/latex": [
       "$\\displaystyle 0$"
      ],
      "text/plain": [
       "0"
      ]
     },
     "metadata": {},
     "output_type": "display_data"
    },
    {
     "data": {
      "text/latex": [
       "$\\displaystyle \\left[\\begin{matrix}0.5 \\hbar \\omega & 0 & 0 & 0\\\\0 & 1.5 \\hbar \\omega & 0 & 0\\\\0 & 0 & 2.5 \\hbar \\omega & 0\\\\0 & 0 & 0 & 3.5 \\hbar \\omega\\end{matrix}\\right]$"
      ],
      "text/plain": [
       "⎡0.5⋅h̅⋅ω     0        0        0   ⎤\n",
       "⎢                                  ⎥\n",
       "⎢   0     1.5⋅h̅⋅ω     0        0   ⎥\n",
       "⎢                                  ⎥\n",
       "⎢   0        0     2.5⋅h̅⋅ω     0   ⎥\n",
       "⎢                                  ⎥\n",
       "⎣   0        0        0     3.5⋅h̅⋅ω⎦"
      ]
     },
     "metadata": {},
     "output_type": "display_data"
    },
    {
     "data": {
      "text/latex": [
       "$\\displaystyle \\left[ \\left( 0.5 \\hbar \\omega, \\  1, \\  \\left[ \\left[\\begin{matrix}1.0\\\\0\\\\0\\\\0\\end{matrix}\\right]\\right]\\right), \\  \\left( 1.5 \\hbar \\omega, \\  1, \\  \\left[ \\left[\\begin{matrix}0\\\\1.0\\\\0\\\\0\\end{matrix}\\right]\\right]\\right), \\  \\left( 2.5 \\hbar \\omega, \\  1, \\  \\left[ \\left[\\begin{matrix}0\\\\0\\\\1.0\\\\0\\end{matrix}\\right]\\right]\\right), \\  \\left( 3.5 \\hbar \\omega, \\  1, \\  \\left[ \\left[\\begin{matrix}0\\\\0\\\\0\\\\1.0\\end{matrix}\\right]\\right]\\right)\\right]$"
      ],
      "text/plain": [
       "⎡⎛            ⎡⎡1.0⎤⎤⎞  ⎛            ⎡⎡ 0 ⎤⎤⎞  ⎛            ⎡⎡ 0 ⎤⎤⎞  ⎛       \n",
       "⎢⎜            ⎢⎢   ⎥⎥⎟  ⎜            ⎢⎢   ⎥⎥⎟  ⎜            ⎢⎢   ⎥⎥⎟  ⎜       \n",
       "⎢⎜            ⎢⎢ 0 ⎥⎥⎟  ⎜            ⎢⎢1.0⎥⎥⎟  ⎜            ⎢⎢ 0 ⎥⎥⎟  ⎜       \n",
       "⎢⎜0.5⋅h̅⋅ω, 1, ⎢⎢   ⎥⎥⎟, ⎜1.5⋅h̅⋅ω, 1, ⎢⎢   ⎥⎥⎟, ⎜2.5⋅h̅⋅ω, 1, ⎢⎢   ⎥⎥⎟, ⎜3.5⋅\n",
       "⎢⎜            ⎢⎢ 0 ⎥⎥⎟  ⎜            ⎢⎢ 0 ⎥⎥⎟  ⎜            ⎢⎢1.0⎥⎥⎟  ⎜       \n",
       "⎢⎜            ⎢⎢   ⎥⎥⎟  ⎜            ⎢⎢   ⎥⎥⎟  ⎜            ⎢⎢   ⎥⎥⎟  ⎜       \n",
       "⎣⎝            ⎣⎣ 0 ⎦⎦⎠  ⎝            ⎣⎣ 0 ⎦⎦⎠  ⎝            ⎣⎣ 0 ⎦⎦⎠  ⎝       \n",
       "\n",
       "     ⎡⎡ 0 ⎤⎤⎞⎤\n",
       "     ⎢⎢   ⎥⎥⎟⎥\n",
       "     ⎢⎢ 0 ⎥⎥⎟⎥\n",
       "h̅⋅ω, 1, ⎢⎢   ⎥⎥⎟⎥\n",
       "     ⎢⎢ 0 ⎥⎥⎟⎥\n",
       "     ⎢⎢   ⎥⎥⎟⎥\n",
       "     ⎣⎣1.0⎦⎦⎠⎦"
      ]
     },
     "metadata": {},
     "output_type": "display_data"
    }
   ],
   "source": [
    "Enosc_n = lambda n: (n + 1/2) *hcut*w\n",
    "\n",
    "def m_H_osc_n(m, n):\n",
    "    if m==n:\n",
    "        return Enosc_n(m)\n",
    "    else:\n",
    "        return 0\n",
    "\n",
    "H_osc = lambda N: sp.Matrix(N, N, m_H_osc_n)\n",
    "display(Enosc_n(3), m_H_osc_n(2,2), m_H_osc_n(2,3), H_osc(4),\n",
    "        H_osc(4).eigenvects())"
   ]
  },
  {
   "cell_type": "code",
   "execution_count": null,
   "metadata": {},
   "outputs": [],
   "source": []
  },
  {
   "cell_type": "markdown",
   "metadata": {},
   "source": [
    "# Spherical Harmonics\n",
    "$$ Y_n^m(\\theta, \\varphi) = \\sqrt{\\frac{(2n+1)(n-m)!}{4\\pi(n+m)!}} \\,\n",
    "            \\exp(i m \\varphi) \\, \\mathrm{P}_n^m\\left(\\cos(\\theta)\\right) $$"
   ]
  },
  {
   "cell_type": "code",
   "execution_count": 4,
   "metadata": {},
   "outputs": [],
   "source": [
    "theta, phi = sp.symbols('theta phi', positive=True)"
   ]
  },
  {
   "cell_type": "code",
   "execution_count": 5,
   "metadata": {},
   "outputs": [
    {
     "data": {
      "image/png": "[encoded data removed]",
      "text/latex": [
       "$\\displaystyle Y_{2}^{1}\\left(\\theta,\\phi\\right) = - \\frac{\\sqrt{30} e^{i \\phi} \\sin{\\left(\\theta \\right)} \\cos{\\left(\\theta \\right)}}{4 \\sqrt{\\pi}}$"
      ],
      "text/plain": [
       "                        ⅈ⋅φ               \n",
       "                  -√30⋅ℯ   ⋅sin(θ)⋅cos(θ) \n",
       "Ynm(2, 1, θ, φ) = ────────────────────────\n",
       "                            4⋅√π          "
      ]
     },
     "metadata": {},
     "output_type": "display_data"
    }
   ],
   "source": [
    "l, m = 2, 1  # input\n",
    "display(sp.Eq(sp.Ynm(l,m,theta,phi),\n",
    "        sp.Ynm(l, m, theta, phi).expand(func=True)))"
   ]
  },
  {
   "cell_type": "markdown",
   "metadata": {},
   "source": [
    "$$ \\overline{Y_n^m(\\theta, \\varphi)} := (-1)^m Y_n^{-m}(\\theta, \\varphi) $$"
   ]
  },
  {
   "cell_type": "code",
   "execution_count": 6,
   "metadata": {},
   "outputs": [
    {
     "data": {
      "text/plain": [
       "<function sympy.functions.special.spherical_harmonics.Ynm_c(n, m, theta, phi)>"
      ]
     },
     "execution_count": 6,
     "metadata": {},
     "output_type": "execute_result"
    }
   ],
   "source": [
    "sp.Ynm_c"
   ]
  },
  {
   "cell_type": "code",
   "execution_count": null,
   "metadata": {},
   "outputs": [],
   "source": []
  },
  {
   "cell_type": "code",
   "execution_count": null,
   "metadata": {},
   "outputs": [],
   "source": []
  },
  {
   "cell_type": "code",
   "execution_count": null,
   "metadata": {},
   "outputs": [],
   "source": []
  }
 ],
 "metadata": {
  "kernelspec": {
   "display_name": "Python 3 (ipykernel)",
   "language": "python",
   "name": "python3"
  },
  "language_info": {
   "codemirror_mode": {
    "name": "ipython",
    "version": 3
   },
   "file_extension": ".py",
   "mimetype": "text/x-python",
   "name": "python",
   "nbconvert_exporter": "python",
   "pygments_lexer": "ipython3",
   "version": "3.9.13"
  }
 },
 "nbformat": 4,
 "nbformat_minor": 2
}
