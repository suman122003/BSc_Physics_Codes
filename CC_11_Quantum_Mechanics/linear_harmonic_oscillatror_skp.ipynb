{
 "cells": [
  {
   "cell_type": "markdown",
   "metadata": {},
   "source": [
    "# Linear Harmoic Oscillator - SKP"
   ]
  },
  {
   "cell_type": "code",
   "execution_count": 1,
   "metadata": {},
   "outputs": [],
   "source": [
    "import numpy as np\n"
   ]
  },
  {
   "cell_type": "code",
   "execution_count": 2,
   "metadata": {},
   "outputs": [],
   "source": [
    "import sympy as sp"
   ]
  },
  {
   "cell_type": "code",
   "execution_count": null,
   "metadata": {},
   "outputs": [],
   "source": [
    "# add codes from 'QM1d_analysis_SKP.ipynb'"
   ]
  },
  {
   "cell_type": "code",
   "execution_count": null,
   "metadata": {},
   "outputs": [],
   "source": []
  },
  {
   "cell_type": "code",
   "execution_count": null,
   "metadata": {},
   "outputs": [],
   "source": []
  },
  {
   "cell_type": "markdown",
   "metadata": {},
   "source": [
    "## Degeneracy and arrangement of states\n",
    "Here a code is given which calcualtes the energy levels and corresponding quantum numbers of 3D harmonic oscillator (isotropic and anisotropic)."
   ]
  },
  {
   "cell_type": "code",
   "execution_count": 12,
   "metadata": {},
   "outputs": [],
   "source": [
    "n1, n2, n3 = sp.symbols('n_1 n_2 n_3', real=True, negative=False)\n",
    "hcut = sp.Symbol('hbar')\n",
    "w1, w2, w3 = sp.symbols('omega_1 omega_2 omega_3', real=True)\n",
    "En123 = (n1 +sp.Rational(1,2))*hcut*w1 +(n2 +sp.Rational(1,2))*hcut*w2 +(n3 +sp.Rational(1,2))*hcut*w3"
   ]
  },
  {
   "cell_type": "code",
   "execution_count": 19,
   "metadata": {},
   "outputs": [
    {
     "data": {
      "text/latex": [
       "$\\displaystyle \\frac{19 \\hbar}{2}$"
      ],
      "text/plain": [
       "19*hbar/2"
      ]
     },
     "execution_count": 19,
     "metadata": {},
     "output_type": "execute_result"
    }
   ],
   "source": [
    "En123.subs([(n1,1),(n2,2),(n3,5), (w1,1),(w2,1),(w3,1)])"
   ]
  },
  {
   "cell_type": "code",
   "execution_count": 46,
   "metadata": {},
   "outputs": [],
   "source": [
    "Ens = []\n",
    "ns = []\n",
    "Ensval = []\n",
    "n1max, n2max, n3max = 10, 10, 10         # INPUT\n",
    "w1val, w2val, w3val = 1, 1, 1         # INPUT\n",
    "for n1s in range(n1max+1):\n",
    "    for n2s in range(n2max+1):\n",
    "        for n3s in range(n3max+1):\n",
    "            ns.append(n1s), ns.append(n2s), ns.append(n3s)\n",
    "            ens = En123.subs([(n1,n1s),(n2,n2s),(n3,n3s), (w1,w1val),(w2,w2val),(w3,w3val)])\n",
    "            Ens.append(ens)\n",
    "            ensval = En123.subs([(n1,n1s),(n2,n2s),(n3,n3s), (w1,w1val),(w2,w2val),(w3,w3val),(hcut,1)])\n",
    "            Ensval.append(ensval)\n",
    "Ens = sp.Array(Ens)\n",
    "Ensarr = np.array(Ensval)\n",
    "nsarr = np.array(ns).reshape((Ensarr.size,3))\n",
    "Enarr = np.concatenate((Ensarr.reshape((-1,1)),nsarr), axis=1)\n",
    "# Ensarr.sort()\n",
    "# Enarren = Enarr[:,0]\n",
    "sorted_indices = np.argsort(Ensarr)\n",
    "Enarr = Enarr[sorted_indices]"
   ]
  },
  {
   "cell_type": "code",
   "execution_count": 47,
   "metadata": {},
   "outputs": [
    {
     "data": {
      "text/latex": [
       "$\\displaystyle \\frac{5 \\hbar}{2}$"
      ],
      "text/plain": [
       "5*hbar/2"
      ]
     },
     "metadata": {},
     "output_type": "display_data"
    },
    {
     "data": {
      "text/plain": [
       "array([3/2, 5/2, 7/2, ..., 59/2, 61/2, 63/2], dtype=object)"
      ]
     },
     "metadata": {},
     "output_type": "display_data"
    },
    {
     "data": {
      "text/plain": [
       "(1331,)"
      ]
     },
     "metadata": {},
     "output_type": "display_data"
    },
    {
     "data": {
      "text/plain": [
       "(1331, 3)"
      ]
     },
     "metadata": {},
     "output_type": "display_data"
    },
    {
     "data": {
      "text/plain": [
       "array([[ 0,  0,  0],\n",
       "       [ 0,  0,  1],\n",
       "       [ 0,  0,  2],\n",
       "       ...,\n",
       "       [10, 10,  8],\n",
       "       [10, 10,  9],\n",
       "       [10, 10, 10]])"
      ]
     },
     "metadata": {},
     "output_type": "display_data"
    },
    {
     "data": {
      "text/plain": [
       "array([[3/2, 0, 0, 0],\n",
       "       [5/2, 0, 0, 1],\n",
       "       [5/2, 0, 1, 0],\n",
       "       ...,\n",
       "       [61/2, 10, 10, 9],\n",
       "       [61/2, 9, 10, 10],\n",
       "       [63/2, 10, 10, 10]], dtype=object)"
      ]
     },
     "metadata": {},
     "output_type": "display_data"
    }
   ],
   "source": [
    "display(Ens[1], Ensarr, Ensarr.shape, nsarr.shape, nsarr, Enarr)"
   ]
  },
  {
   "cell_type": "code",
   "execution_count": 73,
   "metadata": {},
   "outputs": [
    {
     "name": "stdout",
     "output_type": "stream",
     "text": [
      "E = 11/2;\t n1=1, n2=1, n3=2\n",
      "E = 11/2;\t n1=1, n2=2, n3=1\n",
      "E = 11/2;\t n1=2, n2=1, n3=1\n",
      "E = 11/2;\t n1=0, n2=4, n3=0\n",
      "E = 11/2;\t n1=1, n2=3, n3=0\n",
      "E = 11/2;\t n1=2, n2=2, n3=0\n",
      "E = 11/2;\t n1=2, n2=0, n3=2\n",
      "E = 11/2;\t n1=0, n2=3, n3=1\n",
      "E = 11/2;\t n1=3, n2=0, n3=1\n",
      "E = 11/2;\t n1=4, n2=0, n3=0\n",
      "E = 11/2;\t n1=0, n2=2, n3=2\n",
      "E = 11/2;\t n1=0, n2=0, n3=4\n",
      "E = 11/2;\t n1=3, n2=1, n3=0\n",
      "E = 11/2;\t n1=0, n2=1, n3=3\n",
      "E = 11/2;\t n1=1, n2=0, n3=3\n"
     ]
    }
   ],
   "source": [
    "E_val = 5.5   # INPUT\n",
    "matching_indices = np.where(Enarr[:,0]==E_val)[0]\n",
    "if matching_indices.size > 0:\n",
    "    Enrows = Enarr[matching_indices]\n",
    "    # display(Enrows)\n",
    "    for i in range(matching_indices.size):\n",
    "        print(f'E = {Enrows[i][0]};\\t n1={Enrows[i][1]}, n2={Enrows[i][2]}, n3={Enrows[i][3]}')\n",
    "else:\n",
    "    print(f'None of the states has energy = {E_val}.')"
   ]
  },
  {
   "cell_type": "code",
   "execution_count": null,
   "metadata": {},
   "outputs": [],
   "source": []
  },
  {
   "cell_type": "code",
   "execution_count": null,
   "metadata": {},
   "outputs": [],
   "source": []
  },
  {
   "cell_type": "code",
   "execution_count": null,
   "metadata": {},
   "outputs": [],
   "source": []
  }
 ],
 "metadata": {
  "kernelspec": {
   "display_name": "base",
   "language": "python",
   "name": "python3"
  },
  "language_info": {
   "codemirror_mode": {
    "name": "ipython",
    "version": 3
   },
   "file_extension": ".py",
   "mimetype": "text/x-python",
   "name": "python",
   "nbconvert_exporter": "python",
   "pygments_lexer": "ipython3",
   "version": "3.9.13"
  }
 },
 "nbformat": 4,
 "nbformat_minor": 2
}
