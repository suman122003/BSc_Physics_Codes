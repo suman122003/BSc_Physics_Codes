{
 "cells": [
  {
   "cell_type": "markdown",
   "metadata": {},
   "source": [
    "# Quantum Mechanics in QuTip"
   ]
  },
  {
   "cell_type": "code",
   "execution_count": 36,
   "metadata": {},
   "outputs": [],
   "source": [
    "import numpy as np\n",
    "import matplotlib.pyplot as plt\n",
    "# from scipy.linalg import eigh, eigh_tridiagonal\n",
    "from scipy.integrate import simps\n",
    "%matplotlib inline"
   ]
  },
  {
   "cell_type": "code",
   "execution_count": 37,
   "metadata": {},
   "outputs": [],
   "source": [
    "import qutip as qp"
   ]
  },
  {
   "cell_type": "markdown",
   "metadata": {},
   "source": [
    "## Schrodinger equation"
   ]
  },
  {
   "cell_type": "markdown",
   "metadata": {},
   "source": [
    "In 1D:\n",
    "$$ -\\frac{\\hbar^2}{2m} \\frac{d^2\\psi}{dx^2} + V(x)\\psi(x) = E \\psi(x) $$"
   ]
  },
  {
   "cell_type": "code",
   "execution_count": 38,
   "metadata": {},
   "outputs": [],
   "source": [
    "hcut = 1\n",
    "mass = 1  # INPUT"
   ]
  },
  {
   "cell_type": "markdown",
   "metadata": {},
   "source": [
    "Potential"
   ]
  },
  {
   "cell_type": "code",
   "execution_count": 39,
   "metadata": {},
   "outputs": [],
   "source": [
    "L = 10\n",
    "x_min, x_max = -L, L\n",
    "N = 100  # INPUT no. of grid points\n",
    "x = np.linspace(x_min, x_max, N) # x axis\n",
    "\n",
    "# potential\n",
    "def potential1d(x, omega):\n",
    "    return 0.5*mass*(omega**2)* x**2\n",
    "\n",
    "omega1 = 1 # INPUT\n",
    "Vx = potential1d(x=x, omega=omega1)"
   ]
  },
  {
   "cell_type": "markdown",
   "metadata": {},
   "source": [
    "Solution"
   ]
  },
  {
   "cell_type": "code",
   "execution_count": 40,
   "metadata": {},
   "outputs": [
    {
     "data": {
      "text/latex": [
       "Quantum object: dims = [[100], [100]], shape = (100, 100), type = oper, isherm = True $ \\\\ \\left(\\begin{matrix}74.502 & -12.251 & 0.0 & 0.0 & 0.0 & \\cdots & 0.0 & 0.0 & 0.0 & 0.0 & 0.0\\\\-12.251 & 72.503 & -12.251 & 0.0 & 0.0 & \\cdots & 0.0 & 0.0 & 0.0 & 0.0 & 0.0\\\\0.0 & -12.251 & 70.544 & -12.251 & 0.0 & \\cdots & 0.0 & 0.0 & 0.0 & 0.0 & 0.0\\\\0.0 & 0.0 & -12.251 & 68.626 & -12.251 & \\cdots & 0.0 & 0.0 & 0.0 & 0.0 & 0.0\\\\0.0 & 0.0 & 0.0 & -12.251 & 66.748 & \\cdots & 0.0 & 0.0 & 0.0 & 0.0 & 0.0\\\\\\vdots & \\vdots & \\vdots & \\vdots & \\vdots & \\ddots & \\vdots & \\vdots & \\vdots & \\vdots & \\vdots\\\\0.0 & 0.0 & 0.0 & 0.0 & 0.0 & \\cdots & 66.748 & -12.251 & 0.0 & 0.0 & 0.0\\\\0.0 & 0.0 & 0.0 & 0.0 & 0.0 & \\cdots & -12.251 & 68.626 & -12.251 & 0.0 & 0.0\\\\0.0 & 0.0 & 0.0 & 0.0 & 0.0 & \\cdots & 0.0 & -12.251 & 70.544 & -12.251 & 0.0\\\\0.0 & 0.0 & 0.0 & 0.0 & 0.0 & \\cdots & 0.0 & 0.0 & -12.251 & 72.503 & -12.251\\\\0.0 & 0.0 & 0.0 & 0.0 & 0.0 & \\cdots & 0.0 & 0.0 & 0.0 & -12.251 & 74.502\\\\\\end{matrix}\\right)$"
      ],
      "text/plain": [
       "Quantum object: dims = [[100], [100]], shape = (100, 100), type = oper, isherm = True\n",
       "Qobj data =\n",
       "[[ 74.5025     -12.25125      0.         ...   0.           0.\n",
       "    0.        ]\n",
       " [-12.25125     72.50270406 -12.25125    ...   0.           0.\n",
       "    0.        ]\n",
       " [  0.         -12.25125     70.54372028 ...   0.           0.\n",
       "    0.        ]\n",
       " ...\n",
       " [  0.           0.           0.         ...  70.54372028 -12.25125\n",
       "    0.        ]\n",
       " [  0.           0.           0.         ... -12.25125     72.50270406\n",
       "  -12.25125   ]\n",
       " [  0.           0.           0.         ...   0.         -12.25125\n",
       "   74.5025    ]]"
      ]
     },
     "metadata": {},
     "output_type": "display_data"
    }
   ],
   "source": [
    "dx = x[1] - x[0]\n",
    "T = (-hcut**2/(2*mass)) * (np.diag(-2/dx**2 * np.ones(N))\n",
    "                        + np.diag(1/dx**2 * np.ones(N-1), 1)\n",
    "                        + np.diag(1/dx**2 * np.ones(N-1), -1))\n",
    "H = T + np.diag(Vx*np.ones(N))\n",
    "\n",
    "H_oper =  qp.Qobj(H)\n",
    "display(H_oper)\n",
    "H_states = H_oper.eigenstates()\n",
    "H_values = H_oper.eigenenergies()\n",
    "\n",
    "def H_eigenvalue(n):\n",
    "    # return H_values[n] # alternative\n",
    "    return np.array(H_states)[:,n][0]\n",
    "def H_eigenket(n):\n",
    "    return np.array(H_states)[:,n][1]\n",
    "def H_eigenket_arr(n):\n",
    "    return np.array(H_eigenket(n)).T[0]"
   ]
  },
  {
   "cell_type": "code",
   "execution_count": 45,
   "metadata": {},
   "outputs": [
    {
     "data": {
      "text/latex": [
       "Quantum object: dims = [[100], [1]], shape = (100, 1), type = ket $ \\\\ \\left(\\begin{matrix}0.0\\\\0.0\\\\0.0\\\\0.0\\\\0.0\\\\\\vdots\\\\0.0\\\\0.0\\\\0.0\\\\0.0\\\\0.0\\\\\\end{matrix}\\right)$"
      ],
      "text/plain": [
       "Quantum object: dims = [[100], [1]], shape = (100, 1), type = ket\n",
       "Qobj data =\n",
       "[[ 0.00000000e+00]\n",
       " [ 0.00000000e+00]\n",
       " [ 0.00000000e+00]\n",
       " [ 0.00000000e+00]\n",
       " [ 0.00000000e+00]\n",
       " [ 0.00000000e+00]\n",
       " [ 0.00000000e+00]\n",
       " [ 1.98156673e-12]\n",
       " [ 8.60702929e-12]\n",
       " [ 3.61144026e-11]\n",
       " [ 1.46308021e-10]\n",
       " [ 5.71987622e-10]\n",
       " [ 2.15673969e-09]\n",
       " [ 7.83887925e-09]\n",
       " [ 2.74471752e-08]\n",
       " [ 9.25251170e-08]\n",
       " [ 3.00094477e-07]\n",
       " [ 9.35828610e-07]\n",
       " [ 2.80389445e-06]\n",
       " [ 8.06532968e-06]\n",
       " [ 2.22548036e-05]\n",
       " [ 5.88554696e-05]\n",
       " [ 1.49039361e-04]\n",
       " [ 3.61010030e-04]\n",
       " [ 8.35507519e-04]\n",
       " [ 1.84522111e-03]\n",
       " [ 3.88328819e-03]\n",
       " [ 7.77506627e-03]\n",
       " [ 1.47826005e-02]\n",
       " [ 2.66306837e-02]\n",
       " [ 4.53359687e-02]\n",
       " [ 7.26944039e-02]\n",
       " [ 1.09326695e-01]\n",
       " [ 1.53350609e-01]\n",
       " [ 1.99058144e-01]\n",
       " [ 2.36341270e-01]\n",
       " [ 2.51812385e-01]\n",
       " [ 2.32299701e-01]\n",
       " [ 1.70454002e-01]\n",
       " [ 7.07317774e-02]\n",
       " [-4.72996213e-02]\n",
       " [-1.51511668e-01]\n",
       " [-2.06914592e-01]\n",
       " [-1.90146175e-01]\n",
       " [-1.02621212e-01]\n",
       " [ 2.51419584e-02]\n",
       " [ 1.42628089e-01]\n",
       " [ 1.99912961e-01]\n",
       " [ 1.70819568e-01]\n",
       " [ 6.67804745e-02]\n",
       " [-6.67804745e-02]\n",
       " [-1.70819568e-01]\n",
       " [-1.99912961e-01]\n",
       " [-1.42628089e-01]\n",
       " [-2.51419584e-02]\n",
       " [ 1.02621212e-01]\n",
       " [ 1.90146175e-01]\n",
       " [ 2.06914592e-01]\n",
       " [ 1.51511668e-01]\n",
       " [ 4.72996213e-02]\n",
       " [-7.07317774e-02]\n",
       " [-1.70454002e-01]\n",
       " [-2.32299701e-01]\n",
       " [-2.51812385e-01]\n",
       " [-2.36341270e-01]\n",
       " [-1.99058144e-01]\n",
       " [-1.53350609e-01]\n",
       " [-1.09326695e-01]\n",
       " [-7.26944039e-02]\n",
       " [-4.53359687e-02]\n",
       " [-2.66306837e-02]\n",
       " [-1.47826005e-02]\n",
       " [-7.77506627e-03]\n",
       " [-3.88328819e-03]\n",
       " [-1.84522111e-03]\n",
       " [-8.35507519e-04]\n",
       " [-3.61010030e-04]\n",
       " [-1.49039361e-04]\n",
       " [-5.88554696e-05]\n",
       " [-2.22548036e-05]\n",
       " [-8.06532968e-06]\n",
       " [-2.80389445e-06]\n",
       " [-9.35828610e-07]\n",
       " [-3.00094477e-07]\n",
       " [-9.25251170e-08]\n",
       " [-2.74471752e-08]\n",
       " [-7.83887925e-09]\n",
       " [-2.15673969e-09]\n",
       " [-5.71987622e-10]\n",
       " [-1.46308021e-10]\n",
       " [-3.61144026e-11]\n",
       " [-8.60702929e-12]\n",
       " [-1.98156673e-12]\n",
       " [ 0.00000000e+00]\n",
       " [ 0.00000000e+00]\n",
       " [ 0.00000000e+00]\n",
       " [ 0.00000000e+00]\n",
       " [ 0.00000000e+00]\n",
       " [ 0.00000000e+00]\n",
       " [ 0.00000000e+00]]"
      ]
     },
     "metadata": {},
     "output_type": "display_data"
    }
   ],
   "source": [
    "display(H_eigenket(5))"
   ]
  },
  {
   "cell_type": "code",
   "execution_count": 41,
   "metadata": {},
   "outputs": [
    {
     "data": {
      "text/latex": [
       "Quantum object: dims = [[1], [1]], shape = (1, 1), type = bra $ \\\\ \\left(\\begin{matrix}13.941\\\\\\end{matrix}\\right)$"
      ],
      "text/plain": [
       "Quantum object: dims = [[1], [1]], shape = (1, 1), type = bra\n",
       "Qobj data =\n",
       "[[13.94104418]]"
      ]
     },
     "metadata": {},
     "output_type": "display_data"
    },
    {
     "data": {
      "text/plain": [
       "13.941044180552927"
      ]
     },
     "metadata": {},
     "output_type": "display_data"
    }
   ],
   "source": [
    "display(H_eigenket(14).dag()*H_oper*H_eigenket(14), H_eigenvalue(14))"
   ]
  },
  {
   "cell_type": "code",
   "execution_count": null,
   "metadata": {},
   "outputs": [],
   "source": []
  },
  {
   "cell_type": "markdown",
   "metadata": {},
   "source": [
    "## Angular Momentum"
   ]
  },
  {
   "cell_type": "code",
   "execution_count": 42,
   "metadata": {},
   "outputs": [
    {
     "data": {
      "text/plain": [
       "'sigma_x'"
      ]
     },
     "metadata": {},
     "output_type": "display_data"
    },
    {
     "data": {
      "text/latex": [
       "Quantum object: dims = [[2], [2]], shape = (2, 2), type = oper, isherm = True $ \\\\ \\left(\\begin{matrix}0.0 & 1.0\\\\1.0 & 0.0\\\\\\end{matrix}\\right)$"
      ],
      "text/plain": [
       "Quantum object: dims = [[2], [2]], shape = (2, 2), type = oper, isherm = True\n",
       "Qobj data =\n",
       "[[0. 1.]\n",
       " [1. 0.]]"
      ]
     },
     "metadata": {},
     "output_type": "display_data"
    },
    {
     "data": {
      "text/plain": [
       "(array([-1.,  1.]),\n",
       " array([Quantum object: dims = [[2], [1]], shape = (2, 1), type = ket\n",
       "        Qobj data =\n",
       "        [[-0.70710678]\n",
       "         [ 0.70710678]]                                              ,\n",
       "        Quantum object: dims = [[2], [1]], shape = (2, 1), type = ket\n",
       "        Qobj data =\n",
       "        [[0.70710678]\n",
       "         [0.70710678]]                                               ],\n",
       "       dtype=object))"
      ]
     },
     "metadata": {},
     "output_type": "display_data"
    },
    {
     "data": {
      "text/plain": [
       "'sigma_y'"
      ]
     },
     "metadata": {},
     "output_type": "display_data"
    },
    {
     "data": {
      "text/latex": [
       "Quantum object: dims = [[2], [2]], shape = (2, 2), type = oper, isherm = True $ \\\\ \\left(\\begin{matrix}0.0 & -1.0j\\\\1.0j & 0.0\\\\\\end{matrix}\\right)$"
      ],
      "text/plain": [
       "Quantum object: dims = [[2], [2]], shape = (2, 2), type = oper, isherm = True\n",
       "Qobj data =\n",
       "[[0.+0.j 0.-1.j]\n",
       " [0.+1.j 0.+0.j]]"
      ]
     },
     "metadata": {},
     "output_type": "display_data"
    },
    {
     "data": {
      "text/plain": [
       "(array([-1.,  1.]),\n",
       " array([Quantum object: dims = [[2], [1]], shape = (2, 1), type = ket\n",
       "        Qobj data =\n",
       "        [[-0.70710678+0.j        ]\n",
       "         [ 0.        +0.70710678j]]                                  ,\n",
       "        Quantum object: dims = [[2], [1]], shape = (2, 1), type = ket\n",
       "        Qobj data =\n",
       "        [[-0.70710678+0.j        ]\n",
       "         [ 0.        -0.70710678j]]                                  ],\n",
       "       dtype=object))"
      ]
     },
     "metadata": {},
     "output_type": "display_data"
    },
    {
     "data": {
      "text/plain": [
       "'sigma_z'"
      ]
     },
     "metadata": {},
     "output_type": "display_data"
    },
    {
     "data": {
      "text/latex": [
       "Quantum object: dims = [[2], [2]], shape = (2, 2), type = oper, isherm = True $ \\\\ \\left(\\begin{matrix}1.0 & 0.0\\\\0.0 & -1.0\\\\\\end{matrix}\\right)$"
      ],
      "text/plain": [
       "Quantum object: dims = [[2], [2]], shape = (2, 2), type = oper, isherm = True\n",
       "Qobj data =\n",
       "[[ 1.  0.]\n",
       " [ 0. -1.]]"
      ]
     },
     "metadata": {},
     "output_type": "display_data"
    },
    {
     "data": {
      "text/plain": [
       "(array([-1.,  1.]),\n",
       " array([Quantum object: dims = [[2], [1]], shape = (2, 1), type = ket\n",
       "        Qobj data =\n",
       "        [[ 0.]\n",
       "         [-1.]]                                                      ,\n",
       "        Quantum object: dims = [[2], [1]], shape = (2, 1), type = ket\n",
       "        Qobj data =\n",
       "        [[-1.]\n",
       "         [ 0.]]                                                      ],\n",
       "       dtype=object))"
      ]
     },
     "metadata": {},
     "output_type": "display_data"
    }
   ],
   "source": [
    "display('sigma_x', qp.sigmax(), qp.sigmax().eigenstates())\n",
    "display('sigma_y', qp.sigmay(), qp.sigmay().eigenstates())\n",
    "display('sigma_z', qp.sigmaz(), qp.sigmaz().eigenstates())"
   ]
  },
  {
   "cell_type": "code",
   "execution_count": 49,
   "metadata": {},
   "outputs": [
    {
     "data": {
      "text/plain": [
       "'sigma_x'"
      ]
     },
     "metadata": {},
     "output_type": "display_data"
    },
    {
     "data": {
      "text/latex": [
       "Quantum object: dims = [[3], [3]], shape = (3, 3), type = oper, isherm = True $ \\\\ \\left(\\begin{matrix}0.0 & 0.707 & 0.0\\\\0.707 & 0.0 & 0.707\\\\0.0 & 0.707 & 0.0\\\\\\end{matrix}\\right)$"
      ],
      "text/plain": [
       "Quantum object: dims = [[3], [3]], shape = (3, 3), type = oper, isherm = True\n",
       "Qobj data =\n",
       "[[0.         0.70710678 0.        ]\n",
       " [0.70710678 0.         0.70710678]\n",
       " [0.         0.70710678 0.        ]]"
      ]
     },
     "metadata": {},
     "output_type": "display_data"
    },
    {
     "data": {
      "text/plain": [
       "-0.9999999999999984"
      ]
     },
     "metadata": {},
     "output_type": "display_data"
    },
    {
     "data": {
      "text/latex": [
       "Quantum object: dims = [[3], [1]], shape = (3, 1), type = ket $ \\\\ \\left(\\begin{matrix}0.500\\\\-0.707\\\\0.500\\\\\\end{matrix}\\right)$"
      ],
      "text/plain": [
       "Quantum object: dims = [[3], [1]], shape = (3, 1), type = ket\n",
       "Qobj data =\n",
       "[[ 0.5       ]\n",
       " [-0.70710678]\n",
       " [ 0.5       ]]"
      ]
     },
     "metadata": {},
     "output_type": "display_data"
    },
    {
     "data": {
      "text/plain": [
       "1.3322676295501878e-15"
      ]
     },
     "metadata": {},
     "output_type": "display_data"
    },
    {
     "data": {
      "text/latex": [
       "Quantum object: dims = [[3], [1]], shape = (3, 1), type = ket $ \\\\ \\left(\\begin{matrix}-0.707\\\\0.0\\\\0.707\\\\\\end{matrix}\\right)$"
      ],
      "text/plain": [
       "Quantum object: dims = [[3], [1]], shape = (3, 1), type = ket\n",
       "Qobj data =\n",
       "[[-0.70710678]\n",
       " [ 0.        ]\n",
       " [ 0.70710678]]"
      ]
     },
     "metadata": {},
     "output_type": "display_data"
    },
    {
     "data": {
      "text/plain": [
       "1.0"
      ]
     },
     "metadata": {},
     "output_type": "display_data"
    },
    {
     "data": {
      "text/latex": [
       "Quantum object: dims = [[3], [1]], shape = (3, 1), type = ket $ \\\\ \\left(\\begin{matrix}0.500\\\\0.707\\\\0.500\\\\\\end{matrix}\\right)$"
      ],
      "text/plain": [
       "Quantum object: dims = [[3], [1]], shape = (3, 1), type = ket\n",
       "Qobj data =\n",
       "[[0.5       ]\n",
       " [0.70710678]\n",
       " [0.5       ]]"
      ]
     },
     "metadata": {},
     "output_type": "display_data"
    }
   ],
   "source": [
    "sigx = qp.jmat(1, 'x')  # INPUT\n",
    "display('sigma_x', sigx)\n",
    "\n",
    "sigx_eigv = sigx.eigenstates()\n",
    "\n",
    "def sigx_eigenvalue(n):\n",
    "    return np.array(sigx_eigv)[:,n][0]\n",
    "def sigx_eigenket(n):\n",
    "    return np.array(sigx_eigv)[:,n][1]\n",
    "\n",
    "for i in range(3):  # INPUT\n",
    "    display(sigx_eigenvalue(i), sigx_eigenket(i))\n"
   ]
  },
  {
   "cell_type": "code",
   "execution_count": null,
   "metadata": {},
   "outputs": [],
   "source": []
  }
 ],
 "metadata": {
  "kernelspec": {
   "display_name": "Python 3",
   "language": "python",
   "name": "python3"
  },
  "language_info": {
   "codemirror_mode": {
    "name": "ipython",
    "version": 3
   },
   "file_extension": ".py",
   "mimetype": "text/x-python",
   "name": "python",
   "nbconvert_exporter": "python",
   "pygments_lexer": "ipython3",
   "version": "3.11.1"
  }
 },
 "nbformat": 4,
 "nbformat_minor": 2
}
