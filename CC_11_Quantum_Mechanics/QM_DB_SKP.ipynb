{
 "cells": [
  {
   "cell_type": "markdown",
   "metadata": {},
   "source": [
    "# CC 11 - Quantum Mechanics - DB sir"
   ]
  },
  {
   "cell_type": "markdown",
   "metadata": {},
   "source": [
    "## Description:\n",
    "* [L-S Coupling](#l-s-coupling) : Get the results of LS coupling.\n",
    "\n",
    "* [J-J Coupling](#j-j-coupling) : Get the results of JJ coupling.\n",
    "\n",
    "* [Anamolous Zeemann Effect](#anamolous-zeemann-effect) : Get energy levels.\n"
   ]
  },
  {
   "cell_type": "code",
   "execution_count": 23,
   "metadata": {},
   "outputs": [],
   "source": [
    "# notes"
   ]
  },
  {
   "cell_type": "code",
   "execution_count": null,
   "metadata": {},
   "outputs": [],
   "source": []
  },
  {
   "cell_type": "markdown",
   "metadata": {},
   "source": [
    "## Modules to import"
   ]
  },
  {
   "cell_type": "code",
   "execution_count": 24,
   "metadata": {},
   "outputs": [],
   "source": [
    "import numpy as np\n",
    "import matplotlib.pyplot as plt\n",
    "import pandas as pd\n"
   ]
  },
  {
   "cell_type": "code",
   "execution_count": 25,
   "metadata": {},
   "outputs": [],
   "source": [
    "import sympy as sp\n",
    "sp.init_printing(use_unicode=True)"
   ]
  },
  {
   "cell_type": "code",
   "execution_count": null,
   "metadata": {},
   "outputs": [],
   "source": []
  },
  {
   "cell_type": "markdown",
   "metadata": {},
   "source": [
    "## Linear Harmonic Oscillator"
   ]
  },
  {
   "cell_type": "code",
   "execution_count": null,
   "metadata": {},
   "outputs": [],
   "source": []
  },
  {
   "cell_type": "code",
   "execution_count": null,
   "metadata": {},
   "outputs": [],
   "source": []
  },
  {
   "cell_type": "markdown",
   "metadata": {},
   "source": [
    "## Hydrogen Atom Problem"
   ]
  },
  {
   "cell_type": "code",
   "execution_count": null,
   "metadata": {},
   "outputs": [],
   "source": []
  },
  {
   "cell_type": "code",
   "execution_count": null,
   "metadata": {},
   "outputs": [],
   "source": []
  },
  {
   "cell_type": "code",
   "execution_count": null,
   "metadata": {},
   "outputs": [],
   "source": []
  },
  {
   "cell_type": "code",
   "execution_count": null,
   "metadata": {},
   "outputs": [],
   "source": []
  },
  {
   "cell_type": "markdown",
   "metadata": {},
   "source": [
    "## Vector Atom Model"
   ]
  },
  {
   "cell_type": "code",
   "execution_count": null,
   "metadata": {},
   "outputs": [],
   "source": []
  },
  {
   "cell_type": "markdown",
   "metadata": {},
   "source": [
    "### L-S Coupling"
   ]
  },
  {
   "cell_type": "code",
   "execution_count": 26,
   "metadata": {},
   "outputs": [
    {
     "name": "stdout",
     "output_type": "stream",
     "text": [
      "l1=1, s1=0.5, \t l2=2, s2=0.5\n",
      "L = [1 2 3], \t S = [0. 1.] \n",
      "\n",
      "L=1, S=0.0, \t J = [1.]\n",
      "L=1, S=1.0, \t J = [0. 1. 2.]\n",
      "L=2, S=0.0, \t J = [2.]\n",
      "L=2, S=1.0, \t J = [1. 2. 3.]\n",
      "L=3, S=0.0, \t J = [3.]\n",
      "L=3, S=1.0, \t J = [2. 3. 4.]\n"
     ]
    },
    {
     "data": {
      "text/html": [
       "<div>\n",
       "<style scoped>\n",
       "    .dataframe tbody tr th:only-of-type {\n",
       "        vertical-align: middle;\n",
       "    }\n",
       "\n",
       "    .dataframe tbody tr th {\n",
       "        vertical-align: top;\n",
       "    }\n",
       "\n",
       "    .dataframe thead th {\n",
       "        text-align: right;\n",
       "    }\n",
       "</style>\n",
       "<table border=\"1\" class=\"dataframe\">\n",
       "  <thead>\n",
       "    <tr style=\"text-align: right;\">\n",
       "      <th></th>\n",
       "      <th>L</th>\n",
       "      <th>S</th>\n",
       "      <th>J</th>\n",
       "    </tr>\n",
       "  </thead>\n",
       "  <tbody>\n",
       "    <tr>\n",
       "      <th>0</th>\n",
       "      <td>1</td>\n",
       "      <td>0.0</td>\n",
       "      <td>[1.0]</td>\n",
       "    </tr>\n",
       "    <tr>\n",
       "      <th>1</th>\n",
       "      <td>1</td>\n",
       "      <td>1.0</td>\n",
       "      <td>[0.0, 1.0, 2.0]</td>\n",
       "    </tr>\n",
       "    <tr>\n",
       "      <th>2</th>\n",
       "      <td>2</td>\n",
       "      <td>0.0</td>\n",
       "      <td>[2.0]</td>\n",
       "    </tr>\n",
       "    <tr>\n",
       "      <th>3</th>\n",
       "      <td>2</td>\n",
       "      <td>1.0</td>\n",
       "      <td>[1.0, 2.0, 3.0]</td>\n",
       "    </tr>\n",
       "    <tr>\n",
       "      <th>4</th>\n",
       "      <td>3</td>\n",
       "      <td>0.0</td>\n",
       "      <td>[3.0]</td>\n",
       "    </tr>\n",
       "    <tr>\n",
       "      <th>5</th>\n",
       "      <td>3</td>\n",
       "      <td>1.0</td>\n",
       "      <td>[2.0, 3.0, 4.0]</td>\n",
       "    </tr>\n",
       "  </tbody>\n",
       "</table>\n",
       "</div>"
      ],
      "text/plain": [
       "   L    S                J\n",
       "0  1  0.0            [1.0]\n",
       "1  1  1.0  [0.0, 1.0, 2.0]\n",
       "2  2  0.0            [2.0]\n",
       "3  2  1.0  [1.0, 2.0, 3.0]\n",
       "4  3  0.0            [3.0]\n",
       "5  3  1.0  [2.0, 3.0, 4.0]"
      ]
     },
     "metadata": {},
     "output_type": "display_data"
    },
    {
     "data": {
      "text/plain": [
       "([array([1.]),\n",
       "  array([0., 1., 2.]),\n",
       "  array([2.]),\n",
       "  array([1., 2., 3.]),\n",
       "  array([3.]),\n",
       "  array([2., 3., 4.])],\n",
       "    L    S                J\n",
       " 0  1  0.0            [1.0]\n",
       " 1  1  1.0  [0.0, 1.0, 2.0]\n",
       " 2  2  0.0            [2.0]\n",
       " 3  2  1.0  [1.0, 2.0, 3.0]\n",
       " 4  3  0.0            [3.0]\n",
       " 5  3  1.0  [2.0, 3.0, 4.0])"
      ]
     },
     "execution_count": 26,
     "metadata": {},
     "output_type": "execute_result"
    }
   ],
   "source": [
    "L_LS_coupling = lambda l1,l2: np.arange(np.abs(l1-l2), l1+l2+1)\n",
    "S_LS_coupling = lambda s1,s2: np.arange(np.abs(s1-s2), s1+s2+1)\n",
    "\n",
    "def J_LS_coupling(l1,s1, l2,s2, print_TrueFalse=False, show_table=False):\n",
    "    L, S = L_LS_coupling(l1,l2), S_LS_coupling(s1,s2)\n",
    "    Ls_list, Ss_list = [], []\n",
    "    Js_list = []\n",
    "    if print_TrueFalse == True:\n",
    "        print(f'l1={l1}, s1={s1}, \\t l2={l2}, s2={s2}')\n",
    "        print(f'L = {L}, \\t S = {S} \\n')\n",
    "    else:\n",
    "        print(end='')\n",
    "    for l in L:\n",
    "        for s in S:\n",
    "            Ls_list.append(l), Ss_list.append(s)\n",
    "            J_elt = np.arange(np.abs(l-s), l+s+1)\n",
    "            Js_list.append(J_elt)\n",
    "            if print_TrueFalse == True:\n",
    "                print(f'L={l}, S={s}, \\t J = {J_elt}')\n",
    "            else:\n",
    "                print(end='')\n",
    "    dict_ls_js = {'L':Ls_list,'S':Ss_list,'J':Js_list}\n",
    "    df_ls_js = pd.DataFrame(dict_ls_js)\n",
    "    if show_table == True:\n",
    "        display(df_ls_js)\n",
    "    else:\n",
    "        print(end='')\n",
    "    return Js_list, df_ls_js\n",
    "\n",
    "J_LS_coupling(1,1/2, 2,1/2, print_TrueFalse=True, show_table=True)"
   ]
  },
  {
   "cell_type": "code",
   "execution_count": null,
   "metadata": {},
   "outputs": [],
   "source": []
  },
  {
   "cell_type": "markdown",
   "metadata": {},
   "source": [
    "### J-J Coupling"
   ]
  },
  {
   "cell_type": "code",
   "execution_count": 27,
   "metadata": {},
   "outputs": [
    {
     "name": "stdout",
     "output_type": "stream",
     "text": [
      "l1=1, s1=0.5, \t l2=2, s2=0.5\n",
      "J1 = [0.5 1.5], \t J2 = [1.5 2.5] \n",
      "\n",
      "J1=0.5, J2=1.5, \t J = [1. 2.]\n",
      "J1=0.5, J2=2.5, \t J = [2. 3.]\n",
      "J1=1.5, J2=1.5, \t J = [0. 1. 2. 3.]\n",
      "J1=1.5, J2=2.5, \t J = [1. 2. 3. 4.]\n"
     ]
    },
    {
     "data": {
      "text/html": [
       "<div>\n",
       "<style scoped>\n",
       "    .dataframe tbody tr th:only-of-type {\n",
       "        vertical-align: middle;\n",
       "    }\n",
       "\n",
       "    .dataframe tbody tr th {\n",
       "        vertical-align: top;\n",
       "    }\n",
       "\n",
       "    .dataframe thead th {\n",
       "        text-align: right;\n",
       "    }\n",
       "</style>\n",
       "<table border=\"1\" class=\"dataframe\">\n",
       "  <thead>\n",
       "    <tr style=\"text-align: right;\">\n",
       "      <th></th>\n",
       "      <th>J1</th>\n",
       "      <th>J2</th>\n",
       "      <th>J</th>\n",
       "    </tr>\n",
       "  </thead>\n",
       "  <tbody>\n",
       "    <tr>\n",
       "      <th>0</th>\n",
       "      <td>0.5</td>\n",
       "      <td>1.5</td>\n",
       "      <td>[1.0, 2.0]</td>\n",
       "    </tr>\n",
       "    <tr>\n",
       "      <th>1</th>\n",
       "      <td>0.5</td>\n",
       "      <td>2.5</td>\n",
       "      <td>[2.0, 3.0]</td>\n",
       "    </tr>\n",
       "    <tr>\n",
       "      <th>2</th>\n",
       "      <td>1.5</td>\n",
       "      <td>1.5</td>\n",
       "      <td>[0.0, 1.0, 2.0, 3.0]</td>\n",
       "    </tr>\n",
       "    <tr>\n",
       "      <th>3</th>\n",
       "      <td>1.5</td>\n",
       "      <td>2.5</td>\n",
       "      <td>[1.0, 2.0, 3.0, 4.0]</td>\n",
       "    </tr>\n",
       "  </tbody>\n",
       "</table>\n",
       "</div>"
      ],
      "text/plain": [
       "    J1   J2                     J\n",
       "0  0.5  1.5            [1.0, 2.0]\n",
       "1  0.5  2.5            [2.0, 3.0]\n",
       "2  1.5  1.5  [0.0, 1.0, 2.0, 3.0]\n",
       "3  1.5  2.5  [1.0, 2.0, 3.0, 4.0]"
      ]
     },
     "metadata": {},
     "output_type": "display_data"
    },
    {
     "data": {
      "text/plain": [
       "([array([1., 2.]),\n",
       "  array([2., 3.]),\n",
       "  array([0., 1., 2., 3.]),\n",
       "  array([1., 2., 3., 4.])],\n",
       "     J1   J2                     J\n",
       " 0  0.5  1.5            [1.0, 2.0]\n",
       " 1  0.5  2.5            [2.0, 3.0]\n",
       " 2  1.5  1.5  [0.0, 1.0, 2.0, 3.0]\n",
       " 3  1.5  2.5  [1.0, 2.0, 3.0, 4.0])"
      ]
     },
     "execution_count": 27,
     "metadata": {},
     "output_type": "execute_result"
    }
   ],
   "source": [
    "J1_JJ_coupling = lambda l1,s1: np.arange(np.abs(l1-s1), l1+s1+1)\n",
    "J2_JJ_coupling = lambda l2,s2: np.arange(np.abs(l2-s2), l2+s2+1)\n",
    "\n",
    "def J_JJ_coupling(l1,s1, l2,s2, print_TrueFalse=False, show_table=False):\n",
    "    J1, J2 = J1_JJ_coupling(l1,s1), J2_JJ_coupling(l2,s2)\n",
    "    J1_list, J2_list = [], []\n",
    "    Js_list = []\n",
    "    if print_TrueFalse == True:\n",
    "        print(f'l1={l1}, s1={s1}, \\t l2={l2}, s2={s2}')\n",
    "        print(f'J1 = {J1}, \\t J2 = {J2} \\n')\n",
    "    else:\n",
    "        print(end='')\n",
    "    for j1 in J1:\n",
    "        for j2 in J2:\n",
    "            J1_list.append(j1), J2_list.append(j2)\n",
    "            J_elt = np.arange(np.abs(j1-j2), j1+j2+1)\n",
    "            Js_list.append(J_elt)\n",
    "            if print_TrueFalse == True:\n",
    "                print(f'J1={j1}, J2={j2}, \\t J = {J_elt}')\n",
    "            else:\n",
    "                print(end='')\n",
    "    dict_jj_js = {'J1':J1_list,'J2':J2_list,'J':Js_list}\n",
    "    df_jj_js = pd.DataFrame(dict_jj_js)\n",
    "    if show_table == True:\n",
    "        display(df_jj_js)\n",
    "    else:\n",
    "        print(end='')\n",
    "    return Js_list, df_jj_js\n",
    "\n",
    "J_JJ_coupling(1,1/2, 2,1/2, print_TrueFalse=True, show_table=True)"
   ]
  },
  {
   "cell_type": "code",
   "execution_count": null,
   "metadata": {},
   "outputs": [],
   "source": []
  },
  {
   "cell_type": "markdown",
   "metadata": {},
   "source": [
    "### Selection Rules"
   ]
  },
  {
   "cell_type": "code",
   "execution_count": 69,
   "metadata": {},
   "outputs": [
    {
     "data": {
      "text/plain": [
       "['Possible Transition. Very Weak Intensity. 1/4', True]"
      ]
     },
     "execution_count": 69,
     "metadata": {},
     "output_type": "execute_result"
    }
   ],
   "source": [
    "def selection_rule(S1,L1,J1, S2,L2,J2):\n",
    "    dS, dL, dJ = (S2-S1), (L2-L1), (J2-J1)\n",
    "    trans12 = []\n",
    "    if np.abs(dS)==0 and np.abs(dL)==1 and (np.abs(dJ)==1 or np.abs(dJ)==0):\n",
    "        # print('Transition is possible.')\n",
    "        if dL==-1 and dJ==-1:\n",
    "            trans12.append('Possible Transition. Strongest Intensity. 4/4')\n",
    "        elif dL==1 and dJ==1:\n",
    "            trans12.append('Possible Transition. Less Intensity. 3/4')\n",
    "        elif dL==-1 and dJ==0:\n",
    "            trans12.append('Possible Transition. Weak Intensity. 2/4')\n",
    "        elif dL==1 and dJ==0:\n",
    "            trans12.append('Possible Transition. Very Weak Intensity. 1/4')\n",
    "        elif dL==-1 and dJ==1:\n",
    "            trans12.append('Forbidden transition.')\n",
    "        elif dL==1 and dJ==-1:\n",
    "            trans12.append('Forbidden transition.')\n",
    "    else:\n",
    "        trans12.append('Forbidden transition.')\n",
    "    if trans12[0] == 'Forbidden transition.':\n",
    "        trans12.append(False)\n",
    "    else:\n",
    "        trans12.append(True)\n",
    "    return trans12\n",
    "\n",
    "selection_rule(1/2,1,3/2, 1/2,2,3/2)"
   ]
  },
  {
   "cell_type": "code",
   "execution_count": null,
   "metadata": {},
   "outputs": [],
   "source": []
  },
  {
   "cell_type": "code",
   "execution_count": null,
   "metadata": {},
   "outputs": [],
   "source": []
  },
  {
   "cell_type": "markdown",
   "metadata": {},
   "source": [
    "### Anamolous Zeemann Effect\n",
    "(Selection Rules will also be applied here)"
   ]
  },
  {
   "cell_type": "code",
   "execution_count": 70,
   "metadata": {},
   "outputs": [],
   "source": [
    "g_J = lambda L,S,J: 1 + (J*(J+1)+S*(S+1)-L*(L+1))/(2*J*(J+1))\n",
    "mu_J = lambda L,S,J: -1*g_J(L,S,J)* np.sqrt(J*(J+1)) # e hbar/ 2me = 1\n",
    "E_B = lambda L,S,J,mj: g_J(L,S,J)* 1*mj         # muB B = 1"
   ]
  },
  {
   "cell_type": "code",
   "execution_count": 71,
   "metadata": {},
   "outputs": [
    {
     "data": {
      "text/plain": [
       "[0, 0.5, array([-0.5,  0.5]), array([-1.,  1.])]"
      ]
     },
     "metadata": {},
     "output_type": "display_data"
    }
   ],
   "source": [
    "# nP1b2 - n:2s+1, P:L=1, 1b2:J=1/2\n",
    "def orbital_nL_J(L,J):\n",
    "    mjs = []\n",
    "    Ejs = []\n",
    "    for mjelt in np.arange(-J,J+1):\n",
    "        mjs.append(mjelt)\n",
    "        Ejelt = E_B(L, 1/2, J, mjelt)\n",
    "        Ejs.append(Ejelt)\n",
    "    return [L,J, np.array(mjs), np.array(Ejs)]\n",
    "\n",
    "display(orbital_nL_J(0,1/2))"
   ]
  },
  {
   "cell_type": "code",
   "execution_count": 72,
   "metadata": {},
   "outputs": [],
   "source": [
    "def two_orbital_interaction(L1,J1, L2,J2, print_TrueFalse=False, show_table=False):\n",
    "    trans12, transTF = selection_rule(1/2,L1,J1, 1/2,L2,J2)\n",
    "    \n",
    "    l1, j1, mjs1, Ejs1 = orbital_nL_J(L1,J1)\n",
    "    l2, j2, mjs2, Ejs2 = orbital_nL_J(L2,J2)\n",
    "    if print_TrueFalse == True:\n",
    "        print(f'\\nL1 = {l1}, J1 = {j1}, \\t mjs1 = {mjs1}, \\t Ejs1 = {Ejs1}')\n",
    "        print(f'L2 = {l2}, J2 = {j2}, \\t mjs2 = {mjs2}, \\t Ejs2 = {Ejs2}\\n')\n",
    "    else:\n",
    "        print(end='')\n",
    "    if print_TrueFalse==True or show_table==True:\n",
    "        print(f'{trans12}\\n')\n",
    "    else:\n",
    "        print(end='')\n",
    "    if transTF == True:\n",
    "        mj1s, mj2s = [], []\n",
    "        pi_sig = []\n",
    "        E12s = []\n",
    "        for mj1 in mjs1:\n",
    "            for mj2 in mjs2:\n",
    "                E1, E2 = Ejs1[int(mj1+J1)], Ejs2[int(mj2+J2)]\n",
    "                E12 = (E2-E1)\n",
    "                if (mj1-mj2)==0:\n",
    "                    mj1s.append(mj1), mj2s.append(mj2)\n",
    "                    pi_sig.append('pi')\n",
    "                    E12s.append(E12)\n",
    "                    if print_TrueFalse == True:\n",
    "                        print(f'pi, \\t mj1={mj1}, mj2={mj2},\\t E2-E1={E12}')\n",
    "                    else:\n",
    "                        print(end='')\n",
    "                elif (mj1-mj2)==1:\n",
    "                    mj1s.append(mj1), mj2s.append(mj2)\n",
    "                    pi_sig.append('sigma-')\n",
    "                    E12s.append(E12)\n",
    "                    if print_TrueFalse == True:\n",
    "                        print(f'sigma-,\\t mj1={mj1}, mj2={mj2},\\t E2-E1={E12}')\n",
    "                    else:\n",
    "                        print(end='')\n",
    "                elif (mj1-mj2)==-1:\n",
    "                    mj1s.append(mj1), mj2s.append(mj2)\n",
    "                    pi_sig.append('sigma+')\n",
    "                    E12s.append(E12)\n",
    "                    if print_TrueFalse == True:\n",
    "                        print(f'sigma+,\\t mj1={mj1}, mj2={mj2},\\t E2-E1={E12}')\n",
    "                    else:\n",
    "                        print(end='')\n",
    "        mj1s, mj2s = np.array(mj1s), np.array(mj2s)\n",
    "        pi_sig, E12s = np.array(pi_sig), np.array(E12s)\n",
    "        dict_en_lvl = {'mj1':mj1s,'mj2':mj2s,'pi/sigma':pi_sig,'E2-E1':E12s}\n",
    "        df_en_lvl = pd.DataFrame(dict_en_lvl)\n",
    "        if show_table == True:\n",
    "            display(df_en_lvl)\n",
    "        else:\n",
    "            print(end='')\n",
    "        return trans12, pi_sig, E12s, df_en_lvl\n",
    "    \n",
    "    elif transTF == False:\n",
    "        return trans12\n"
   ]
  },
  {
   "cell_type": "markdown",
   "metadata": {},
   "source": [
    "Verifying the 4+6=10 lines"
   ]
  },
  {
   "cell_type": "code",
   "execution_count": 73,
   "metadata": {},
   "outputs": [
    {
     "name": "stdout",
     "output_type": "stream",
     "text": [
      "\n",
      "L1 = 0, J1 = 0.5, \t mjs1 = [-0.5  0.5], \t Ejs1 = [-1.  1.]\n",
      "L2 = 1, J2 = 0.5, \t mjs2 = [-0.5  0.5], \t Ejs2 = [-0.33333333  0.33333333]\n",
      "\n",
      "Possible Transition. Very Weak Intensity. 1/4\n",
      "\n",
      "pi, \t mj1=-0.5, mj2=-0.5,\t E2-E1=0.6666666666666666\n",
      "sigma+,\t mj1=-0.5, mj2=0.5,\t E2-E1=1.3333333333333335\n",
      "sigma-,\t mj1=0.5, mj2=-0.5,\t E2-E1=-1.3333333333333335\n",
      "pi, \t mj1=0.5, mj2=0.5,\t E2-E1=-0.6666666666666666\n",
      "\n",
      "L1 = 0, J1 = 0.5, \t mjs1 = [-0.5  0.5], \t Ejs1 = [-1.  1.]\n",
      "L2 = 1, J2 = 1.5, \t mjs2 = [-1.5 -0.5  0.5  1.5], \t Ejs2 = [-2.         -0.66666667  0.66666667  2.        ]\n",
      "\n",
      "Possible Transition. Less Intensity. 3/4\n",
      "\n",
      "sigma-,\t mj1=-0.5, mj2=-1.5,\t E2-E1=-1.0\n",
      "pi, \t mj1=-0.5, mj2=-0.5,\t E2-E1=0.33333333333333337\n",
      "sigma+,\t mj1=-0.5, mj2=0.5,\t E2-E1=1.6666666666666665\n",
      "sigma-,\t mj1=0.5, mj2=-0.5,\t E2-E1=-1.6666666666666665\n",
      "pi, \t mj1=0.5, mj2=0.5,\t E2-E1=-0.33333333333333337\n",
      "sigma+,\t mj1=0.5, mj2=1.5,\t E2-E1=1.0\n"
     ]
    },
    {
     "data": {
      "text/plain": [
       "('Possible Transition. Very Weak Intensity. 1/4',\n",
       " array(['pi', 'sigma+', 'sigma-', 'pi'], dtype='<U6'),\n",
       " array([ 0.66666667,  1.33333333, -1.33333333, -0.66666667]),\n",
       "    mj1  mj2 pi/sigma     E2-E1\n",
       " 0 -0.5 -0.5       pi  0.666667\n",
       " 1 -0.5  0.5   sigma+  1.333333\n",
       " 2  0.5 -0.5   sigma- -1.333333\n",
       " 3  0.5  0.5       pi -0.666667)"
      ]
     },
     "metadata": {},
     "output_type": "display_data"
    },
    {
     "data": {
      "text/plain": [
       "('Possible Transition. Less Intensity. 3/4',\n",
       " array(['sigma-', 'pi', 'sigma+', 'sigma-', 'pi', 'sigma+'], dtype='<U6'),\n",
       " array([-1.        ,  0.33333333,  1.66666667, -1.66666667, -0.33333333,\n",
       "         1.        ]),\n",
       "    mj1  mj2 pi/sigma     E2-E1\n",
       " 0 -0.5 -1.5   sigma- -1.000000\n",
       " 1 -0.5 -0.5       pi  0.333333\n",
       " 2 -0.5  0.5   sigma+  1.666667\n",
       " 3  0.5 -0.5   sigma- -1.666667\n",
       " 4  0.5  0.5       pi -0.333333\n",
       " 5  0.5  1.5   sigma+  1.000000)"
      ]
     },
     "metadata": {},
     "output_type": "display_data"
    },
    {
     "data": {
      "text/plain": [
       "'Forbidden transition.'"
      ]
     },
     "metadata": {},
     "output_type": "display_data"
    }
   ],
   "source": [
    "display(two_orbital_interaction(0,1/2, 1,1/2, print_TrueFalse=True),\n",
    "        two_orbital_interaction(0,1/2, 1,3/2, print_TrueFalse=True),\n",
    "        two_orbital_interaction(1,1/2, 1,3/2))"
   ]
  },
  {
   "cell_type": "code",
   "execution_count": 74,
   "metadata": {},
   "outputs": [],
   "source": [
    "# rearrange energies"
   ]
  },
  {
   "cell_type": "markdown",
   "metadata": {},
   "source": [
    "Transitions between 2 arbitary orbitals"
   ]
  },
  {
   "cell_type": "code",
   "execution_count": 77,
   "metadata": {},
   "outputs": [
    {
     "name": "stdout",
     "output_type": "stream",
     "text": [
      "Possible Transition. Very Weak Intensity. 1/4\n",
      "\n"
     ]
    },
    {
     "data": {
      "text/html": [
       "<div>\n",
       "<style scoped>\n",
       "    .dataframe tbody tr th:only-of-type {\n",
       "        vertical-align: middle;\n",
       "    }\n",
       "\n",
       "    .dataframe tbody tr th {\n",
       "        vertical-align: top;\n",
       "    }\n",
       "\n",
       "    .dataframe thead th {\n",
       "        text-align: right;\n",
       "    }\n",
       "</style>\n",
       "<table border=\"1\" class=\"dataframe\">\n",
       "  <thead>\n",
       "    <tr style=\"text-align: right;\">\n",
       "      <th></th>\n",
       "      <th>mj1</th>\n",
       "      <th>mj2</th>\n",
       "      <th>pi/sigma</th>\n",
       "      <th>E2-E1</th>\n",
       "    </tr>\n",
       "  </thead>\n",
       "  <tbody>\n",
       "    <tr>\n",
       "      <th>0</th>\n",
       "      <td>-1.5</td>\n",
       "      <td>-1.5</td>\n",
       "      <td>pi</td>\n",
       "      <td>0.800000</td>\n",
       "    </tr>\n",
       "    <tr>\n",
       "      <th>1</th>\n",
       "      <td>-1.5</td>\n",
       "      <td>-0.5</td>\n",
       "      <td>sigma+</td>\n",
       "      <td>1.600000</td>\n",
       "    </tr>\n",
       "    <tr>\n",
       "      <th>2</th>\n",
       "      <td>-0.5</td>\n",
       "      <td>-1.5</td>\n",
       "      <td>sigma-</td>\n",
       "      <td>-0.533333</td>\n",
       "    </tr>\n",
       "    <tr>\n",
       "      <th>3</th>\n",
       "      <td>-0.5</td>\n",
       "      <td>-0.5</td>\n",
       "      <td>pi</td>\n",
       "      <td>0.266667</td>\n",
       "    </tr>\n",
       "    <tr>\n",
       "      <th>4</th>\n",
       "      <td>-0.5</td>\n",
       "      <td>0.5</td>\n",
       "      <td>sigma+</td>\n",
       "      <td>1.066667</td>\n",
       "    </tr>\n",
       "    <tr>\n",
       "      <th>5</th>\n",
       "      <td>0.5</td>\n",
       "      <td>-0.5</td>\n",
       "      <td>sigma-</td>\n",
       "      <td>-1.066667</td>\n",
       "    </tr>\n",
       "    <tr>\n",
       "      <th>6</th>\n",
       "      <td>0.5</td>\n",
       "      <td>0.5</td>\n",
       "      <td>pi</td>\n",
       "      <td>-0.266667</td>\n",
       "    </tr>\n",
       "    <tr>\n",
       "      <th>7</th>\n",
       "      <td>0.5</td>\n",
       "      <td>1.5</td>\n",
       "      <td>sigma+</td>\n",
       "      <td>0.533333</td>\n",
       "    </tr>\n",
       "    <tr>\n",
       "      <th>8</th>\n",
       "      <td>1.5</td>\n",
       "      <td>0.5</td>\n",
       "      <td>sigma-</td>\n",
       "      <td>-1.600000</td>\n",
       "    </tr>\n",
       "    <tr>\n",
       "      <th>9</th>\n",
       "      <td>1.5</td>\n",
       "      <td>1.5</td>\n",
       "      <td>pi</td>\n",
       "      <td>-0.800000</td>\n",
       "    </tr>\n",
       "  </tbody>\n",
       "</table>\n",
       "</div>"
      ],
      "text/plain": [
       "   mj1  mj2 pi/sigma     E2-E1\n",
       "0 -1.5 -1.5       pi  0.800000\n",
       "1 -1.5 -0.5   sigma+  1.600000\n",
       "2 -0.5 -1.5   sigma- -0.533333\n",
       "3 -0.5 -0.5       pi  0.266667\n",
       "4 -0.5  0.5   sigma+  1.066667\n",
       "5  0.5 -0.5   sigma- -1.066667\n",
       "6  0.5  0.5       pi -0.266667\n",
       "7  0.5  1.5   sigma+  0.533333\n",
       "8  1.5  0.5   sigma- -1.600000\n",
       "9  1.5  1.5       pi -0.800000"
      ]
     },
     "metadata": {},
     "output_type": "display_data"
    },
    {
     "data": {
      "text/plain": [
       "('Possible Transition. Very Weak Intensity. 1/4',\n",
       " array(['pi', 'sigma+', 'sigma-', 'pi', 'sigma+', 'sigma-', 'pi', 'sigma+',\n",
       "        'sigma-', 'pi'], dtype='<U6'),\n",
       " array([ 0.8       ,  1.6       , -0.53333333,  0.26666667,  1.06666667,\n",
       "        -1.06666667, -0.26666667,  0.53333333, -1.6       , -0.8       ]),\n",
       "    mj1  mj2 pi/sigma     E2-E1\n",
       " 0 -1.5 -1.5       pi  0.800000\n",
       " 1 -1.5 -0.5   sigma+  1.600000\n",
       " 2 -0.5 -1.5   sigma- -0.533333\n",
       " 3 -0.5 -0.5       pi  0.266667\n",
       " 4 -0.5  0.5   sigma+  1.066667\n",
       " 5  0.5 -0.5   sigma- -1.066667\n",
       " 6  0.5  0.5       pi -0.266667\n",
       " 7  0.5  1.5   sigma+  0.533333\n",
       " 8  1.5  0.5   sigma- -1.600000\n",
       " 9  1.5  1.5       pi -0.800000)"
      ]
     },
     "execution_count": 77,
     "metadata": {},
     "output_type": "execute_result"
    }
   ],
   "source": [
    "two_orbital_interaction(1,3/2, 2,3/2, show_table=True)"
   ]
  },
  {
   "cell_type": "code",
   "execution_count": null,
   "metadata": {},
   "outputs": [],
   "source": []
  },
  {
   "cell_type": "code",
   "execution_count": null,
   "metadata": {},
   "outputs": [],
   "source": []
  },
  {
   "cell_type": "code",
   "execution_count": null,
   "metadata": {},
   "outputs": [],
   "source": []
  }
 ],
 "metadata": {
  "kernelspec": {
   "display_name": "Python 3",
   "language": "python",
   "name": "python3"
  },
  "language_info": {
   "codemirror_mode": {
    "name": "ipython",
    "version": 3
   },
   "file_extension": ".py",
   "mimetype": "text/x-python",
   "name": "python",
   "nbconvert_exporter": "python",
   "pygments_lexer": "ipython3",
   "version": "3.11.1"
  }
 },
 "nbformat": 4,
 "nbformat_minor": 2
}
