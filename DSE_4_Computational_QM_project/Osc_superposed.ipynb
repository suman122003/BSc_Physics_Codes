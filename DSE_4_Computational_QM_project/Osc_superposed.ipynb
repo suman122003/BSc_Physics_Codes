{
 "cells": [
  {
   "cell_type": "markdown",
   "metadata": {},
   "source": [
    "# Oscillation of Superposed State"
   ]
  },
  {
   "cell_type": "code",
   "execution_count": 1,
   "metadata": {},
   "outputs": [],
   "source": [
    "import numpy as np\n",
    "import matplotlib.pyplot as plt"
   ]
  },
  {
   "cell_type": "code",
   "execution_count": 2,
   "metadata": {},
   "outputs": [],
   "source": [
    "from lho_fns import phi_n, psi_superposed"
   ]
  },
  {
   "cell_type": "code",
   "execution_count": 3,
   "metadata": {},
   "outputs": [
    {
     "name": "stdout",
     "output_type": "stream",
     "text": [
      "<n>=3.8677685950413228 and <E>=4.353169610489678.\n"
     ]
    }
   ],
   "source": [
    "ns = [2,3,4,5,6,7]  # INPUT\n",
    "cs = [10, 6, 4, 5, 4, 7]   # INPUT\n",
    "ns, cs = np.array(ns), np.array(cs)\n",
    "cs = cs/np.sum(cs**2)**0.5\n",
    "\n",
    "hbar, m = 1, 1\n",
    "hbar_m = [hbar, m]\n",
    "omega0 = 1\n",
    "X = np.linspace(-5, 5, 100)\n",
    "Es, psis = psi_superposed([hbar_m, omega0, ns, cs], X)\n",
    "\n",
    "n_exp = np.sum(ns*cs**2)\n",
    "\n",
    "print(f'<n>={n_exp} and <E>={Es}.')"
   ]
  },
  {
   "cell_type": "code",
   "execution_count": 4,
   "metadata": {},
   "outputs": [
    {
     "name": "stdout",
     "output_type": "stream",
     "text": [
      "6.304256878802618\n"
     ]
    }
   ],
   "source": [
    "omega1 = Es/(n_exp + 1/2)\n",
    "T1 = 2*np.pi/omega1\n",
    "print(T1)  # exact value (analytical)"
   ]
  },
  {
   "cell_type": "code",
   "execution_count": null,
   "metadata": {},
   "outputs": [],
   "source": []
  }
 ],
 "metadata": {
  "kernelspec": {
   "display_name": "base",
   "language": "python",
   "name": "python3"
  },
  "language_info": {
   "codemirror_mode": {
    "name": "ipython",
    "version": 3
   },
   "file_extension": ".py",
   "mimetype": "text/x-python",
   "name": "python",
   "nbconvert_exporter": "python",
   "pygments_lexer": "ipython3",
   "version": "3.9.13"
  }
 },
 "nbformat": 4,
 "nbformat_minor": 2
}
