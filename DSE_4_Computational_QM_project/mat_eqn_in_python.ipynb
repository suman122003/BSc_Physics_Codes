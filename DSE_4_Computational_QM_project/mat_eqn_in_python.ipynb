{
 "cells": [
  {
   "cell_type": "markdown",
   "metadata": {},
   "source": [
    "## Solution of a Matrix Equation in Python\n",
    "\n",
    "In python, a matrix equation can be solved using different functions. Here I will consider a matrix equation,\n",
    "$$ AX = B $$\n",
    "where, \n",
    "$A= \\begin{bmatrix}  2 & 1 & 0 & 0\\\\ 2 & 6 & 4 & 0 \\\\ 0 & 4 & 9 & 4 \\\\ 0 & 0 & 3 & 1 \\end{bmatrix}$, \n",
    "$B = \\begin{bmatrix} 0\\\\ 4\\\\ 8\\\\ 7 \\end{bmatrix}$ and $X$ is to be calculated.\n",
    "\n",
    "(As throughout the project, I am dealing with tridiagonal matrices, here I am testing speed for tridiagonal matrix only.)"
   ]
  },
  {
   "cell_type": "markdown",
   "metadata": {},
   "source": [
    "Let's write the matrices $A$ and $B$ as a *list*."
   ]
  },
  {
   "cell_type": "code",
   "execution_count": 1,
   "metadata": {},
   "outputs": [
    {
     "data": {
      "text/plain": [
       "[[1, 0, 0, 0, 0, 0, 0, 0, 0, 0, 0, 0],\n",
       " [-2, (5-1j), -2, 0, 0, 0, 0, 0, 0, 0, 0, 0],\n",
       " [0, -2, (5-1j), -2, 0, 0, 0, 0, 0, 0, 0, 0],\n",
       " [0, 0, -2, (5-1j), -2, 0, 0, 0, 0, 0, 0, 0],\n",
       " [0, 0, 0, -2, (5-1j), -2, 0, 0, 0, 0, 0, 0],\n",
       " [0, 0, 0, 0, -2, (5-1j), -2, 0, 0, 0, 0, 0],\n",
       " [0, 0, 0, 0, 0, -2, (5-1j), -2, 0, 0, 0, 0],\n",
       " [0, 0, 0, 0, 0, 0, -2, (5-1j), -2, 0, 0, 0],\n",
       " [0, 0, 0, 0, 0, 0, 0, -2, (5-1j), -2, 0, 0],\n",
       " [0, 0, 0, 0, 0, 0, 0, 0, -2, (5-1j), -2, 0],\n",
       " [0, 0, 0, 0, 0, 0, 0, 0, 0, -2, (5-1j), -2],\n",
       " [0, 0, 0, 0, 0, 0, 0, 0, 0, 0, 0, 1]]"
      ]
     },
     "metadata": {},
     "output_type": "display_data"
    },
    {
     "data": {
      "text/plain": [
       "[2, 8, 3, 4, 3, 8, 3, 0, 6, 2, 3, 5]"
      ]
     },
     "metadata": {},
     "output_type": "display_data"
    }
   ],
   "source": [
    "al, bt = -2, 5 -1j\n",
    "N = 12\n",
    "A = [[0 for j in range(N)] for i in range(N)]\n",
    "B = [2,8,3,4,3,8,3,0,6,2,3,5]\n",
    "A[0][0], A[N-1][N-1] = 1, 1\n",
    "for j in range(1, N-1):\n",
    "    A[j][j-1], A[j][j], A[j][j+1] = al, bt, al\n",
    "display(A, B)"
   ]
  },
  {
   "cell_type": "markdown",
   "metadata": {},
   "source": [
    "In most of the cases, the process of finding $X$ is by the equation,\n",
    "$$X = A^{-1} B$$\n",
    "Now, in python we have different ways available for finding inverse of a matrix.\n",
    "\n",
    "Here the matrix equation is solved using different methods and the speed of computation is also checked."
   ]
  },
  {
   "cell_type": "markdown",
   "metadata": {},
   "source": [
    "## Using numpy.linalg"
   ]
  },
  {
   "cell_type": "code",
   "execution_count": 2,
   "metadata": {},
   "outputs": [
    {
     "data": {
      "text/plain": [
       "array([2.        +4.30252080e-16j, 3.07246374+1.33729704e+00j,\n",
       "       2.34980786+1.80701073e+00j, 2.20556128+2.00532585e+00j,\n",
       "       2.16675826+2.10352326e+00j, 2.76309599+2.17010316e+00j,\n",
       "       1.82603331+1.94018666e+00j, 1.2720806 +1.76734683e+00j,\n",
       "       2.23784162+1.84214011e+00j, 2.2435935 +1.71908264e+00j,\n",
       "       3.23068345+1.33376975e+00j, 5.        +0.00000000e+00j])"
      ]
     },
     "execution_count": 2,
     "metadata": {},
     "output_type": "execute_result"
    }
   ],
   "source": [
    "import numpy as np\n",
    "import numpy.linalg as npLA\n",
    "\n",
    "Aarr, Barr = np.array(A), np.array(B)\n",
    "npLA.inv(A) @ B"
   ]
  },
  {
   "cell_type": "code",
   "execution_count": 3,
   "metadata": {},
   "outputs": [
    {
     "data": {
      "text/plain": [
       "array([2.        +4.44089210e-16j, 3.07246374+1.33729704e+00j,\n",
       "       2.34980786+1.80701073e+00j, 2.20556128+2.00532585e+00j,\n",
       "       2.16675826+2.10352326e+00j, 2.76309599+2.17010316e+00j,\n",
       "       1.82603331+1.94018666e+00j, 1.2720806 +1.76734683e+00j,\n",
       "       2.23784162+1.84214011e+00j, 2.2435935 +1.71908264e+00j,\n",
       "       3.23068345+1.33376975e+00j, 5.        +0.00000000e+00j])"
      ]
     },
     "execution_count": 3,
     "metadata": {},
     "output_type": "execute_result"
    }
   ],
   "source": [
    "npLA.solve(Aarr, Barr)"
   ]
  },
  {
   "cell_type": "markdown",
   "metadata": {},
   "source": [
    "## Using scipy.linalg"
   ]
  },
  {
   "cell_type": "code",
   "execution_count": 4,
   "metadata": {},
   "outputs": [
    {
     "data": {
      "text/plain": [
       "array([2.        +3.11352320e-17j, 3.07246374+1.33729704e+00j,\n",
       "       2.34980786+1.80701073e+00j, 2.20556128+2.00532585e+00j,\n",
       "       2.16675826+2.10352326e+00j, 2.76309599+2.17010316e+00j,\n",
       "       1.82603331+1.94018666e+00j, 1.2720806 +1.76734683e+00j,\n",
       "       2.23784162+1.84214011e+00j, 2.2435935 +1.71908264e+00j,\n",
       "       3.23068345+1.33376975e+00j, 5.        +0.00000000e+00j])"
      ]
     },
     "execution_count": 4,
     "metadata": {},
     "output_type": "execute_result"
    }
   ],
   "source": [
    "import scipy.linalg as spLA\n",
    "\n",
    "spLA.inv(A) @ B"
   ]
  },
  {
   "cell_type": "markdown",
   "metadata": {},
   "source": [
    "## By LU factorization"
   ]
  },
  {
   "cell_type": "code",
   "execution_count": 5,
   "metadata": {},
   "outputs": [
    {
     "data": {
      "text/plain": [
       "array([2.        +4.44089210e-16j, 3.07246374+1.33729704e+00j,\n",
       "       2.34980786+1.80701073e+00j, 2.20556128+2.00532585e+00j,\n",
       "       2.16675826+2.10352326e+00j, 2.76309599+2.17010316e+00j,\n",
       "       1.82603331+1.94018666e+00j, 1.2720806 +1.76734683e+00j,\n",
       "       2.23784162+1.84214011e+00j, 2.2435935 +1.71908264e+00j,\n",
       "       3.23068345+1.33376975e+00j, 5.        +0.00000000e+00j])"
      ]
     },
     "execution_count": 5,
     "metadata": {},
     "output_type": "execute_result"
    }
   ],
   "source": [
    "lu1, piv1 = spLA.lu_factor(A)\n",
    "spLA.lu_solve((lu1, piv1), B)"
   ]
  },
  {
   "cell_type": "code",
   "execution_count": 6,
   "metadata": {},
   "outputs": [
    {
     "data": {
      "text/plain": [
       "array([2.        +4.44089210e-16j, 3.07246374+1.33729704e+00j,\n",
       "       2.34980786+1.80701073e+00j, 2.20556128+2.00532585e+00j,\n",
       "       2.16675826+2.10352326e+00j, 2.76309599+2.17010316e+00j,\n",
       "       1.82603331+1.94018666e+00j, 1.2720806 +1.76734683e+00j,\n",
       "       2.23784162+1.84214011e+00j, 2.2435935 +1.71908264e+00j,\n",
       "       3.23068345+1.33376975e+00j, 5.        +0.00000000e+00j])"
      ]
     },
     "execution_count": 6,
     "metadata": {},
     "output_type": "execute_result"
    }
   ],
   "source": [
    "lu2, piv2 = spLA.lu_factor(A)\n",
    "spLA.lu_solve((lu2, piv2), B)"
   ]
  },
  {
   "cell_type": "markdown",
   "metadata": {},
   "source": [
    "Now, I am going to define a function for LU factorization. This function is helpful for solution corresponding to tridiagonal matrices."
   ]
  },
  {
   "cell_type": "code",
   "execution_count": 7,
   "metadata": {},
   "outputs": [],
   "source": [
    "\n",
    "def LU_solve_tridiag(A, b):\n",
    "    '''\n",
    "    Function to solve matrix equation by LU factorization (efficient for tridiagonal matrices)\n",
    "    Function: CFtriag(A, b)\n",
    "        ARGUMENTS\n",
    "    A, b: matrices for for equation, AX = b\n",
    "        RETURNS\n",
    "    X: solution of the matrix equation\n",
    "    '''\n",
    "    A_arr, b_arr = np.array(A), np.array([b])\n",
    "    ab = np.concatenate((A_arr, b_arr.T), axis=1)\n",
    "    n = len(ab)\n",
    "    l = [[0 for j in range(n)] for i in range(n)]\n",
    "    u = [[0 for j in range(n)] for i in range(n)]\n",
    "    z = [0 for i in range(n)]\n",
    "    for i in range(n-1):\n",
    "        l[i][i-1] = ab[i][i-1]\n",
    "        l[i][i] = ab[i][i] -l[i][i-1]*u[i-1][i]\n",
    "        u[i][i+1] = ab[i][i+1]/l[i][i]\n",
    "        z[i] = (ab[i][n]-l[i][i-1]*z[i-1])/l[i][i]\n",
    "    l[n-1][n-2] = ab[n-1][n-2]\n",
    "    l[n-1][n-1] = ab[n-1][n-1] -l[n-1][n-2]*u[n-2][n-1]\n",
    "    z[n-1] = (ab[n-1][n]-l[n-1][n-2]*z[n-2])/l[n-1][n-1]\n",
    "    X = [0 for i in range(n)]\n",
    "    X[n-1] = z[n-1]\n",
    "    for i in range(n-2, -1, -1):\n",
    "        X[i] = z[i] - u[i][i+1]*X[i+1]\n",
    "    return X"
   ]
  },
  {
   "cell_type": "code",
   "execution_count": 8,
   "metadata": {},
   "outputs": [
    {
     "data": {
      "text/plain": [
       "[(2+0j),\n",
       " (3.0724637363898277+1.3372970379232836j),\n",
       " (2.349807859936212+1.8070107266132946j),\n",
       " (2.205561276757351+2.005325848641847j),\n",
       " (2.166758256278089+2.1035232566126476j),\n",
       " (2.7630959922441964+2.170103164750727j),\n",
       " (1.8260333067077656+1.9401866591420722j),\n",
       " (1.2720806040962533+1.7673468297505694j),\n",
       " (2.2378416184081527+1.8421401131862254j),\n",
       " (2.2435934985172405+1.7190826440109177j),\n",
       " (3.2306834498904067+1.3337697475824486j),\n",
       " (5+0j)]"
      ]
     },
     "execution_count": 8,
     "metadata": {},
     "output_type": "execute_result"
    }
   ],
   "source": [
    "LU_solve_tridiag(A, B)"
   ]
  },
  {
   "cell_type": "code",
   "execution_count": null,
   "metadata": {},
   "outputs": [],
   "source": []
  }
 ],
 "metadata": {
  "kernelspec": {
   "display_name": "Python 3 (ipykernel)",
   "language": "python",
   "name": "python3"
  },
  "language_info": {
   "codemirror_mode": {
    "name": "ipython",
    "version": 3
   },
   "file_extension": ".py",
   "mimetype": "text/x-python",
   "name": "python",
   "nbconvert_exporter": "python",
   "pygments_lexer": "ipython3",
   "version": "3.9.13"
  }
 },
 "nbformat": 4,
 "nbformat_minor": 4
}
