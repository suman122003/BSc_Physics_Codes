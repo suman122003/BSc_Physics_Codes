{
 "cells": [
  {
   "cell_type": "markdown",
   "metadata": {},
   "source": [
    "# Special Relativity (Numerical) - SKP"
   ]
  },
  {
   "cell_type": "code",
   "execution_count": 1,
   "metadata": {},
   "outputs": [],
   "source": [
    "import numpy as np\n",
    "import matplotlib.pyplot as plt"
   ]
  },
  {
   "cell_type": "code",
   "execution_count": null,
   "metadata": {},
   "outputs": [],
   "source": []
  },
  {
   "cell_type": "markdown",
   "metadata": {},
   "source": [
    "## Lorentz Transformations\n",
    "\n",
    "$$ \\gamma = \\frac{1}{\\sqrt{1 - \\beta^{2}}} $$\n",
    "\n",
    "$$ x' = \\frac{- \\beta \\omega + x}{\\sqrt{1 - \\beta^{2}}} $$\n",
    "$$ y' = y $$\n",
    "$$ z' = z $$\n",
    "$$ \\omega' = \\frac{- \\beta x + \\omega}{\\sqrt{1 - \\beta^{2}}} $$"
   ]
  },
  {
   "cell_type": "code",
   "execution_count": 2,
   "metadata": {},
   "outputs": [],
   "source": [
    "gyf = lambda bt: 1/np.sqrt(1-bt**2)"
   ]
  },
  {
   "cell_type": "code",
   "execution_count": 3,
   "metadata": {},
   "outputs": [],
   "source": [
    "xpf = lambda x, y, z, w, bt: gyf(bt) *(x-bt*w)\n",
    "ypf, zpf = lambda x, y, z, w, bt: y, lambda x, y, z, w, bt: z\n",
    "wpf = lambda x, y, z, w, bt: gyf(bt) *(w-bt*x)"
   ]
  },
  {
   "cell_type": "code",
   "execution_count": 4,
   "metadata": {},
   "outputs": [
    {
     "data": {
      "text/plain": [
       "(<function __main__.<lambda>(x, y, z, w, bt)>,\n",
       " <function __main__.<lambda>(x, y, z, w, bt)>,\n",
       " <function __main__.<lambda>(x, y, z, w, bt)>,\n",
       " <function __main__.<lambda>(x, y, z, w, bt)>)"
      ]
     },
     "execution_count": 4,
     "metadata": {},
     "output_type": "execute_result"
    }
   ],
   "source": [
    "xpf, ypf, zpf, wpf"
   ]
  },
  {
   "cell_type": "code",
   "execution_count": 5,
   "metadata": {},
   "outputs": [],
   "source": [
    "xf = lambda xp, yp, zp, wp, bt: gyf(bt) *(xp + bt*wp)\n",
    "yf, zf = lambda xp, yp, zp, wp, bt: yp, lambda xp, yp, zp, wp, bt: zp\n",
    "wf = lambda xp, yp, zp, wp, bt: gyf(bt) *(wp + bt*xp)"
   ]
  },
  {
   "cell_type": "code",
   "execution_count": 6,
   "metadata": {},
   "outputs": [
    {
     "data": {
      "text/plain": [
       "(<function __main__.<lambda>(xp, yp, zp, wp, bt)>,\n",
       " <function __main__.<lambda>(xp, yp, zp, wp, bt)>,\n",
       " <function __main__.<lambda>(xp, yp, zp, wp, bt)>,\n",
       " <function __main__.<lambda>(xp, yp, zp, wp, bt)>)"
      ]
     },
     "execution_count": 6,
     "metadata": {},
     "output_type": "execute_result"
    }
   ],
   "source": [
    "xf, yf, zf, wf"
   ]
  },
  {
   "cell_type": "markdown",
   "metadata": {},
   "source": [
    "Functions:\n",
    "* Lorentz Transformation: **`S_to_Sp(x, y, z, w, bt)`**\n",
    "* Inverse Lorentz Transformation:  **`Sp_to_S(xp, yp, zp, wp, bt)`**"
   ]
  },
  {
   "cell_type": "code",
   "execution_count": 9,
   "metadata": {},
   "outputs": [
    {
     "data": {
      "text/plain": [
       "array([-1.73205081,  2.        ,  3.        ,  5.19615242])"
      ]
     },
     "metadata": {},
     "output_type": "display_data"
    },
    {
     "data": {
      "text/plain": [
       "array([1., 2., 3., 5.])"
      ]
     },
     "metadata": {},
     "output_type": "display_data"
    }
   ],
   "source": [
    "S_to_Sp = lambda x, y, z, w, bt: np.array([xpf(x,y,z,w,bt), \n",
    "                    ypf(x,y,z,w,bt), zpf(x,y,z,w,bt), wpf(x,y,z,w,bt)])\n",
    "Sp_to_S = lambda xp, yp, zp, wp, bt: np.array([xf(xp,yp,zp,wp,bt), \n",
    "                    yf(xp,yp,zp,wp,bt), zf(xp,yp,zp,wp,bt), wf(xp,yp,zp,wp,bt)])\n",
    "\n",
    "display(S_to_Sp(1,2,3,5,0.5), Sp_to_S(-1.73205081, 2., 3., 5.19615242, 0.5))"
   ]
  },
  {
   "cell_type": "markdown",
   "metadata": {},
   "source": [
    "Lorentz invariant:\n",
    "$$- \\omega^{2} + x^{2} + y^{2} + z^{2} = - \\omega'^{2} + x'^{2} + y'^{2} + z'^{2}$$"
   ]
  },
  {
   "cell_type": "code",
   "execution_count": 10,
   "metadata": {},
   "outputs": [
    {
     "name": "stdout",
     "output_type": "stream",
     "text": [
      "Lorentz invarient check: S: -7, S': -7.0.\n"
     ]
    }
   ],
   "source": [
    "bt1 = 0.6\n",
    "x1, y1, z1, w1 = 1, 1, 4, 5\n",
    "xp1, yp1, zp1, wp1 = S_to_Sp(x1, y1, z1, w1, bt1)\n",
    "ltinvlhs = x1**2 +y1**2 +z1**2 -w1**2\n",
    "ltinvrhs = xp1**2 +yp1**2 +zp1**2 -wp1**2\n",
    "print(f'Lorentz invarient check: S: {ltinvlhs}, S\\': {ltinvrhs}.')"
   ]
  },
  {
   "cell_type": "code",
   "execution_count": null,
   "metadata": {},
   "outputs": [],
   "source": []
  },
  {
   "cell_type": "code",
   "execution_count": null,
   "metadata": {},
   "outputs": [],
   "source": []
  },
  {
   "cell_type": "code",
   "execution_count": null,
   "metadata": {},
   "outputs": [],
   "source": []
  },
  {
   "cell_type": "code",
   "execution_count": null,
   "metadata": {},
   "outputs": [],
   "source": []
  }
 ],
 "metadata": {
  "kernelspec": {
   "display_name": "Python 3",
   "language": "python",
   "name": "python3"
  },
  "language_info": {
   "codemirror_mode": {
    "name": "ipython",
    "version": 3
   },
   "file_extension": ".py",
   "mimetype": "text/x-python",
   "name": "python",
   "nbconvert_exporter": "python",
   "pygments_lexer": "ipython3",
   "version": "3.10.13"
  }
 },
 "nbformat": 4,
 "nbformat_minor": 2
}
