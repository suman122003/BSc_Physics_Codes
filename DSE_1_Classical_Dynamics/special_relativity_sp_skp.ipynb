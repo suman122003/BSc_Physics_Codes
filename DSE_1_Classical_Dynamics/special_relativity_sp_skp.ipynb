{
 "cells": [
  {
   "cell_type": "markdown",
   "metadata": {},
   "source": [
    "# Special Relativity (Analytical) - SKP"
   ]
  },
  {
   "cell_type": "code",
   "execution_count": 64,
   "metadata": {},
   "outputs": [],
   "source": [
    "import numpy as np\n",
    "import matplotlib.pyplot as plt\n",
    "\n",
    "import sympy as sp\n",
    "sp.init_printing(use_unicode=True)"
   ]
  },
  {
   "cell_type": "markdown",
   "metadata": {},
   "source": [
    "## Using $v$ and $c$"
   ]
  },
  {
   "cell_type": "code",
   "execution_count": 65,
   "metadata": {},
   "outputs": [],
   "source": [
    "v, c = sp.symbols('v c', real=True)\n",
    "x, y, z, t = sp.symbols('x y z t', real=True)\n",
    "xp, yp, zp, tp = sp.symbols('x\\' y\\' z\\' t\\'', real=True)"
   ]
  },
  {
   "cell_type": "code",
   "execution_count": 66,
   "metadata": {},
   "outputs": [
    {
     "data": {
      "image/png": "[encoded data removed]",
      "text/latex": [
       "$\\displaystyle \\left( \\frac{- t v + x}{\\sqrt{1 - \\frac{v^{2}}{c^{2}}}}, \\  y, \\  z, \\  \\frac{t - \\frac{v x}{c^{2}}}{\\sqrt{1 - \\frac{v^{2}}{c^{2}}}}\\right)$"
      ],
      "text/plain": [
       "⎛                             v⋅x    ⎞\n",
       "⎜                         t - ───    ⎟\n",
       "⎜                               2    ⎟\n",
       "⎜   -t⋅v + x                   c     ⎟\n",
       "⎜──────────────, y, z, ──────────────⎟\n",
       "⎜      ________              ________⎟\n",
       "⎜     ╱      2              ╱      2 ⎟\n",
       "⎜    ╱      v              ╱      v  ⎟\n",
       "⎜   ╱   1 - ──            ╱   1 - ── ⎟\n",
       "⎜  ╱         2           ╱         2 ⎟\n",
       "⎝╲╱         c          ╲╱         c  ⎠"
      ]
     },
     "metadata": {},
     "output_type": "display_data"
    },
    {
     "data": {
      "image/png": "[encoded data removed]",
      "text/latex": [
       "$\\displaystyle \\left( \\frac{- t' v + x'}{\\sqrt{1 - \\frac{v^{2}}{c^{2}}}}, \\  y', \\  z', \\  \\frac{t' - \\frac{v x'}{c^{2}}}{\\sqrt{1 - \\frac{v^{2}}{c^{2}}}}\\right)$"
      ],
      "text/plain": [
       "⎛                               v⋅x'   ⎞\n",
       "⎜                          t' - ────   ⎟\n",
       "⎜                                 2    ⎟\n",
       "⎜  -t'⋅v + x'                    c     ⎟\n",
       "⎜──────────────, y', z', ──────────────⎟\n",
       "⎜      ________                ________⎟\n",
       "⎜     ╱      2                ╱      2 ⎟\n",
       "⎜    ╱      v                ╱      v  ⎟\n",
       "⎜   ╱   1 - ──              ╱   1 - ── ⎟\n",
       "⎜  ╱         2             ╱         2 ⎟\n",
       "⎝╲╱         c            ╲╱         c  ⎠"
      ]
     },
     "metadata": {},
     "output_type": "display_data"
    }
   ],
   "source": [
    "xpf = lambda x,y,z,t: (x-v*t)/sp.sqrt(1-v**2/c**2)\n",
    "ypf, zpf = lambda x,y,z,t: y, lambda x,y,z,t: z\n",
    "tpf = lambda x,y,z,t: (t-v*x/c**2)/sp.sqrt(1-v**2/c**2)\n",
    "display((xpf(x,y,z,t), ypf(x,y,z,t), zpf(x,y,z,t), tpf(x,y,z,t)))\n",
    "\n",
    "xf = lambda xp,yp,zp,tp: (xp-v*tp)/sp.sqrt(1-v**2/c**2)\n",
    "yf, zf = lambda xp,yp,zp,tp: yp, lambda xp,yp,zp,tp: zp\n",
    "tf = lambda xp,yp,zp,tp: (tp-v*xp/c**2)/sp.sqrt(1-v**2/c**2)\n",
    "display((xf(xp,yp,zp,tp), yf(xp,yp,zp,tp), zf(xp,yp,zp,tp), tf(xp,yp,zp,tp)))"
   ]
  },
  {
   "cell_type": "markdown",
   "metadata": {},
   "source": [
    "Lorentz invariant:\n",
    "$$- \\omega^{2} + x^{2} + y^{2} + z^{2} = - \\omega'^{2} + x'^{2} + y'^{2} + z'^{2}$$"
   ]
  },
  {
   "cell_type": "code",
   "execution_count": 67,
   "metadata": {},
   "outputs": [
    {
     "data": {
      "image/png": "[encoded data removed]",
      "text/latex": [
       "$\\displaystyle - c^{2} t^{2} + x^{2} + y^{2} + z^{2}$"
      ],
      "text/plain": [
       "   2  2    2    2    2\n",
       "- c ⋅t  + x  + y  + z "
      ]
     },
     "metadata": {},
     "output_type": "display_data"
    },
    {
     "data": {
      "image/png": "[encoded data removed]",
      "text/latex": [
       "$\\displaystyle - c^{2} t'^{2} + x'^{2} + y'^{2} + z'^{2}$"
      ],
      "text/plain": [
       "   2   2     2     2     2\n",
       "- c ⋅t'  + x'  + y'  + z' "
      ]
     },
     "metadata": {},
     "output_type": "display_data"
    }
   ],
   "source": [
    "ltinv = xpf(x,y,z,t)**2 +ypf(x,y,z,t)**2 +zpf(x,y,z,t)**2 -c**2*tpf(x,y,z,t)**2\n",
    "display(ltinv.simplify())\n",
    "ltinv = xf(xp,yp,zp,tp)**2 +yf(xp,yp,zp,tp)**2 +zf(xp,yp,zp,tp)**2 -c**2*tf(xp,yp,zp,tp)**2\n",
    "display(ltinv.simplify())"
   ]
  },
  {
   "cell_type": "code",
   "execution_count": null,
   "metadata": {},
   "outputs": [],
   "source": []
  },
  {
   "cell_type": "markdown",
   "metadata": {},
   "source": [
    "## Using $\\beta$ and $\\gamma$"
   ]
  },
  {
   "cell_type": "code",
   "execution_count": 68,
   "metadata": {},
   "outputs": [],
   "source": [
    "bt, gy = sp.symbols('beta gamma', real=True)\n",
    "x, y, z, w = sp.symbols('x y z omega', real=True)\n",
    "xp, yp, zp, wp = sp.symbols('x\\' y\\' z\\' \\omega\\'', real=True)"
   ]
  },
  {
   "cell_type": "code",
   "execution_count": 69,
   "metadata": {},
   "outputs": [
    {
     "data": {
      "image/png": "[encoded data removed]",
      "text/latex": [
       "$\\displaystyle \\left( \\frac{1}{\\sqrt{1 - \\beta^{2}}}, \\  \\frac{- \\beta \\omega + x}{\\sqrt{1 - \\beta^{2}}}, \\  y, \\  z, \\  \\frac{- \\beta x + \\omega}{\\sqrt{1 - \\beta^{2}}}\\right)$"
      ],
      "text/plain": [
       "⎛     1         -β⋅ω + x           -β⋅x + ω ⎞\n",
       "⎜───────────, ───────────, y, z, ───────────⎟\n",
       "⎜   ________     ________           ________⎟\n",
       "⎜  ╱      2     ╱      2           ╱      2 ⎟\n",
       "⎝╲╱  1 - β    ╲╱  1 - β          ╲╱  1 - β  ⎠"
      ]
     },
     "metadata": {},
     "output_type": "display_data"
    },
    {
     "data": {
      "image/png": "[encoded data removed]",
      "text/latex": [
       "$\\displaystyle \\left( \\frac{\\omega' \\beta + x'}{\\sqrt{1 - \\beta^{2}}}, \\  y', \\  z', \\  \\frac{\\omega' + \\beta x'}{\\sqrt{1 - \\beta^{2}}}\\right)$"
      ],
      "text/plain": [
       "⎛\\omega'⋅β + x'          \\omega' + β⋅x'⎞\n",
       "⎜──────────────, y', z', ──────────────⎟\n",
       "⎜    ________                ________  ⎟\n",
       "⎜   ╱      2                ╱      2   ⎟\n",
       "⎝ ╲╱  1 - β               ╲╱  1 - β    ⎠"
      ]
     },
     "metadata": {},
     "output_type": "display_data"
    }
   ],
   "source": [
    "gy = 1/sp.sqrt(1-bt**2)\n",
    "xpf = lambda x,y,z,w: gy*(x-bt*w)\n",
    "ypf, zpf = lambda x,y,z,w: y, lambda x,y,z,w: z\n",
    "wpf = lambda x,y,z,w: gy*(w-bt*x)\n",
    "display((gy, xpf(x,y,z,w), ypf(x,y,z,w), zpf(x,y,z,w), wpf(x,y,z,w)))\n",
    "\n",
    "xf = lambda xp,yp,zp,wp: gy*(xp + bt*wp)\n",
    "yf, zf = lambda xp,yp,zp,wp: yp, lambda xp,yp,zp,wp: zp\n",
    "wf = lambda xp,yp,zp,wp: gy*(wp + bt*xp)\n",
    "display((xf(xp,yp,zp,wp), yf(xp,yp,zp,wp), zf(xp,yp,zp,wp), wf(xp,yp,zp,wp)))"
   ]
  },
  {
   "cell_type": "markdown",
   "metadata": {},
   "source": [
    "Lorentz invariant:\n",
    "$$- \\omega^{2} + x^{2} + y^{2} + z^{2} = - \\omega'^{2} + x'^{2} + y'^{2} + z'^{2}$$"
   ]
  },
  {
   "cell_type": "code",
   "execution_count": 70,
   "metadata": {},
   "outputs": [
    {
     "data": {
      "image/png": "[encoded data removed]",
      "text/latex": [
       "$\\displaystyle - \\omega^{2} + x^{2} + y^{2} + z^{2}$"
      ],
      "text/plain": [
       "   2    2    2    2\n",
       "- ω  + x  + y  + z "
      ]
     },
     "metadata": {},
     "output_type": "display_data"
    }
   ],
   "source": [
    "ltinv = xpf(x,y,z,w)**2 +ypf(x,y,z,w)**2 +zpf(x,y,z,w)**2 -wpf(x,y,z,w)**2\n",
    "display(ltinv.simplify())"
   ]
  },
  {
   "cell_type": "code",
   "execution_count": 71,
   "metadata": {},
   "outputs": [
    {
     "data": {
      "image/png": "[encoded data removed]",
      "text/latex": [
       "$\\displaystyle - \\omega'^{2} + x'^{2} + y'^{2} + z'^{2}$"
      ],
      "text/plain": [
       "         2     2     2     2\n",
       "- \\omega'  + x'  + y'  + z' "
      ]
     },
     "metadata": {},
     "output_type": "display_data"
    }
   ],
   "source": [
    "ltinv = xf(xp,yp,zp,wp)**2 +yf(xp,yp,zp,wp)**2 +zf(xp,yp,zp,wp)**2 -wf(xp,yp,zp,wp)**2\n",
    "display(ltinv.simplify())"
   ]
  },
  {
   "cell_type": "code",
   "execution_count": null,
   "metadata": {},
   "outputs": [],
   "source": []
  },
  {
   "cell_type": "code",
   "execution_count": null,
   "metadata": {},
   "outputs": [],
   "source": []
  },
  {
   "cell_type": "code",
   "execution_count": null,
   "metadata": {},
   "outputs": [],
   "source": []
  }
 ],
 "metadata": {
  "kernelspec": {
   "display_name": "Python 3",
   "language": "python",
   "name": "python3"
  },
  "language_info": {
   "codemirror_mode": {
    "name": "ipython",
    "version": 3
   },
   "file_extension": ".py",
   "mimetype": "text/x-python",
   "name": "python",
   "nbconvert_exporter": "python",
   "pygments_lexer": "ipython3",
   "version": "3.11.1"
  }
 },
 "nbformat": 4,
 "nbformat_minor": 2
}
